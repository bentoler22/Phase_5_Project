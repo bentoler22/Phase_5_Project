{
 "cells": [
  {
   "cell_type": "markdown",
   "metadata": {},
   "source": [
    "# Fake News Detection"
   ]
  },
  {
   "cell_type": "markdown",
   "metadata": {},
   "source": [
    "<img src=\"images/fake_news.jpg\" alt=\"Drawing\" style=\"width: 1000px;height:300px;float: left;\"/>"
   ]
  },
  {
   "cell_type": "markdown",
   "metadata": {},
   "source": [
    "## Summary\n",
    "This prokect uses text data from over 114,000 articles to develop a text classification model that can accuractely identify fake news articles. The data consists of both fake and real news articles from numerous online publiocations such as Reuters and BuzzFeed. The model is being developed for a technology comapny that is looking to reduce misinformation on their platform. Doing so will imporve their customer experience, and reduce the possibility of any legal issues. The data was loaded and cleaned using the pandas library and split into training, testing, and validation datasets using sklearn. The training and validation sets were further split into smaller training and validation sets for faster processing on initial modeling iterations. The model uses classifiers from the sklearn library. After establishing a baseline model, multiple iterations are developed with different preprocessing and feature engineering techniques form the nltk library."
   ]
  },
  {
   "cell_type": "markdown",
   "metadata": {},
   "source": [
    "## Business Problem\n",
    "A social media company is looking to reduce the sharing of misinformation on its platform. Having widespread misinformation on the platform may dicourage new users and may cause the platform to lose existing customers. Additionaly, reducing fake articles on the platform could remove any potential legal issues."
   ]
  },
  {
   "cell_type": "markdown",
   "metadata": {},
   "source": [
    "## Data Understanding\n",
    "This project uses multiple datasets of over 102,000 articles from online publications such as Reuters and BuzzFeed. The data is balanced, having about 52% of the data being fake news articles."
   ]
  },
  {
   "cell_type": "code",
   "execution_count": 109,
   "metadata": {},
   "outputs": [],
   "source": [
    "import pandas as pd\n",
    "from sklearn.model_selection import train_test_split, GridSearchCV\n",
    "from nltk.tokenize import RegexpTokenizer\n",
    "from nltk import FreqDist\n",
    "import matplotlib.pyplot as plt\n",
    "from matplotlib.ticker import MaxNLocator\n",
    "from sklearn.feature_extraction.text import TfidfVectorizer, CountVectorizer\n",
    "from sklearn.naive_bayes import MultinomialNB\n",
    "from sklearn.model_selection import cross_val_score\n",
    "from sklearn.metrics import accuracy_score\n",
    "import nltk\n",
    "from nltk.corpus import stopwords\n",
    "from nltk.stem.snowball import SnowballStemmer\n",
    "from sklearn.svm import SVC\n",
    "from sklearn.ensemble import RandomForestClassifier\n",
    "from nltk.tokenize import word_tokenize, sent_tokenize\n",
    "from nltk.tag import pos_tag\n",
    "from sklearn.linear_model import LogisticRegression\n",
    "from xgboost import XGBClassifier"
   ]
  },
  {
   "cell_type": "code",
   "execution_count": 2,
   "metadata": {
    "scrolled": false
   },
   "outputs": [],
   "source": [
    "# load datasets\n",
    "fake_or_real_df_1 = pd.read_csv('Data/WELFake_Dataset.csv')\n",
    "fake_df_2 = pd.read_csv('Data/Fake.csv')\n",
    "true_df_2 = pd.read_csv('Data/True.csv')"
   ]
  },
  {
   "cell_type": "code",
   "execution_count": 89,
   "metadata": {
    "scrolled": true
   },
   "outputs": [
    {
     "data": {
      "text/html": [
       "<div>\n",
       "<style scoped>\n",
       "    .dataframe tbody tr th:only-of-type {\n",
       "        vertical-align: middle;\n",
       "    }\n",
       "\n",
       "    .dataframe tbody tr th {\n",
       "        vertical-align: top;\n",
       "    }\n",
       "\n",
       "    .dataframe thead th {\n",
       "        text-align: right;\n",
       "    }\n",
       "</style>\n",
       "<table border=\"1\" class=\"dataframe\">\n",
       "  <thead>\n",
       "    <tr style=\"text-align: right;\">\n",
       "      <th></th>\n",
       "      <th>text</th>\n",
       "      <th>label</th>\n",
       "    </tr>\n",
       "  </thead>\n",
       "  <tbody>\n",
       "    <tr>\n",
       "      <th>0</th>\n",
       "      <td>No comment is expected from Barack Obama Membe...</td>\n",
       "      <td>1</td>\n",
       "    </tr>\n",
       "    <tr>\n",
       "      <th>1</th>\n",
       "      <td>Did they post their votes for Hillary already?</td>\n",
       "      <td>1</td>\n",
       "    </tr>\n",
       "    <tr>\n",
       "      <th>2</th>\n",
       "      <td>Now, most of the demonstrators gathered last ...</td>\n",
       "      <td>1</td>\n",
       "    </tr>\n",
       "    <tr>\n",
       "      <th>3</th>\n",
       "      <td>A dozen politically active pastors came here f...</td>\n",
       "      <td>0</td>\n",
       "    </tr>\n",
       "    <tr>\n",
       "      <th>4</th>\n",
       "      <td>The RS-28 Sarmat missile, dubbed Satan 2, will...</td>\n",
       "      <td>1</td>\n",
       "    </tr>\n",
       "  </tbody>\n",
       "</table>\n",
       "</div>"
      ],
      "text/plain": [
       "                                                text label\n",
       "0  No comment is expected from Barack Obama Membe...     1\n",
       "1     Did they post their votes for Hillary already?     1\n",
       "2   Now, most of the demonstrators gathered last ...     1\n",
       "3  A dozen politically active pastors came here f...     0\n",
       "4  The RS-28 Sarmat missile, dubbed Satan 2, will...     1"
      ]
     },
     "execution_count": 89,
     "metadata": {},
     "output_type": "execute_result"
    }
   ],
   "source": [
    "# preview first df\n",
    "fake_or_real_df_1.head()"
   ]
  },
  {
   "cell_type": "code",
   "execution_count": 4,
   "metadata": {
    "scrolled": true
   },
   "outputs": [
    {
     "data": {
      "text/html": [
       "<div>\n",
       "<style scoped>\n",
       "    .dataframe tbody tr th:only-of-type {\n",
       "        vertical-align: middle;\n",
       "    }\n",
       "\n",
       "    .dataframe tbody tr th {\n",
       "        vertical-align: top;\n",
       "    }\n",
       "\n",
       "    .dataframe thead th {\n",
       "        text-align: right;\n",
       "    }\n",
       "</style>\n",
       "<table border=\"1\" class=\"dataframe\">\n",
       "  <thead>\n",
       "    <tr style=\"text-align: right;\">\n",
       "      <th></th>\n",
       "      <th>title</th>\n",
       "      <th>text</th>\n",
       "      <th>subject</th>\n",
       "      <th>date</th>\n",
       "    </tr>\n",
       "  </thead>\n",
       "  <tbody>\n",
       "    <tr>\n",
       "      <th>0</th>\n",
       "      <td>Donald Trump Sends Out Embarrassing New Year’...</td>\n",
       "      <td>Donald Trump just couldn t wish all Americans ...</td>\n",
       "      <td>News</td>\n",
       "      <td>December 31, 2017</td>\n",
       "    </tr>\n",
       "    <tr>\n",
       "      <th>1</th>\n",
       "      <td>Drunk Bragging Trump Staffer Started Russian ...</td>\n",
       "      <td>House Intelligence Committee Chairman Devin Nu...</td>\n",
       "      <td>News</td>\n",
       "      <td>December 31, 2017</td>\n",
       "    </tr>\n",
       "    <tr>\n",
       "      <th>2</th>\n",
       "      <td>Sheriff David Clarke Becomes An Internet Joke...</td>\n",
       "      <td>On Friday, it was revealed that former Milwauk...</td>\n",
       "      <td>News</td>\n",
       "      <td>December 30, 2017</td>\n",
       "    </tr>\n",
       "    <tr>\n",
       "      <th>3</th>\n",
       "      <td>Trump Is So Obsessed He Even Has Obama’s Name...</td>\n",
       "      <td>On Christmas day, Donald Trump announced that ...</td>\n",
       "      <td>News</td>\n",
       "      <td>December 29, 2017</td>\n",
       "    </tr>\n",
       "    <tr>\n",
       "      <th>4</th>\n",
       "      <td>Pope Francis Just Called Out Donald Trump Dur...</td>\n",
       "      <td>Pope Francis used his annual Christmas Day mes...</td>\n",
       "      <td>News</td>\n",
       "      <td>December 25, 2017</td>\n",
       "    </tr>\n",
       "  </tbody>\n",
       "</table>\n",
       "</div>"
      ],
      "text/plain": [
       "                                               title  \\\n",
       "0   Donald Trump Sends Out Embarrassing New Year’...   \n",
       "1   Drunk Bragging Trump Staffer Started Russian ...   \n",
       "2   Sheriff David Clarke Becomes An Internet Joke...   \n",
       "3   Trump Is So Obsessed He Even Has Obama’s Name...   \n",
       "4   Pope Francis Just Called Out Donald Trump Dur...   \n",
       "\n",
       "                                                text subject  \\\n",
       "0  Donald Trump just couldn t wish all Americans ...    News   \n",
       "1  House Intelligence Committee Chairman Devin Nu...    News   \n",
       "2  On Friday, it was revealed that former Milwauk...    News   \n",
       "3  On Christmas day, Donald Trump announced that ...    News   \n",
       "4  Pope Francis used his annual Christmas Day mes...    News   \n",
       "\n",
       "                date  \n",
       "0  December 31, 2017  \n",
       "1  December 31, 2017  \n",
       "2  December 30, 2017  \n",
       "3  December 29, 2017  \n",
       "4  December 25, 2017  "
      ]
     },
     "execution_count": 4,
     "metadata": {},
     "output_type": "execute_result"
    }
   ],
   "source": [
    "# preview second df\n",
    "fake_df_2.head()"
   ]
  },
  {
   "cell_type": "code",
   "execution_count": 5,
   "metadata": {
    "scrolled": true
   },
   "outputs": [
    {
     "data": {
      "text/html": [
       "<div>\n",
       "<style scoped>\n",
       "    .dataframe tbody tr th:only-of-type {\n",
       "        vertical-align: middle;\n",
       "    }\n",
       "\n",
       "    .dataframe tbody tr th {\n",
       "        vertical-align: top;\n",
       "    }\n",
       "\n",
       "    .dataframe thead th {\n",
       "        text-align: right;\n",
       "    }\n",
       "</style>\n",
       "<table border=\"1\" class=\"dataframe\">\n",
       "  <thead>\n",
       "    <tr style=\"text-align: right;\">\n",
       "      <th></th>\n",
       "      <th>title</th>\n",
       "      <th>text</th>\n",
       "      <th>subject</th>\n",
       "      <th>date</th>\n",
       "    </tr>\n",
       "  </thead>\n",
       "  <tbody>\n",
       "    <tr>\n",
       "      <th>0</th>\n",
       "      <td>As U.S. budget fight looms, Republicans flip t...</td>\n",
       "      <td>WASHINGTON (Reuters) - The head of a conservat...</td>\n",
       "      <td>politicsNews</td>\n",
       "      <td>December 31, 2017</td>\n",
       "    </tr>\n",
       "    <tr>\n",
       "      <th>1</th>\n",
       "      <td>U.S. military to accept transgender recruits o...</td>\n",
       "      <td>WASHINGTON (Reuters) - Transgender people will...</td>\n",
       "      <td>politicsNews</td>\n",
       "      <td>December 29, 2017</td>\n",
       "    </tr>\n",
       "    <tr>\n",
       "      <th>2</th>\n",
       "      <td>Senior U.S. Republican senator: 'Let Mr. Muell...</td>\n",
       "      <td>WASHINGTON (Reuters) - The special counsel inv...</td>\n",
       "      <td>politicsNews</td>\n",
       "      <td>December 31, 2017</td>\n",
       "    </tr>\n",
       "    <tr>\n",
       "      <th>3</th>\n",
       "      <td>FBI Russia probe helped by Australian diplomat...</td>\n",
       "      <td>WASHINGTON (Reuters) - Trump campaign adviser ...</td>\n",
       "      <td>politicsNews</td>\n",
       "      <td>December 30, 2017</td>\n",
       "    </tr>\n",
       "    <tr>\n",
       "      <th>4</th>\n",
       "      <td>Trump wants Postal Service to charge 'much mor...</td>\n",
       "      <td>SEATTLE/WASHINGTON (Reuters) - President Donal...</td>\n",
       "      <td>politicsNews</td>\n",
       "      <td>December 29, 2017</td>\n",
       "    </tr>\n",
       "  </tbody>\n",
       "</table>\n",
       "</div>"
      ],
      "text/plain": [
       "                                               title  \\\n",
       "0  As U.S. budget fight looms, Republicans flip t...   \n",
       "1  U.S. military to accept transgender recruits o...   \n",
       "2  Senior U.S. Republican senator: 'Let Mr. Muell...   \n",
       "3  FBI Russia probe helped by Australian diplomat...   \n",
       "4  Trump wants Postal Service to charge 'much mor...   \n",
       "\n",
       "                                                text       subject  \\\n",
       "0  WASHINGTON (Reuters) - The head of a conservat...  politicsNews   \n",
       "1  WASHINGTON (Reuters) - Transgender people will...  politicsNews   \n",
       "2  WASHINGTON (Reuters) - The special counsel inv...  politicsNews   \n",
       "3  WASHINGTON (Reuters) - Trump campaign adviser ...  politicsNews   \n",
       "4  SEATTLE/WASHINGTON (Reuters) - President Donal...  politicsNews   \n",
       "\n",
       "                 date  \n",
       "0  December 31, 2017   \n",
       "1  December 29, 2017   \n",
       "2  December 31, 2017   \n",
       "3  December 30, 2017   \n",
       "4  December 29, 2017   "
      ]
     },
     "execution_count": 5,
     "metadata": {},
     "output_type": "execute_result"
    }
   ],
   "source": [
    "# preview third df\n",
    "true_df_2.head()"
   ]
  },
  {
   "cell_type": "code",
   "execution_count": 6,
   "metadata": {
    "scrolled": true
   },
   "outputs": [],
   "source": [
    "# select desired columns from each dataframe and set label to string dtype\n",
    "fake_or_real_df_1 = fake_or_real_df_1[['text', 'label']]\n",
    "fake_or_real_df_1['label'] = fake_or_real_df_1['label'].astype(dtype='str')\n",
    "\n",
    "fake_df_2 = fake_df_2[['text']]\n",
    "true_df_2 = true_df_2[['text']]\n",
    "\n",
    "fake_df_2['label'] = '0'\n",
    "true_df_2['label'] = '1'"
   ]
  },
  {
   "cell_type": "code",
   "execution_count": 7,
   "metadata": {},
   "outputs": [],
   "source": [
    "# combine all three datasets\n",
    "fake_or_real_df = pd.concat([fake_or_real_df_1, fake_df_2, true_df_2])"
   ]
  },
  {
   "cell_type": "code",
   "execution_count": 8,
   "metadata": {
    "scrolled": true
   },
   "outputs": [
    {
     "data": {
      "text/html": [
       "<div>\n",
       "<style scoped>\n",
       "    .dataframe tbody tr th:only-of-type {\n",
       "        vertical-align: middle;\n",
       "    }\n",
       "\n",
       "    .dataframe tbody tr th {\n",
       "        vertical-align: top;\n",
       "    }\n",
       "\n",
       "    .dataframe thead th {\n",
       "        text-align: right;\n",
       "    }\n",
       "</style>\n",
       "<table border=\"1\" class=\"dataframe\">\n",
       "  <thead>\n",
       "    <tr style=\"text-align: right;\">\n",
       "      <th></th>\n",
       "      <th>text</th>\n",
       "      <th>label</th>\n",
       "    </tr>\n",
       "  </thead>\n",
       "  <tbody>\n",
       "    <tr>\n",
       "      <th>0</th>\n",
       "      <td>No comment is expected from Barack Obama Membe...</td>\n",
       "      <td>1</td>\n",
       "    </tr>\n",
       "    <tr>\n",
       "      <th>1</th>\n",
       "      <td>Did they post their votes for Hillary already?</td>\n",
       "      <td>1</td>\n",
       "    </tr>\n",
       "    <tr>\n",
       "      <th>2</th>\n",
       "      <td>Now, most of the demonstrators gathered last ...</td>\n",
       "      <td>1</td>\n",
       "    </tr>\n",
       "    <tr>\n",
       "      <th>3</th>\n",
       "      <td>A dozen politically active pastors came here f...</td>\n",
       "      <td>0</td>\n",
       "    </tr>\n",
       "    <tr>\n",
       "      <th>4</th>\n",
       "      <td>The RS-28 Sarmat missile, dubbed Satan 2, will...</td>\n",
       "      <td>1</td>\n",
       "    </tr>\n",
       "  </tbody>\n",
       "</table>\n",
       "</div>"
      ],
      "text/plain": [
       "                                                text label\n",
       "0  No comment is expected from Barack Obama Membe...     1\n",
       "1     Did they post their votes for Hillary already?     1\n",
       "2   Now, most of the demonstrators gathered last ...     1\n",
       "3  A dozen politically active pastors came here f...     0\n",
       "4  The RS-28 Sarmat missile, dubbed Satan 2, will...     1"
      ]
     },
     "execution_count": 8,
     "metadata": {},
     "output_type": "execute_result"
    }
   ],
   "source": [
    "# preview full dataset\n",
    "fake_or_real_df.head()"
   ]
  },
  {
   "cell_type": "code",
   "execution_count": 9,
   "metadata": {},
   "outputs": [],
   "source": [
    "# remove duplicate data points and missing value\n",
    "fake_or_real_df.drop_duplicates(inplace=True)\n",
    "fake_or_real_df.dropna(inplace=True)"
   ]
  },
  {
   "cell_type": "code",
   "execution_count": 10,
   "metadata": {},
   "outputs": [
    {
     "data": {
      "text/html": [
       "<div>\n",
       "<style scoped>\n",
       "    .dataframe tbody tr th:only-of-type {\n",
       "        vertical-align: middle;\n",
       "    }\n",
       "\n",
       "    .dataframe tbody tr th {\n",
       "        vertical-align: top;\n",
       "    }\n",
       "\n",
       "    .dataframe thead th {\n",
       "        text-align: right;\n",
       "    }\n",
       "</style>\n",
       "<table border=\"1\" class=\"dataframe\">\n",
       "  <thead>\n",
       "    <tr style=\"text-align: right;\">\n",
       "      <th></th>\n",
       "      <th>text</th>\n",
       "      <th>label</th>\n",
       "    </tr>\n",
       "  </thead>\n",
       "  <tbody>\n",
       "    <tr>\n",
       "      <th>0</th>\n",
       "      <td>No comment is expected from Barack Obama Membe...</td>\n",
       "      <td>1</td>\n",
       "    </tr>\n",
       "    <tr>\n",
       "      <th>1</th>\n",
       "      <td>Did they post their votes for Hillary already?</td>\n",
       "      <td>1</td>\n",
       "    </tr>\n",
       "    <tr>\n",
       "      <th>2</th>\n",
       "      <td>Now, most of the demonstrators gathered last ...</td>\n",
       "      <td>1</td>\n",
       "    </tr>\n",
       "    <tr>\n",
       "      <th>3</th>\n",
       "      <td>A dozen politically active pastors came here f...</td>\n",
       "      <td>0</td>\n",
       "    </tr>\n",
       "    <tr>\n",
       "      <th>4</th>\n",
       "      <td>The RS-28 Sarmat missile, dubbed Satan 2, will...</td>\n",
       "      <td>1</td>\n",
       "    </tr>\n",
       "    <tr>\n",
       "      <th>...</th>\n",
       "      <td>...</td>\n",
       "      <td>...</td>\n",
       "    </tr>\n",
       "    <tr>\n",
       "      <th>21412</th>\n",
       "      <td>BRUSSELS (Reuters) - NATO allies on Tuesday we...</td>\n",
       "      <td>1</td>\n",
       "    </tr>\n",
       "    <tr>\n",
       "      <th>21413</th>\n",
       "      <td>LONDON (Reuters) - LexisNexis, a provider of l...</td>\n",
       "      <td>1</td>\n",
       "    </tr>\n",
       "    <tr>\n",
       "      <th>21414</th>\n",
       "      <td>MINSK (Reuters) - In the shadow of disused Sov...</td>\n",
       "      <td>1</td>\n",
       "    </tr>\n",
       "    <tr>\n",
       "      <th>21415</th>\n",
       "      <td>MOSCOW (Reuters) - Vatican Secretary of State ...</td>\n",
       "      <td>1</td>\n",
       "    </tr>\n",
       "    <tr>\n",
       "      <th>21416</th>\n",
       "      <td>JAKARTA (Reuters) - Indonesia will buy 11 Sukh...</td>\n",
       "      <td>1</td>\n",
       "    </tr>\n",
       "  </tbody>\n",
       "</table>\n",
       "<p>101364 rows × 2 columns</p>\n",
       "</div>"
      ],
      "text/plain": [
       "                                                    text label\n",
       "0      No comment is expected from Barack Obama Membe...     1\n",
       "1         Did they post their votes for Hillary already?     1\n",
       "2       Now, most of the demonstrators gathered last ...     1\n",
       "3      A dozen politically active pastors came here f...     0\n",
       "4      The RS-28 Sarmat missile, dubbed Satan 2, will...     1\n",
       "...                                                  ...   ...\n",
       "21412  BRUSSELS (Reuters) - NATO allies on Tuesday we...     1\n",
       "21413  LONDON (Reuters) - LexisNexis, a provider of l...     1\n",
       "21414  MINSK (Reuters) - In the shadow of disused Sov...     1\n",
       "21415  MOSCOW (Reuters) - Vatican Secretary of State ...     1\n",
       "21416  JAKARTA (Reuters) - Indonesia will buy 11 Sukh...     1\n",
       "\n",
       "[101364 rows x 2 columns]"
      ]
     },
     "execution_count": 10,
     "metadata": {},
     "output_type": "execute_result"
    }
   ],
   "source": [
    "# preview final full dataset\n",
    "fake_or_real_df"
   ]
  },
  {
   "cell_type": "code",
   "execution_count": 11,
   "metadata": {
    "scrolled": false
   },
   "outputs": [
    {
     "data": {
      "text/plain": [
       "0    0.513743\n",
       "1    0.486257\n",
       "Name: label, dtype: float64"
      ]
     },
     "execution_count": 11,
     "metadata": {},
     "output_type": "execute_result"
    }
   ],
   "source": [
    "# check class balance\n",
    "fake_or_real_df.label.value_counts(normalize=True)"
   ]
  },
  {
   "cell_type": "code",
   "execution_count": 12,
   "metadata": {},
   "outputs": [
    {
     "name": "stdout",
     "output_type": "stream",
     "text": [
      "Fake Articles:  52075\n",
      "Real Articles:  49289\n"
     ]
    },
    {
     "data": {
      "image/png": "[encoded data removed]",
      "text/plain": [
       "<Figure size 432x360 with 1 Axes>"
      ]
     },
     "metadata": {
      "needs_background": "light"
     },
     "output_type": "display_data"
    }
   ],
   "source": [
    "# plot the class distribution\n",
    "counts = fake_or_real_df.label.value_counts()\n",
    "fig, ax = plt.subplots(figsize=(6, 5))\n",
    "plt.bar(['Fake', 'Real'], counts);\n",
    "plt.ylabel('# Articles', fontsize=14);\n",
    "plt.xticks(fontsize=14)\n",
    "print(\"Fake Articles: \", counts[0])\n",
    "print(\"Real Articles: \", counts[1])"
   ]
  },
  {
   "cell_type": "markdown",
   "metadata": {},
   "source": [
    "## Data Preparation and Exploration\n",
    "The case of the text data is standarized and toeknized. The frequency distributions of the data are examined. The data is then split into a train, test, and validation set. The training and validation sets are further split into more manegable subsets for faster processing during iniial modeling."
   ]
  },
  {
   "cell_type": "markdown",
   "metadata": {},
   "source": [
    "### Data Cleaning"
   ]
  },
  {
   "cell_type": "code",
   "execution_count": 13,
   "metadata": {},
   "outputs": [],
   "source": [
    "# Transform  data to lowercase\n",
    "fake_or_real_df['text'] = fake_or_real_df['text'].str.lower()"
   ]
  },
  {
   "cell_type": "code",
   "execution_count": 14,
   "metadata": {},
   "outputs": [],
   "source": [
    "# Tokenize data\n",
    "token_pattern = r\"(?u)\\b\\w\\w+\\b\"\n",
    "\n",
    "tokenizer = RegexpTokenizer(token_pattern)\n",
    "\n",
    "# create new column for tokenized data\n",
    "fake_or_real_df['tokenized'] = fake_or_real_df['text'].apply(tokenizer.tokenize)"
   ]
  },
  {
   "cell_type": "code",
   "execution_count": 15,
   "metadata": {
    "scrolled": false
   },
   "outputs": [
    {
     "data": {
      "text/html": [
       "<div>\n",
       "<style scoped>\n",
       "    .dataframe tbody tr th:only-of-type {\n",
       "        vertical-align: middle;\n",
       "    }\n",
       "\n",
       "    .dataframe tbody tr th {\n",
       "        vertical-align: top;\n",
       "    }\n",
       "\n",
       "    .dataframe thead th {\n",
       "        text-align: right;\n",
       "    }\n",
       "</style>\n",
       "<table border=\"1\" class=\"dataframe\">\n",
       "  <thead>\n",
       "    <tr style=\"text-align: right;\">\n",
       "      <th></th>\n",
       "      <th>text</th>\n",
       "      <th>label</th>\n",
       "      <th>tokenized</th>\n",
       "    </tr>\n",
       "  </thead>\n",
       "  <tbody>\n",
       "    <tr>\n",
       "      <th>0</th>\n",
       "      <td>no comment is expected from barack obama membe...</td>\n",
       "      <td>1</td>\n",
       "      <td>[no, comment, is, expected, from, barack, obam...</td>\n",
       "    </tr>\n",
       "    <tr>\n",
       "      <th>1</th>\n",
       "      <td>did they post their votes for hillary already?</td>\n",
       "      <td>1</td>\n",
       "      <td>[did, they, post, their, votes, for, hillary, ...</td>\n",
       "    </tr>\n",
       "    <tr>\n",
       "      <th>2</th>\n",
       "      <td>now, most of the demonstrators gathered last ...</td>\n",
       "      <td>1</td>\n",
       "      <td>[now, most, of, the, demonstrators, gathered, ...</td>\n",
       "    </tr>\n",
       "    <tr>\n",
       "      <th>3</th>\n",
       "      <td>a dozen politically active pastors came here f...</td>\n",
       "      <td>0</td>\n",
       "      <td>[dozen, politically, active, pastors, came, he...</td>\n",
       "    </tr>\n",
       "    <tr>\n",
       "      <th>4</th>\n",
       "      <td>the rs-28 sarmat missile, dubbed satan 2, will...</td>\n",
       "      <td>1</td>\n",
       "      <td>[the, rs, 28, sarmat, missile, dubbed, satan, ...</td>\n",
       "    </tr>\n",
       "    <tr>\n",
       "      <th>...</th>\n",
       "      <td>...</td>\n",
       "      <td>...</td>\n",
       "      <td>...</td>\n",
       "    </tr>\n",
       "    <tr>\n",
       "      <th>21412</th>\n",
       "      <td>brussels (reuters) - nato allies on tuesday we...</td>\n",
       "      <td>1</td>\n",
       "      <td>[brussels, reuters, nato, allies, on, tuesday,...</td>\n",
       "    </tr>\n",
       "    <tr>\n",
       "      <th>21413</th>\n",
       "      <td>london (reuters) - lexisnexis, a provider of l...</td>\n",
       "      <td>1</td>\n",
       "      <td>[london, reuters, lexisnexis, provider, of, le...</td>\n",
       "    </tr>\n",
       "    <tr>\n",
       "      <th>21414</th>\n",
       "      <td>minsk (reuters) - in the shadow of disused sov...</td>\n",
       "      <td>1</td>\n",
       "      <td>[minsk, reuters, in, the, shadow, of, disused,...</td>\n",
       "    </tr>\n",
       "    <tr>\n",
       "      <th>21415</th>\n",
       "      <td>moscow (reuters) - vatican secretary of state ...</td>\n",
       "      <td>1</td>\n",
       "      <td>[moscow, reuters, vatican, secretary, of, stat...</td>\n",
       "    </tr>\n",
       "    <tr>\n",
       "      <th>21416</th>\n",
       "      <td>jakarta (reuters) - indonesia will buy 11 sukh...</td>\n",
       "      <td>1</td>\n",
       "      <td>[jakarta, reuters, indonesia, will, buy, 11, s...</td>\n",
       "    </tr>\n",
       "  </tbody>\n",
       "</table>\n",
       "<p>101364 rows × 3 columns</p>\n",
       "</div>"
      ],
      "text/plain": [
       "                                                    text label  \\\n",
       "0      no comment is expected from barack obama membe...     1   \n",
       "1         did they post their votes for hillary already?     1   \n",
       "2       now, most of the demonstrators gathered last ...     1   \n",
       "3      a dozen politically active pastors came here f...     0   \n",
       "4      the rs-28 sarmat missile, dubbed satan 2, will...     1   \n",
       "...                                                  ...   ...   \n",
       "21412  brussels (reuters) - nato allies on tuesday we...     1   \n",
       "21413  london (reuters) - lexisnexis, a provider of l...     1   \n",
       "21414  minsk (reuters) - in the shadow of disused sov...     1   \n",
       "21415  moscow (reuters) - vatican secretary of state ...     1   \n",
       "21416  jakarta (reuters) - indonesia will buy 11 sukh...     1   \n",
       "\n",
       "                                               tokenized  \n",
       "0      [no, comment, is, expected, from, barack, obam...  \n",
       "1      [did, they, post, their, votes, for, hillary, ...  \n",
       "2      [now, most, of, the, demonstrators, gathered, ...  \n",
       "3      [dozen, politically, active, pastors, came, he...  \n",
       "4      [the, rs, 28, sarmat, missile, dubbed, satan, ...  \n",
       "...                                                  ...  \n",
       "21412  [brussels, reuters, nato, allies, on, tuesday,...  \n",
       "21413  [london, reuters, lexisnexis, provider, of, le...  \n",
       "21414  [minsk, reuters, in, the, shadow, of, disused,...  \n",
       "21415  [moscow, reuters, vatican, secretary, of, stat...  \n",
       "21416  [jakarta, reuters, indonesia, will, buy, 11, s...  \n",
       "\n",
       "[101364 rows x 3 columns]"
      ]
     },
     "execution_count": 15,
     "metadata": {},
     "output_type": "execute_result"
    }
   ],
   "source": [
    "fake_or_real_df"
   ]
  },
  {
   "cell_type": "markdown",
   "metadata": {},
   "source": [
    "### Data Splitting"
   ]
  },
  {
   "cell_type": "code",
   "execution_count": 16,
   "metadata": {},
   "outputs": [],
   "source": [
    "# define featrues and target variables\n",
    "X = fake_or_real_df[['text', 'tokenized']]\n",
    "y = fake_or_real_df['label']"
   ]
  },
  {
   "cell_type": "code",
   "execution_count": 17,
   "metadata": {},
   "outputs": [],
   "source": [
    "# intial split of data into traiing and test sets with 15% test size\n",
    "X_train_1, X_test, y_train_1, y_test = train_test_split(X, y, test_size=.15, \n",
    "                                                        random_state=42)"
   ]
  },
  {
   "cell_type": "code",
   "execution_count": 18,
   "metadata": {},
   "outputs": [],
   "source": [
    "# second split of data into training and validation sets with 15% val size\n",
    "X_train, X_val, y_train, y_val = train_test_split(X_train_1, y_train_1, \n",
    "                                                  test_size=0.15,\n",
    "                                                  random_state=42)"
   ]
  },
  {
   "cell_type": "code",
   "execution_count": 19,
   "metadata": {},
   "outputs": [],
   "source": [
    "# third split of data into smaller training and val sets\n",
    "X_train_sub, x1, y_train_sub, y1 = train_test_split(X_train, y_train, \n",
    "                                                  test_size=0.8,\n",
    "                                                  random_state=42)\n",
    "\n",
    "X_val_sub, x2, y_val_sub, y2 = train_test_split(X_val, y_val, \n",
    "                                                test_size=0.8,\n",
    "                                                random_state=42)"
   ]
  },
  {
   "cell_type": "code",
   "execution_count": 20,
   "metadata": {
    "scrolled": false
   },
   "outputs": [],
   "source": [
    "#reset index of subsets\n",
    "X_train_sub.reset_index(drop=True, inplace=True)\n",
    "X_val_sub.reset_index(drop=True, inplace=True)\n",
    "\n",
    "y_train_sub.reset_index(drop=True, inplace=True)\n",
    "y_val_sub.reset_index(drop=True, inplace=True)"
   ]
  },
  {
   "cell_type": "code",
   "execution_count": 22,
   "metadata": {
    "scrolled": true
   },
   "outputs": [
    {
     "data": {
      "text/html": [
       "<div>\n",
       "<style scoped>\n",
       "    .dataframe tbody tr th:only-of-type {\n",
       "        vertical-align: middle;\n",
       "    }\n",
       "\n",
       "    .dataframe tbody tr th {\n",
       "        vertical-align: top;\n",
       "    }\n",
       "\n",
       "    .dataframe thead th {\n",
       "        text-align: right;\n",
       "    }\n",
       "</style>\n",
       "<table border=\"1\" class=\"dataframe\">\n",
       "  <thead>\n",
       "    <tr style=\"text-align: right;\">\n",
       "      <th></th>\n",
       "      <th>text</th>\n",
       "      <th>tokenized</th>\n",
       "    </tr>\n",
       "  </thead>\n",
       "  <tbody>\n",
       "    <tr>\n",
       "      <th>0</th>\n",
       "      <td>washington (reuters) - republican presidential...</td>\n",
       "      <td>[washington, reuters, republican, presidential...</td>\n",
       "    </tr>\n",
       "    <tr>\n",
       "      <th>1</th>\n",
       "      <td>canada's liberal party won a decisive majority...</td>\n",
       "      <td>[canada, liberal, party, won, decisive, majori...</td>\n",
       "    </tr>\n",
       "    <tr>\n",
       "      <th>2</th>\n",
       "      <td>washington (reuters) - u.s. house speaker paul...</td>\n",
       "      <td>[washington, reuters, house, speaker, paul, ry...</td>\n",
       "    </tr>\n",
       "    <tr>\n",
       "      <th>3</th>\n",
       "      <td>hillary clinton has been gearing up for months...</td>\n",
       "      <td>[hillary, clinton, has, been, gearing, up, for...</td>\n",
       "    </tr>\n",
       "    <tr>\n",
       "      <th>4</th>\n",
       "      <td>keywords: medical equipment , stethoscope fact...</td>\n",
       "      <td>[keywords, medical, equipment, stethoscope, fa...</td>\n",
       "    </tr>\n",
       "    <tr>\n",
       "      <th>...</th>\n",
       "      <td>...</td>\n",
       "      <td>...</td>\n",
       "    </tr>\n",
       "    <tr>\n",
       "      <th>14642</th>\n",
       "      <td>just another slap in the face to us citizens. ...</td>\n",
       "      <td>[just, another, slap, in, the, face, to, us, c...</td>\n",
       "    </tr>\n",
       "    <tr>\n",
       "      <th>14643</th>\n",
       "      <td>rancho mirage, calif. (reuters) - u.s. preside...</td>\n",
       "      <td>[rancho, mirage, calif, reuters, president, ba...</td>\n",
       "    </tr>\n",
       "    <tr>\n",
       "      <th>14644</th>\n",
       "      <td>tokyo (reuters) - a typhoon roared towards jap...</td>\n",
       "      <td>[tokyo, reuters, typhoon, roared, towards, jap...</td>\n",
       "    </tr>\n",
       "    <tr>\n",
       "      <th>14645</th>\n",
       "      <td>washington (reuters) - libertarian party presi...</td>\n",
       "      <td>[washington, reuters, libertarian, party, pres...</td>\n",
       "    </tr>\n",
       "    <tr>\n",
       "      <th>14646</th>\n",
       "      <td>washington (reuters) - president trump told re...</td>\n",
       "      <td>[washington, reuters, president, trump, told, ...</td>\n",
       "    </tr>\n",
       "  </tbody>\n",
       "</table>\n",
       "<p>14647 rows × 2 columns</p>\n",
       "</div>"
      ],
      "text/plain": [
       "                                                    text  \\\n",
       "0      washington (reuters) - republican presidential...   \n",
       "1      canada's liberal party won a decisive majority...   \n",
       "2      washington (reuters) - u.s. house speaker paul...   \n",
       "3      hillary clinton has been gearing up for months...   \n",
       "4      keywords: medical equipment , stethoscope fact...   \n",
       "...                                                  ...   \n",
       "14642  just another slap in the face to us citizens. ...   \n",
       "14643  rancho mirage, calif. (reuters) - u.s. preside...   \n",
       "14644  tokyo (reuters) - a typhoon roared towards jap...   \n",
       "14645  washington (reuters) - libertarian party presi...   \n",
       "14646  washington (reuters) - president trump told re...   \n",
       "\n",
       "                                               tokenized  \n",
       "0      [washington, reuters, republican, presidential...  \n",
       "1      [canada, liberal, party, won, decisive, majori...  \n",
       "2      [washington, reuters, house, speaker, paul, ry...  \n",
       "3      [hillary, clinton, has, been, gearing, up, for...  \n",
       "4      [keywords, medical, equipment, stethoscope, fa...  \n",
       "...                                                  ...  \n",
       "14642  [just, another, slap, in, the, face, to, us, c...  \n",
       "14643  [rancho, mirage, calif, reuters, president, ba...  \n",
       "14644  [tokyo, reuters, typhoon, roared, towards, jap...  \n",
       "14645  [washington, reuters, libertarian, party, pres...  \n",
       "14646  [washington, reuters, president, trump, told, ...  \n",
       "\n",
       "[14647 rows x 2 columns]"
      ]
     },
     "execution_count": 22,
     "metadata": {},
     "output_type": "execute_result"
    }
   ],
   "source": [
    "X_train_sub"
   ]
  },
  {
   "cell_type": "markdown",
   "metadata": {},
   "source": [
    "### Exploratory Data Analysis"
   ]
  },
  {
   "cell_type": "code",
   "execution_count": 23,
   "metadata": {},
   "outputs": [],
   "source": [
    "# define function for plotting top 10 words of freq dist\n",
    "def visualize_top_10(freq_dist, title):\n",
    "\n",
    "    # Extract data for plotting\n",
    "    top_10 = list(zip(*freq_dist.most_common(10)))\n",
    "    tokens = top_10[0]\n",
    "    counts = top_10[1]\n",
    "\n",
    "    # Set up plot and plot data\n",
    "    fig, ax = plt.subplots()\n",
    "    ax.bar(tokens, counts)\n",
    "\n",
    "    # Customize plot appearance\n",
    "    ax.set_title(title)\n",
    "    ax.set_ylabel(\"Count\")\n",
    "    ax.yaxis.set_major_locator(MaxNLocator(integer=True))\n",
    "    ax.tick_params(axis=\"x\", rotation=90)"
   ]
  },
  {
   "cell_type": "code",
   "execution_count": 99,
   "metadata": {},
   "outputs": [
    {
     "data": {
      "image/png": "[encoded data removed]",
      "text/plain": [
       "<Figure size 432x288 with 1 Axes>"
      ]
     },
     "metadata": {
      "needs_background": "light"
     },
     "output_type": "display_data"
    }
   ],
   "source": [
    "# top 10 words of training set\n",
    "freq_dist = FreqDist(X_train_sub['tokenized'].explode())\n",
    "visualize_top_10(freq_dist, \"Top 10 Word Frequency for Full Dataset\")"
   ]
  },
  {
   "cell_type": "code",
   "execution_count": 101,
   "metadata": {},
   "outputs": [
    {
     "data": {
      "image/png": "[encoded data removed]",
      "text/plain": [
       "<Figure size 432x288 with 1 Axes>"
      ]
     },
     "metadata": {
      "needs_background": "light"
     },
     "output_type": "display_data"
    }
   ],
   "source": [
    "# top 10 words of real articles\n",
    "true_freq_dist = FreqDist(fake_or_real_df.loc[fake_or_real_df.label == '1', 'tokenized'].explode())\n",
    "visualize_top_10(true_freq_dist, \"Top 10 Word Frequency for Real Text\")"
   ]
  },
  {
   "cell_type": "code",
   "execution_count": 102,
   "metadata": {},
   "outputs": [
    {
     "data": {
      "image/png": "[encoded data removed]",
      "text/plain": [
       "<Figure size 432x288 with 1 Axes>"
      ]
     },
     "metadata": {
      "needs_background": "light"
     },
     "output_type": "display_data"
    }
   ],
   "source": [
    "# top 20 words of fake articles\n",
    "fake_freq_dist = FreqDist(fake_or_real_df.loc[fake_or_real_df.label == '0', 'tokenized'].explode())\n",
    "visualize_top_10(fake_freq_dist, \"Top 10 Word Frequency for Fake Text\")"
   ]
  },
  {
   "cell_type": "markdown",
   "metadata": {},
   "source": [
    "## Baseline Modeling\n",
    "A baseline naive bayes tfidf model is developed for compariosn to furture iterations."
   ]
  },
  {
   "cell_type": "code",
   "execution_count": 24,
   "metadata": {},
   "outputs": [
    {
     "name": "stderr",
     "output_type": "stream",
     "text": [
      "C:\\Users\\bento\\anaconda3.0\\lib\\site-packages\\sklearn\\utils\\deprecation.py:87: FutureWarning: Function get_feature_names is deprecated; get_feature_names is deprecated in 1.0 and will be removed in 1.2. Please use get_feature_names_out instead.\n",
      "  warnings.warn(msg, category=FutureWarning)\n"
     ]
    },
    {
     "data": {
      "text/html": [
       "<div>\n",
       "<style scoped>\n",
       "    .dataframe tbody tr th:only-of-type {\n",
       "        vertical-align: middle;\n",
       "    }\n",
       "\n",
       "    .dataframe tbody tr th {\n",
       "        vertical-align: top;\n",
       "    }\n",
       "\n",
       "    .dataframe thead th {\n",
       "        text-align: right;\n",
       "    }\n",
       "</style>\n",
       "<table border=\"1\" class=\"dataframe\">\n",
       "  <thead>\n",
       "    <tr style=\"text-align: right;\">\n",
       "      <th></th>\n",
       "      <th>and</th>\n",
       "      <th>for</th>\n",
       "      <th>in</th>\n",
       "      <th>is</th>\n",
       "      <th>it</th>\n",
       "      <th>of</th>\n",
       "      <th>on</th>\n",
       "      <th>that</th>\n",
       "      <th>the</th>\n",
       "      <th>to</th>\n",
       "    </tr>\n",
       "  </thead>\n",
       "  <tbody>\n",
       "    <tr>\n",
       "      <th>0</th>\n",
       "      <td>0.287328</td>\n",
       "      <td>0.000000</td>\n",
       "      <td>0.385180</td>\n",
       "      <td>0.107605</td>\n",
       "      <td>0.112481</td>\n",
       "      <td>0.000000</td>\n",
       "      <td>0.194577</td>\n",
       "      <td>0.000000</td>\n",
       "      <td>0.369076</td>\n",
       "      <td>0.755494</td>\n",
       "    </tr>\n",
       "    <tr>\n",
       "      <th>1</th>\n",
       "      <td>0.097035</td>\n",
       "      <td>0.053176</td>\n",
       "      <td>0.243902</td>\n",
       "      <td>0.000000</td>\n",
       "      <td>0.000000</td>\n",
       "      <td>0.483289</td>\n",
       "      <td>0.049284</td>\n",
       "      <td>0.155788</td>\n",
       "      <td>0.794597</td>\n",
       "      <td>0.191357</td>\n",
       "    </tr>\n",
       "    <tr>\n",
       "      <th>2</th>\n",
       "      <td>0.250313</td>\n",
       "      <td>0.195960</td>\n",
       "      <td>0.287622</td>\n",
       "      <td>0.000000</td>\n",
       "      <td>0.167984</td>\n",
       "      <td>0.249339</td>\n",
       "      <td>0.072647</td>\n",
       "      <td>0.114821</td>\n",
       "      <td>0.792340</td>\n",
       "      <td>0.282072</td>\n",
       "    </tr>\n",
       "    <tr>\n",
       "      <th>3</th>\n",
       "      <td>0.512523</td>\n",
       "      <td>0.187243</td>\n",
       "      <td>0.343533</td>\n",
       "      <td>0.115164</td>\n",
       "      <td>0.120383</td>\n",
       "      <td>0.306318</td>\n",
       "      <td>0.104123</td>\n",
       "      <td>0.036571</td>\n",
       "      <td>0.559590</td>\n",
       "      <td>0.370595</td>\n",
       "    </tr>\n",
       "    <tr>\n",
       "      <th>4</th>\n",
       "      <td>0.401498</td>\n",
       "      <td>0.097788</td>\n",
       "      <td>0.269115</td>\n",
       "      <td>0.300723</td>\n",
       "      <td>0.314350</td>\n",
       "      <td>0.266624</td>\n",
       "      <td>0.135946</td>\n",
       "      <td>0.095496</td>\n",
       "      <td>0.558705</td>\n",
       "      <td>0.395884</td>\n",
       "    </tr>\n",
       "    <tr>\n",
       "      <th>...</th>\n",
       "      <td>...</td>\n",
       "      <td>...</td>\n",
       "      <td>...</td>\n",
       "      <td>...</td>\n",
       "      <td>...</td>\n",
       "      <td>...</td>\n",
       "      <td>...</td>\n",
       "      <td>...</td>\n",
       "      <td>...</td>\n",
       "      <td>...</td>\n",
       "    </tr>\n",
       "    <tr>\n",
       "      <th>14642</th>\n",
       "      <td>0.080993</td>\n",
       "      <td>0.199731</td>\n",
       "      <td>0.142506</td>\n",
       "      <td>0.068247</td>\n",
       "      <td>0.071340</td>\n",
       "      <td>0.383222</td>\n",
       "      <td>0.061704</td>\n",
       "      <td>0.043344</td>\n",
       "      <td>0.838798</td>\n",
       "      <td>0.259548</td>\n",
       "    </tr>\n",
       "    <tr>\n",
       "      <th>14643</th>\n",
       "      <td>0.577328</td>\n",
       "      <td>0.079095</td>\n",
       "      <td>0.217671</td>\n",
       "      <td>0.000000</td>\n",
       "      <td>0.000000</td>\n",
       "      <td>0.359427</td>\n",
       "      <td>0.073306</td>\n",
       "      <td>0.077241</td>\n",
       "      <td>0.625712</td>\n",
       "      <td>0.284628</td>\n",
       "    </tr>\n",
       "    <tr>\n",
       "      <th>14644</th>\n",
       "      <td>0.292373</td>\n",
       "      <td>0.116525</td>\n",
       "      <td>0.160340</td>\n",
       "      <td>0.119448</td>\n",
       "      <td>0.249722</td>\n",
       "      <td>0.450091</td>\n",
       "      <td>0.269990</td>\n",
       "      <td>0.085345</td>\n",
       "      <td>0.563333</td>\n",
       "      <td>0.445531</td>\n",
       "    </tr>\n",
       "    <tr>\n",
       "      <th>14645</th>\n",
       "      <td>0.413043</td>\n",
       "      <td>0.090540</td>\n",
       "      <td>0.359910</td>\n",
       "      <td>0.092811</td>\n",
       "      <td>0.097017</td>\n",
       "      <td>0.164575</td>\n",
       "      <td>0.139855</td>\n",
       "      <td>0.088418</td>\n",
       "      <td>0.716254</td>\n",
       "      <td>0.325814</td>\n",
       "    </tr>\n",
       "    <tr>\n",
       "      <th>14646</th>\n",
       "      <td>0.150898</td>\n",
       "      <td>0.000000</td>\n",
       "      <td>0.000000</td>\n",
       "      <td>0.169535</td>\n",
       "      <td>0.000000</td>\n",
       "      <td>0.150311</td>\n",
       "      <td>0.306562</td>\n",
       "      <td>0.323019</td>\n",
       "      <td>0.726864</td>\n",
       "      <td>0.446365</td>\n",
       "    </tr>\n",
       "  </tbody>\n",
       "</table>\n",
       "<p>14647 rows × 10 columns</p>\n",
       "</div>"
      ],
      "text/plain": [
       "            and       for        in        is        it        of        on  \\\n",
       "0      0.287328  0.000000  0.385180  0.107605  0.112481  0.000000  0.194577   \n",
       "1      0.097035  0.053176  0.243902  0.000000  0.000000  0.483289  0.049284   \n",
       "2      0.250313  0.195960  0.287622  0.000000  0.167984  0.249339  0.072647   \n",
       "3      0.512523  0.187243  0.343533  0.115164  0.120383  0.306318  0.104123   \n",
       "4      0.401498  0.097788  0.269115  0.300723  0.314350  0.266624  0.135946   \n",
       "...         ...       ...       ...       ...       ...       ...       ...   \n",
       "14642  0.080993  0.199731  0.142506  0.068247  0.071340  0.383222  0.061704   \n",
       "14643  0.577328  0.079095  0.217671  0.000000  0.000000  0.359427  0.073306   \n",
       "14644  0.292373  0.116525  0.160340  0.119448  0.249722  0.450091  0.269990   \n",
       "14645  0.413043  0.090540  0.359910  0.092811  0.097017  0.164575  0.139855   \n",
       "14646  0.150898  0.000000  0.000000  0.169535  0.000000  0.150311  0.306562   \n",
       "\n",
       "           that       the        to  \n",
       "0      0.000000  0.369076  0.755494  \n",
       "1      0.155788  0.794597  0.191357  \n",
       "2      0.114821  0.792340  0.282072  \n",
       "3      0.036571  0.559590  0.370595  \n",
       "4      0.095496  0.558705  0.395884  \n",
       "...         ...       ...       ...  \n",
       "14642  0.043344  0.838798  0.259548  \n",
       "14643  0.077241  0.625712  0.284628  \n",
       "14644  0.085345  0.563333  0.445531  \n",
       "14645  0.088418  0.716254  0.325814  \n",
       "14646  0.323019  0.726864  0.446365  \n",
       "\n",
       "[14647 rows x 10 columns]"
      ]
     },
     "execution_count": 24,
     "metadata": {},
     "output_type": "execute_result"
    }
   ],
   "source": [
    "# Instantiate a vectorizer with max_features=10\n",
    "# (we are using the default token pattern)\n",
    "baseline_tfidf = TfidfVectorizer(max_features=10)\n",
    "\n",
    "# Fit the vectorizer on X_train[\"text\"] and transform it\n",
    "X_train_vectorized_baseline = baseline_tfidf.fit_transform(X_train_sub[\"text\"])\n",
    "X_val_vectorized_baseline = baseline_tfidf.fit_transform(X_val_sub[\"text\"])\n",
    "\n",
    "# Visually inspect the vectorized data\n",
    "pd.DataFrame.sparse.from_spmatrix(X_train_vectorized_baseline, columns=baseline_tfidf.get_feature_names())"
   ]
  },
  {
   "cell_type": "code",
   "execution_count": 25,
   "metadata": {
    "scrolled": true
   },
   "outputs": [
    {
     "data": {
      "text/plain": [
       "array([0.51331058, 0.51399317, 0.51621714, 0.51212018, 0.51348583])"
      ]
     },
     "execution_count": 25,
     "metadata": {},
     "output_type": "execute_result"
    }
   ],
   "source": [
    "# Instantiate a MultinomialNB classifier\n",
    "baseline_model = MultinomialNB()\n",
    "\n",
    "# Evaluate the classifier on X_train_vectorized and y_train\n",
    "baseline_cv = cross_val_score(baseline_model, X_train_vectorized_baseline, y_train_sub)\n",
    "baseline_cv"
   ]
  },
  {
   "cell_type": "code",
   "execution_count": 26,
   "metadata": {},
   "outputs": [
    {
     "data": {
      "text/plain": [
       "MultinomialNB()"
      ]
     },
     "execution_count": 26,
     "metadata": {},
     "output_type": "execute_result"
    }
   ],
   "source": [
    "# Instantiate a MultinomialNB classifier and fit to the vectorized data\n",
    "baseline_model = MultinomialNB()\n",
    "baseline_model.fit(X_train_vectorized_baseline, y_train_sub)"
   ]
  },
  {
   "cell_type": "code",
   "execution_count": 27,
   "metadata": {},
   "outputs": [
    {
     "name": "stdout",
     "output_type": "stream",
     "text": [
      "train acc:  0.513415716528982\n",
      "val acc:  0.5054179566563467\n"
     ]
    }
   ],
   "source": [
    "# use model to training and validation labels\n",
    "train_preds = baseline_model.predict(X_train_vectorized_baseline)\n",
    "val_preds = baseline_model.predict(X_val_vectorized_baseline)\n",
    "\n",
    "#calculate training and val accurcies\n",
    "print(\"train acc: \", accuracy_score(y_train_sub, train_preds))\n",
    "print(\"val acc: \", accuracy_score(y_val_sub, val_preds))"
   ]
  },
  {
   "cell_type": "markdown",
   "metadata": {},
   "source": [
    "Baseline model no better than random chance"
   ]
  },
  {
   "cell_type": "markdown",
   "metadata": {},
   "source": [
    "## Model 2: Removing Stopwords\n",
    "The next model will use data that has common stopwords removed that often have no impact on differntiating texts."
   ]
  },
  {
   "cell_type": "code",
   "execution_count": 28,
   "metadata": {},
   "outputs": [],
   "source": [
    "# dowload and define a list of stopwords using nltk library\n",
    "nltk.download('stopwords', quiet=True)\n",
    "\n",
    "stopwords_list = stopwords.words('english')"
   ]
  },
  {
   "cell_type": "code",
   "execution_count": 29,
   "metadata": {},
   "outputs": [],
   "source": [
    "# define function to remove stopwords from tokenized data\n",
    "def remove_stopwords(token_list):\n",
    "    stopwords_removed = [token for token in token_list if token not in stopwords_list]\n",
    "    return stopwords_removed"
   ]
  },
  {
   "cell_type": "code",
   "execution_count": 30,
   "metadata": {},
   "outputs": [],
   "source": [
    "# remove stopwords from tokenized training data\n",
    "X_train_sub[\"text_without_stopwords\"] = X_train_sub[\"tokenized\"].apply(remove_stopwords)"
   ]
  },
  {
   "cell_type": "code",
   "execution_count": 31,
   "metadata": {},
   "outputs": [],
   "source": [
    "#add back label column to X_train_sub for freq dist analysis\n",
    "X_train_sub[\"label\"] = [y_train_sub[val] for val in X_train_sub.index]"
   ]
  },
  {
   "cell_type": "code",
   "execution_count": 116,
   "metadata": {
    "scrolled": true
   },
   "outputs": [
    {
     "data": {
      "image/png": "[encoded data removed]",
      "text/plain": [
       "<Figure size 432x288 with 1 Axes>"
      ]
     },
     "metadata": {
      "needs_background": "light"
     },
     "output_type": "display_data"
    }
   ],
   "source": [
    "true_freq_dist = FreqDist(X_train_sub.loc[X_train_sub.label == '1', 'text_without_stopwords'].explode())\n",
    "visualize_top_10(true_freq_dist, \"Top 10 Word Frequency for Real Text (No Stopwords)\")"
   ]
  },
  {
   "cell_type": "code",
   "execution_count": 118,
   "metadata": {
    "scrolled": false
   },
   "outputs": [
    {
     "data": {
      "image/png": "[encoded data removed]",
      "text/plain": [
       "<Figure size 432x288 with 1 Axes>"
      ]
     },
     "metadata": {
      "needs_background": "light"
     },
     "output_type": "display_data"
    }
   ],
   "source": [
    "fake_freq_dist = FreqDist(X_train_sub.loc[X_train_sub.label == '0', 'text_without_stopwords'].explode())\n",
    "visualize_top_10(fake_freq_dist, \"Top 10 Word Frequency for Fake Text (No Stopwords)\")"
   ]
  },
  {
   "cell_type": "markdown",
   "metadata": {},
   "source": [
    "The fake and real distributions have similar words but in a different order."
   ]
  },
  {
   "cell_type": "code",
   "execution_count": 120,
   "metadata": {},
   "outputs": [
    {
     "name": "stderr",
     "output_type": "stream",
     "text": [
      "C:\\Users\\bento\\anaconda3.0\\lib\\site-packages\\sklearn\\utils\\deprecation.py:87: FutureWarning: Function get_feature_names is deprecated; get_feature_names is deprecated in 1.0 and will be removed in 1.2. Please use get_feature_names_out instead.\n",
      "  warnings.warn(msg, category=FutureWarning)\n"
     ]
    },
    {
     "data": {
      "text/html": [
       "<div>\n",
       "<style scoped>\n",
       "    .dataframe tbody tr th:only-of-type {\n",
       "        vertical-align: middle;\n",
       "    }\n",
       "\n",
       "    .dataframe tbody tr th {\n",
       "        vertical-align: top;\n",
       "    }\n",
       "\n",
       "    .dataframe thead th {\n",
       "        text-align: right;\n",
       "    }\n",
       "</style>\n",
       "<table border=\"1\" class=\"dataframe\">\n",
       "  <thead>\n",
       "    <tr style=\"text-align: right;\">\n",
       "      <th></th>\n",
       "      <th>also</th>\n",
       "      <th>clinton</th>\n",
       "      <th>new</th>\n",
       "      <th>one</th>\n",
       "      <th>people</th>\n",
       "      <th>president</th>\n",
       "      <th>said</th>\n",
       "      <th>state</th>\n",
       "      <th>trump</th>\n",
       "      <th>would</th>\n",
       "    </tr>\n",
       "  </thead>\n",
       "  <tbody>\n",
       "    <tr>\n",
       "      <th>0</th>\n",
       "      <td>0.000000</td>\n",
       "      <td>0.358152</td>\n",
       "      <td>0.000000</td>\n",
       "      <td>0.000000</td>\n",
       "      <td>0.238506</td>\n",
       "      <td>0.223434</td>\n",
       "      <td>0.523392</td>\n",
       "      <td>0.000000</td>\n",
       "      <td>0.700700</td>\n",
       "      <td>0.000000</td>\n",
       "    </tr>\n",
       "    <tr>\n",
       "      <th>1</th>\n",
       "      <td>0.281442</td>\n",
       "      <td>0.000000</td>\n",
       "      <td>0.301435</td>\n",
       "      <td>0.266784</td>\n",
       "      <td>0.000000</td>\n",
       "      <td>0.524137</td>\n",
       "      <td>0.613894</td>\n",
       "      <td>0.327365</td>\n",
       "      <td>0.000000</td>\n",
       "      <td>0.000000</td>\n",
       "    </tr>\n",
       "    <tr>\n",
       "      <th>2</th>\n",
       "      <td>0.402238</td>\n",
       "      <td>0.000000</td>\n",
       "      <td>0.000000</td>\n",
       "      <td>0.000000</td>\n",
       "      <td>0.000000</td>\n",
       "      <td>0.187275</td>\n",
       "      <td>0.877379</td>\n",
       "      <td>0.000000</td>\n",
       "      <td>0.000000</td>\n",
       "      <td>0.182589</td>\n",
       "    </tr>\n",
       "    <tr>\n",
       "      <th>3</th>\n",
       "      <td>0.061134</td>\n",
       "      <td>0.821240</td>\n",
       "      <td>0.000000</td>\n",
       "      <td>0.000000</td>\n",
       "      <td>0.121532</td>\n",
       "      <td>0.000000</td>\n",
       "      <td>0.000000</td>\n",
       "      <td>0.142219</td>\n",
       "      <td>0.535567</td>\n",
       "      <td>0.000000</td>\n",
       "    </tr>\n",
       "    <tr>\n",
       "      <th>4</th>\n",
       "      <td>0.000000</td>\n",
       "      <td>0.000000</td>\n",
       "      <td>0.000000</td>\n",
       "      <td>0.270630</td>\n",
       "      <td>0.567559</td>\n",
       "      <td>0.000000</td>\n",
       "      <td>0.000000</td>\n",
       "      <td>0.000000</td>\n",
       "      <td>0.000000</td>\n",
       "      <td>0.777584</td>\n",
       "    </tr>\n",
       "    <tr>\n",
       "      <th>...</th>\n",
       "      <td>...</td>\n",
       "      <td>...</td>\n",
       "      <td>...</td>\n",
       "      <td>...</td>\n",
       "      <td>...</td>\n",
       "      <td>...</td>\n",
       "      <td>...</td>\n",
       "      <td>...</td>\n",
       "      <td>...</td>\n",
       "      <td>...</td>\n",
       "    </tr>\n",
       "    <tr>\n",
       "      <th>14642</th>\n",
       "      <td>0.000000</td>\n",
       "      <td>0.000000</td>\n",
       "      <td>0.715747</td>\n",
       "      <td>0.158367</td>\n",
       "      <td>0.000000</td>\n",
       "      <td>0.466704</td>\n",
       "      <td>0.000000</td>\n",
       "      <td>0.194329</td>\n",
       "      <td>0.000000</td>\n",
       "      <td>0.455027</td>\n",
       "    </tr>\n",
       "    <tr>\n",
       "      <th>14643</th>\n",
       "      <td>0.000000</td>\n",
       "      <td>0.000000</td>\n",
       "      <td>0.411572</td>\n",
       "      <td>0.000000</td>\n",
       "      <td>0.000000</td>\n",
       "      <td>0.357822</td>\n",
       "      <td>0.838196</td>\n",
       "      <td>0.000000</td>\n",
       "      <td>0.000000</td>\n",
       "      <td>0.000000</td>\n",
       "    </tr>\n",
       "    <tr>\n",
       "      <th>14644</th>\n",
       "      <td>0.000000</td>\n",
       "      <td>0.000000</td>\n",
       "      <td>0.000000</td>\n",
       "      <td>0.638902</td>\n",
       "      <td>0.167486</td>\n",
       "      <td>0.000000</td>\n",
       "      <td>0.735085</td>\n",
       "      <td>0.000000</td>\n",
       "      <td>0.000000</td>\n",
       "      <td>0.152976</td>\n",
       "    </tr>\n",
       "    <tr>\n",
       "      <th>14645</th>\n",
       "      <td>0.000000</td>\n",
       "      <td>0.597972</td>\n",
       "      <td>0.143028</td>\n",
       "      <td>0.126586</td>\n",
       "      <td>0.132737</td>\n",
       "      <td>0.000000</td>\n",
       "      <td>0.679668</td>\n",
       "      <td>0.000000</td>\n",
       "      <td>0.259976</td>\n",
       "      <td>0.242475</td>\n",
       "    </tr>\n",
       "    <tr>\n",
       "      <th>14646</th>\n",
       "      <td>0.000000</td>\n",
       "      <td>0.000000</td>\n",
       "      <td>0.000000</td>\n",
       "      <td>0.000000</td>\n",
       "      <td>0.544598</td>\n",
       "      <td>0.510183</td>\n",
       "      <td>0.398367</td>\n",
       "      <td>0.000000</td>\n",
       "      <td>0.533320</td>\n",
       "      <td>0.000000</td>\n",
       "    </tr>\n",
       "  </tbody>\n",
       "</table>\n",
       "<p>14647 rows × 10 columns</p>\n",
       "</div>"
      ],
      "text/plain": [
       "           also   clinton       new       one    people  president      said  \\\n",
       "0      0.000000  0.358152  0.000000  0.000000  0.238506   0.223434  0.523392   \n",
       "1      0.281442  0.000000  0.301435  0.266784  0.000000   0.524137  0.613894   \n",
       "2      0.402238  0.000000  0.000000  0.000000  0.000000   0.187275  0.877379   \n",
       "3      0.061134  0.821240  0.000000  0.000000  0.121532   0.000000  0.000000   \n",
       "4      0.000000  0.000000  0.000000  0.270630  0.567559   0.000000  0.000000   \n",
       "...         ...       ...       ...       ...       ...        ...       ...   \n",
       "14642  0.000000  0.000000  0.715747  0.158367  0.000000   0.466704  0.000000   \n",
       "14643  0.000000  0.000000  0.411572  0.000000  0.000000   0.357822  0.838196   \n",
       "14644  0.000000  0.000000  0.000000  0.638902  0.167486   0.000000  0.735085   \n",
       "14645  0.000000  0.597972  0.143028  0.126586  0.132737   0.000000  0.679668   \n",
       "14646  0.000000  0.000000  0.000000  0.000000  0.544598   0.510183  0.398367   \n",
       "\n",
       "          state     trump     would  \n",
       "0      0.000000  0.700700  0.000000  \n",
       "1      0.327365  0.000000  0.000000  \n",
       "2      0.000000  0.000000  0.182589  \n",
       "3      0.142219  0.535567  0.000000  \n",
       "4      0.000000  0.000000  0.777584  \n",
       "...         ...       ...       ...  \n",
       "14642  0.194329  0.000000  0.455027  \n",
       "14643  0.000000  0.000000  0.000000  \n",
       "14644  0.000000  0.000000  0.152976  \n",
       "14645  0.000000  0.259976  0.242475  \n",
       "14646  0.000000  0.533320  0.000000  \n",
       "\n",
       "[14647 rows x 10 columns]"
      ]
     },
     "execution_count": 120,
     "metadata": {},
     "output_type": "execute_result"
    }
   ],
   "source": [
    "# Instantiate the vectorizer\n",
    "tfidf_2 = TfidfVectorizer(\n",
    "    max_features=10,\n",
    "    stop_words=stopwords_list\n",
    ")\n",
    "\n",
    "# Fit the vectorizer on X_train[\"text\"] and transform it\n",
    "X_train_vectorized_2 = tfidf_2.fit_transform(X_train_sub[\"text\"])\n",
    "X_val_vectorized_2 = tfidf_2.fit_transform(X_val_sub[\"text\"])\n",
    "# Visually inspect the vectorized data\n",
    "pd.DataFrame.sparse.from_spmatrix(X_train_vectorized_2, columns=tfidf_2.get_feature_names())"
   ]
  },
  {
   "cell_type": "code",
   "execution_count": 121,
   "metadata": {},
   "outputs": [
    {
     "data": {
      "text/plain": [
       "MultinomialNB()"
      ]
     },
     "execution_count": 121,
     "metadata": {},
     "output_type": "execute_result"
    }
   ],
   "source": [
    "# Instantiate a MultinomialNB classifier and fit to data\n",
    "model_2 = MultinomialNB()\n",
    "model_2.fit(X_train_vectorized_2, y_train_sub)"
   ]
  },
  {
   "cell_type": "code",
   "execution_count": 122,
   "metadata": {},
   "outputs": [
    {
     "name": "stdout",
     "output_type": "stream",
     "text": [
      "train acc:  0.5367652078924011\n",
      "val acc:  0.5336687306501547\n"
     ]
    }
   ],
   "source": [
    "# predict train and val labels and calculate accuracies\n",
    "model_2_train_preds = model_2.predict(X_train_vectorized_2)\n",
    "model_2_val_preds = model_2.predict(X_val_vectorized_2)\n",
    "\n",
    "print(\"train acc: \", accuracy_score(y_train_sub, model_2_train_preds))\n",
    "print(\"val acc: \", accuracy_score(y_val_sub, model_2_val_preds))"
   ]
  },
  {
   "cell_type": "markdown",
   "metadata": {},
   "source": [
    "Marginal over baseline model"
   ]
  },
  {
   "cell_type": "markdown",
   "metadata": {},
   "source": [
    "## Model 3: Stemming and Tokenization\n",
    "The data for model three is stemmed and uses a new tokenizer in addition to removing stopwords."
   ]
  },
  {
   "cell_type": "code",
   "execution_count": 82,
   "metadata": {},
   "outputs": [],
   "source": [
    "# define stemmer\n",
    "stemmer = SnowballStemmer(language=\"english\")\n",
    "\n",
    "# define fucntion to stem and tokenize\n",
    "def stem_and_tokenize(document):\n",
    "    tokens = tokenizer.tokenize(document)\n",
    "    return [stemmer.stem(token) for token in tokens]"
   ]
  },
  {
   "cell_type": "code",
   "execution_count": 83,
   "metadata": {},
   "outputs": [],
   "source": [
    "# stem the stopwords list \n",
    "stemmed_stopwords = [stemmer.stem(word) for word in stopwords_list]"
   ]
  },
  {
   "cell_type": "code",
   "execution_count": 84,
   "metadata": {},
   "outputs": [],
   "source": [
    "# Instantiate the vectorizer with stemming, tokeinzation, and stopword removal\n",
    "tfidf_3 = TfidfVectorizer(\n",
    "    max_features=10,\n",
    "    stop_words=stemmed_stopwords,\n",
    "    tokenizer=stem_and_tokenize\n",
    ")\n",
    "\n",
    "# Fit the vectorizer on X_train_sub text\n",
    "X_train_vectorized_3 = tfidf_3.fit_transform(X_train_sub[\"text\"])\n",
    "X_val_vectorized_3 = tfidf_3.fit_transform(X_val_sub[\"text\"])\n",
    "\n",
    "# Visually inspect the vectorized data\n",
    "#pd.DataFrame.sparse.from_spmatrix(X_train_vectorized_3, columns=tfidf_3.get_feature_names())"
   ]
  },
  {
   "cell_type": "code",
   "execution_count": 128,
   "metadata": {},
   "outputs": [
    {
     "data": {
      "text/plain": [
       "MultinomialNB()"
      ]
     },
     "execution_count": 128,
     "metadata": {},
     "output_type": "execute_result"
    }
   ],
   "source": [
    "# Instantiate a MultinomialNB classifier\n",
    "model_3 = MultinomialNB()\n",
    "model_3.fit(X_train_vectorized_3, y_train_sub)"
   ]
  },
  {
   "cell_type": "code",
   "execution_count": 130,
   "metadata": {},
   "outputs": [
    {
     "name": "stdout",
     "output_type": "stream",
     "text": [
      "train acc:  0.5408616098859835\n",
      "val acc:  0.538312693498452\n"
     ]
    }
   ],
   "source": [
    "# predict labels and calculate accuracy\n",
    "model_3_train_preds = model_3.predict(X_train_vectorized_3)\n",
    "model_3_val_preds = model_3.predict(X_val_vectorized_3)\n",
    "\n",
    "print(\"train acc: \", accuracy_score(y_train_sub, model_3_train_preds))\n",
    "print(\"val acc: \", accuracy_score(y_val_sub, model_3_val_preds))"
   ]
  },
  {
   "cell_type": "markdown",
   "metadata": {},
   "source": [
    "Minimal improvement over model 2."
   ]
  },
  {
   "cell_type": "markdown",
   "metadata": {},
   "source": [
    "## Model 4: Increasing Max Features\n",
    "Up until this point, we have developed the model only using the top 10 most frequent features. In this model, that is incresased to the top 200 features."
   ]
  },
  {
   "cell_type": "code",
   "execution_count": 34,
   "metadata": {
    "scrolled": true
   },
   "outputs": [
    {
     "name": "stderr",
     "output_type": "stream",
     "text": [
      "C:\\Users\\bento\\anaconda3.0\\lib\\site-packages\\sklearn\\utils\\deprecation.py:87: FutureWarning: Function get_feature_names is deprecated; get_feature_names is deprecated in 1.0 and will be removed in 1.2. Please use get_feature_names_out instead.\n",
      "  warnings.warn(msg, category=FutureWarning)\n"
     ]
    },
    {
     "data": {
      "text/html": [
       "<div>\n",
       "<style scoped>\n",
       "    .dataframe tbody tr th:only-of-type {\n",
       "        vertical-align: middle;\n",
       "    }\n",
       "\n",
       "    .dataframe tbody tr th {\n",
       "        vertical-align: top;\n",
       "    }\n",
       "\n",
       "    .dataframe thead th {\n",
       "        text-align: right;\n",
       "    }\n",
       "</style>\n",
       "<table border=\"1\" class=\"dataframe\">\n",
       "  <thead>\n",
       "    <tr style=\"text-align: right;\">\n",
       "      <th></th>\n",
       "      <th>000</th>\n",
       "      <th>2016</th>\n",
       "      <th>accord</th>\n",
       "      <th>ad</th>\n",
       "      <th>administr</th>\n",
       "      <th>agenc</th>\n",
       "      <th>allow</th>\n",
       "      <th>also</th>\n",
       "      <th>america</th>\n",
       "      <th>american</th>\n",
       "      <th>...</th>\n",
       "      <th>week</th>\n",
       "      <th>well</th>\n",
       "      <th>whether</th>\n",
       "      <th>white</th>\n",
       "      <th>women</th>\n",
       "      <th>work</th>\n",
       "      <th>world</th>\n",
       "      <th>would</th>\n",
       "      <th>year</th>\n",
       "      <th>york</th>\n",
       "    </tr>\n",
       "  </thead>\n",
       "  <tbody>\n",
       "    <tr>\n",
       "      <th>0</th>\n",
       "      <td>0.000000</td>\n",
       "      <td>0.000000</td>\n",
       "      <td>0.000000</td>\n",
       "      <td>0.0</td>\n",
       "      <td>0.000000</td>\n",
       "      <td>0.000000</td>\n",
       "      <td>0.000000</td>\n",
       "      <td>0.0</td>\n",
       "      <td>0.000000</td>\n",
       "      <td>0.0</td>\n",
       "      <td>...</td>\n",
       "      <td>0.0</td>\n",
       "      <td>0.0</td>\n",
       "      <td>0.000000</td>\n",
       "      <td>0.000000</td>\n",
       "      <td>0.0</td>\n",
       "      <td>0.000000</td>\n",
       "      <td>0.000000</td>\n",
       "      <td>0.000000</td>\n",
       "      <td>0.000000</td>\n",
       "      <td>0.0</td>\n",
       "    </tr>\n",
       "    <tr>\n",
       "      <th>1</th>\n",
       "      <td>0.000000</td>\n",
       "      <td>0.000000</td>\n",
       "      <td>0.000000</td>\n",
       "      <td>0.0</td>\n",
       "      <td>0.000000</td>\n",
       "      <td>0.117319</td>\n",
       "      <td>0.000000</td>\n",
       "      <td>0.0</td>\n",
       "      <td>0.078439</td>\n",
       "      <td>0.0</td>\n",
       "      <td>...</td>\n",
       "      <td>0.0</td>\n",
       "      <td>0.0</td>\n",
       "      <td>0.000000</td>\n",
       "      <td>0.000000</td>\n",
       "      <td>0.0</td>\n",
       "      <td>0.096084</td>\n",
       "      <td>0.000000</td>\n",
       "      <td>0.000000</td>\n",
       "      <td>0.154048</td>\n",
       "      <td>0.0</td>\n",
       "    </tr>\n",
       "    <tr>\n",
       "      <th>2</th>\n",
       "      <td>0.000000</td>\n",
       "      <td>0.000000</td>\n",
       "      <td>0.000000</td>\n",
       "      <td>0.0</td>\n",
       "      <td>0.072959</td>\n",
       "      <td>0.150500</td>\n",
       "      <td>0.000000</td>\n",
       "      <td>0.0</td>\n",
       "      <td>0.100624</td>\n",
       "      <td>0.0</td>\n",
       "      <td>...</td>\n",
       "      <td>0.0</td>\n",
       "      <td>0.0</td>\n",
       "      <td>0.066986</td>\n",
       "      <td>0.000000</td>\n",
       "      <td>0.0</td>\n",
       "      <td>0.000000</td>\n",
       "      <td>0.000000</td>\n",
       "      <td>0.045677</td>\n",
       "      <td>0.098809</td>\n",
       "      <td>0.0</td>\n",
       "    </tr>\n",
       "    <tr>\n",
       "      <th>3</th>\n",
       "      <td>0.000000</td>\n",
       "      <td>0.000000</td>\n",
       "      <td>0.000000</td>\n",
       "      <td>0.0</td>\n",
       "      <td>0.000000</td>\n",
       "      <td>0.000000</td>\n",
       "      <td>0.000000</td>\n",
       "      <td>0.0</td>\n",
       "      <td>0.051423</td>\n",
       "      <td>0.0</td>\n",
       "      <td>...</td>\n",
       "      <td>0.0</td>\n",
       "      <td>0.0</td>\n",
       "      <td>0.000000</td>\n",
       "      <td>0.000000</td>\n",
       "      <td>0.0</td>\n",
       "      <td>0.062991</td>\n",
       "      <td>0.148314</td>\n",
       "      <td>0.000000</td>\n",
       "      <td>0.050496</td>\n",
       "      <td>0.0</td>\n",
       "    </tr>\n",
       "    <tr>\n",
       "      <th>4</th>\n",
       "      <td>0.000000</td>\n",
       "      <td>0.106103</td>\n",
       "      <td>0.000000</td>\n",
       "      <td>0.0</td>\n",
       "      <td>0.000000</td>\n",
       "      <td>0.000000</td>\n",
       "      <td>0.000000</td>\n",
       "      <td>0.0</td>\n",
       "      <td>0.000000</td>\n",
       "      <td>0.0</td>\n",
       "      <td>...</td>\n",
       "      <td>0.0</td>\n",
       "      <td>0.0</td>\n",
       "      <td>0.094451</td>\n",
       "      <td>0.000000</td>\n",
       "      <td>0.0</td>\n",
       "      <td>0.000000</td>\n",
       "      <td>0.102303</td>\n",
       "      <td>0.193214</td>\n",
       "      <td>0.139322</td>\n",
       "      <td>0.0</td>\n",
       "    </tr>\n",
       "    <tr>\n",
       "      <th>...</th>\n",
       "      <td>...</td>\n",
       "      <td>...</td>\n",
       "      <td>...</td>\n",
       "      <td>...</td>\n",
       "      <td>...</td>\n",
       "      <td>...</td>\n",
       "      <td>...</td>\n",
       "      <td>...</td>\n",
       "      <td>...</td>\n",
       "      <td>...</td>\n",
       "      <td>...</td>\n",
       "      <td>...</td>\n",
       "      <td>...</td>\n",
       "      <td>...</td>\n",
       "      <td>...</td>\n",
       "      <td>...</td>\n",
       "      <td>...</td>\n",
       "      <td>...</td>\n",
       "      <td>...</td>\n",
       "      <td>...</td>\n",
       "      <td>...</td>\n",
       "    </tr>\n",
       "    <tr>\n",
       "      <th>14642</th>\n",
       "      <td>0.168373</td>\n",
       "      <td>0.000000</td>\n",
       "      <td>0.071516</td>\n",
       "      <td>0.0</td>\n",
       "      <td>0.000000</td>\n",
       "      <td>0.079786</td>\n",
       "      <td>0.000000</td>\n",
       "      <td>0.0</td>\n",
       "      <td>0.000000</td>\n",
       "      <td>0.0</td>\n",
       "      <td>...</td>\n",
       "      <td>0.0</td>\n",
       "      <td>0.0</td>\n",
       "      <td>0.000000</td>\n",
       "      <td>0.000000</td>\n",
       "      <td>0.0</td>\n",
       "      <td>0.000000</td>\n",
       "      <td>0.000000</td>\n",
       "      <td>0.145291</td>\n",
       "      <td>0.000000</td>\n",
       "      <td>0.0</td>\n",
       "    </tr>\n",
       "    <tr>\n",
       "      <th>14643</th>\n",
       "      <td>0.000000</td>\n",
       "      <td>0.000000</td>\n",
       "      <td>0.000000</td>\n",
       "      <td>0.0</td>\n",
       "      <td>0.000000</td>\n",
       "      <td>0.000000</td>\n",
       "      <td>0.000000</td>\n",
       "      <td>0.0</td>\n",
       "      <td>0.000000</td>\n",
       "      <td>0.0</td>\n",
       "      <td>...</td>\n",
       "      <td>0.0</td>\n",
       "      <td>0.0</td>\n",
       "      <td>0.000000</td>\n",
       "      <td>0.000000</td>\n",
       "      <td>0.0</td>\n",
       "      <td>0.000000</td>\n",
       "      <td>0.000000</td>\n",
       "      <td>0.000000</td>\n",
       "      <td>0.000000</td>\n",
       "      <td>0.0</td>\n",
       "    </tr>\n",
       "    <tr>\n",
       "      <th>14644</th>\n",
       "      <td>0.196495</td>\n",
       "      <td>0.000000</td>\n",
       "      <td>0.000000</td>\n",
       "      <td>0.0</td>\n",
       "      <td>0.000000</td>\n",
       "      <td>0.000000</td>\n",
       "      <td>0.420803</td>\n",
       "      <td>0.0</td>\n",
       "      <td>0.000000</td>\n",
       "      <td>0.0</td>\n",
       "      <td>...</td>\n",
       "      <td>0.0</td>\n",
       "      <td>0.0</td>\n",
       "      <td>0.000000</td>\n",
       "      <td>0.104967</td>\n",
       "      <td>0.0</td>\n",
       "      <td>0.000000</td>\n",
       "      <td>0.000000</td>\n",
       "      <td>0.056519</td>\n",
       "      <td>0.000000</td>\n",
       "      <td>0.0</td>\n",
       "    </tr>\n",
       "    <tr>\n",
       "      <th>14645</th>\n",
       "      <td>0.000000</td>\n",
       "      <td>0.000000</td>\n",
       "      <td>0.000000</td>\n",
       "      <td>0.0</td>\n",
       "      <td>0.000000</td>\n",
       "      <td>0.000000</td>\n",
       "      <td>0.000000</td>\n",
       "      <td>0.0</td>\n",
       "      <td>0.000000</td>\n",
       "      <td>0.0</td>\n",
       "      <td>...</td>\n",
       "      <td>0.0</td>\n",
       "      <td>0.0</td>\n",
       "      <td>0.000000</td>\n",
       "      <td>0.087237</td>\n",
       "      <td>0.0</td>\n",
       "      <td>0.000000</td>\n",
       "      <td>0.000000</td>\n",
       "      <td>0.093945</td>\n",
       "      <td>0.050806</td>\n",
       "      <td>0.0</td>\n",
       "    </tr>\n",
       "    <tr>\n",
       "      <th>14646</th>\n",
       "      <td>0.000000</td>\n",
       "      <td>0.000000</td>\n",
       "      <td>0.000000</td>\n",
       "      <td>0.0</td>\n",
       "      <td>0.000000</td>\n",
       "      <td>0.000000</td>\n",
       "      <td>0.000000</td>\n",
       "      <td>0.0</td>\n",
       "      <td>0.000000</td>\n",
       "      <td>0.0</td>\n",
       "      <td>...</td>\n",
       "      <td>0.0</td>\n",
       "      <td>0.0</td>\n",
       "      <td>0.222472</td>\n",
       "      <td>0.000000</td>\n",
       "      <td>0.0</td>\n",
       "      <td>0.000000</td>\n",
       "      <td>0.000000</td>\n",
       "      <td>0.000000</td>\n",
       "      <td>0.000000</td>\n",
       "      <td>0.0</td>\n",
       "    </tr>\n",
       "  </tbody>\n",
       "</table>\n",
       "<p>14647 rows × 200 columns</p>\n",
       "</div>"
      ],
      "text/plain": [
       "            000      2016    accord   ad  administr     agenc     allow  also  \\\n",
       "0      0.000000  0.000000  0.000000  0.0   0.000000  0.000000  0.000000   0.0   \n",
       "1      0.000000  0.000000  0.000000  0.0   0.000000  0.117319  0.000000   0.0   \n",
       "2      0.000000  0.000000  0.000000  0.0   0.072959  0.150500  0.000000   0.0   \n",
       "3      0.000000  0.000000  0.000000  0.0   0.000000  0.000000  0.000000   0.0   \n",
       "4      0.000000  0.106103  0.000000  0.0   0.000000  0.000000  0.000000   0.0   \n",
       "...         ...       ...       ...  ...        ...       ...       ...   ...   \n",
       "14642  0.168373  0.000000  0.071516  0.0   0.000000  0.079786  0.000000   0.0   \n",
       "14643  0.000000  0.000000  0.000000  0.0   0.000000  0.000000  0.000000   0.0   \n",
       "14644  0.196495  0.000000  0.000000  0.0   0.000000  0.000000  0.420803   0.0   \n",
       "14645  0.000000  0.000000  0.000000  0.0   0.000000  0.000000  0.000000   0.0   \n",
       "14646  0.000000  0.000000  0.000000  0.0   0.000000  0.000000  0.000000   0.0   \n",
       "\n",
       "        america  american  ...  week  well   whether     white  women  \\\n",
       "0      0.000000       0.0  ...   0.0   0.0  0.000000  0.000000    0.0   \n",
       "1      0.078439       0.0  ...   0.0   0.0  0.000000  0.000000    0.0   \n",
       "2      0.100624       0.0  ...   0.0   0.0  0.066986  0.000000    0.0   \n",
       "3      0.051423       0.0  ...   0.0   0.0  0.000000  0.000000    0.0   \n",
       "4      0.000000       0.0  ...   0.0   0.0  0.094451  0.000000    0.0   \n",
       "...         ...       ...  ...   ...   ...       ...       ...    ...   \n",
       "14642  0.000000       0.0  ...   0.0   0.0  0.000000  0.000000    0.0   \n",
       "14643  0.000000       0.0  ...   0.0   0.0  0.000000  0.000000    0.0   \n",
       "14644  0.000000       0.0  ...   0.0   0.0  0.000000  0.104967    0.0   \n",
       "14645  0.000000       0.0  ...   0.0   0.0  0.000000  0.087237    0.0   \n",
       "14646  0.000000       0.0  ...   0.0   0.0  0.222472  0.000000    0.0   \n",
       "\n",
       "           work     world     would      year  york  \n",
       "0      0.000000  0.000000  0.000000  0.000000   0.0  \n",
       "1      0.096084  0.000000  0.000000  0.154048   0.0  \n",
       "2      0.000000  0.000000  0.045677  0.098809   0.0  \n",
       "3      0.062991  0.148314  0.000000  0.050496   0.0  \n",
       "4      0.000000  0.102303  0.193214  0.139322   0.0  \n",
       "...         ...       ...       ...       ...   ...  \n",
       "14642  0.000000  0.000000  0.145291  0.000000   0.0  \n",
       "14643  0.000000  0.000000  0.000000  0.000000   0.0  \n",
       "14644  0.000000  0.000000  0.056519  0.000000   0.0  \n",
       "14645  0.000000  0.000000  0.093945  0.050806   0.0  \n",
       "14646  0.000000  0.000000  0.000000  0.000000   0.0  \n",
       "\n",
       "[14647 rows x 200 columns]"
      ]
     },
     "execution_count": 34,
     "metadata": {},
     "output_type": "execute_result"
    }
   ],
   "source": [
    "# Instantiate the vectorizer\n",
    "tfidf_4 = TfidfVectorizer(\n",
    "    max_features=None,\n",
    "    stop_words=stemmed_stopwords,\n",
    "    tokenizer=stem_and_tokenize\n",
    ")\n",
    "\n",
    "# Fit the vectorizer on X_train[\"text\"] and transform it\n",
    "X_train_vectorized_4 = tfidf_4.fit_transform(X_train_sub[\"text\"])\n",
    "X_val_vectorized_4 = tfidf_4.fit_transform(X_val_sub[\"text\"])\n",
    "\n",
    "\n",
    "# Create a full df of vectorized + engineered features\n",
    "pd.DataFrame.sparse.from_spmatrix(X_train_vectorized_4, columns=tfidf_4.get_feature_names())"
   ]
  },
  {
   "cell_type": "code",
   "execution_count": 85,
   "metadata": {},
   "outputs": [
    {
     "data": {
      "text/plain": [
       "MultinomialNB()"
      ]
     },
     "execution_count": 85,
     "metadata": {},
     "output_type": "execute_result"
    }
   ],
   "source": [
    "# Instantiate a MultinomialNB classifier\n",
    "model_4 = MultinomialNB()\n",
    "model_4.fit(X_train_vectorized_4, y_train_sub)"
   ]
  },
  {
   "cell_type": "code",
   "execution_count": 86,
   "metadata": {},
   "outputs": [
    {
     "name": "stdout",
     "output_type": "stream",
     "text": [
      "train acc:  0.5813477162558885\n",
      "val acc:  0.5406346749226006\n"
     ]
    }
   ],
   "source": [
    "# predict labels and calculate accuracy\n",
    "model_4_train_preds = model_4.predict(X_train_vectorized_4)\n",
    "model_4_val_preds = model_4.predict(X_val_vectorized_4)\n",
    "\n",
    "print(\"train acc: \", accuracy_score(y_train_sub, model_4_train_preds))\n",
    "print(\"val acc: \", accuracy_score(y_val_sub, model_4_val_preds))"
   ]
  },
  {
   "cell_type": "markdown",
   "metadata": {},
   "source": [
    "Minimal accuracy increase"
   ]
  },
  {
   "cell_type": "markdown",
   "metadata": {},
   "source": [
    "## Model 5: POS Tag"
   ]
  },
  {
   "cell_type": "code",
   "execution_count": 90,
   "metadata": {},
   "outputs": [],
   "source": [
    "# define fucntion to convert to POS Tag\n",
    "def stem_tokenize_tag(document):\n",
    "    tokens = tokenizer.tokenize(document)\n",
    "    stem_tokens = [stemmer.stem(token) for token in tokens]\n",
    "    return pos_tag(stem_tokens)"
   ]
  },
  {
   "cell_type": "code",
   "execution_count": 77,
   "metadata": {
    "scrolled": true
   },
   "outputs": [
    {
     "name": "stderr",
     "output_type": "stream",
     "text": [
      "C:\\Users\\bento\\anaconda3.0\\lib\\site-packages\\sklearn\\feature_extraction\\text.py:396: UserWarning: Your stop_words may be inconsistent with your preprocessing. Tokenizing the stop words generated tokens [('about', 'IN'), ('abov', 'NN'), ('after', 'IN'), ('again', 'RB'), ('against', 'IN'), ('ain', 'NN'), ('all', 'DT'), ('am', 'VBP'), ('an', 'DT'), ('and', 'CC'), ('ani', 'NN'), ('are', 'VBP'), ('aren', 'NNS'), ('as', 'IN'), ('at', 'IN'), ('be', 'VB'), ('becaus', 'NN'), ('been', 'VBN'), ('befor', 'NN'), ('below', 'IN'), ('between', 'IN'), ('both', 'DT'), ('but', 'CC'), ('by', 'IN'), ('can', 'MD'), ('couldn', 'NN'), ('did', 'VBD'), ('didn', 'NN'), ('do', 'VB'), ('doe', 'NN'), ('doesn', 'NN'), ('don', 'NN'), ('down', 'RB'), ('dure', 'NN'), ('each', 'DT'), ('few', 'JJ'), ('for', 'IN'), ('from', 'IN'), ('further', 'RB'), ('had', 'VBD'), ('hadn', 'NN'), ('has', 'VBZ'), ('hasn', 'NN'), ('have', 'VB'), ('haven', 'NN'), ('he', 'PRP'), ('her', 'PRP$'), ('here', 'RB'), ('herself', 'NN'), ('him', 'PRP'), ('himself', 'PRP'), ('his', 'PRP$'), ('how', 'WRB'), ('if', 'IN'), ('in', 'IN'), ('into', 'IN'), ('is', 'VBZ'), ('isn', 'NN'), ('it', 'PRP'), ('itself', 'PRP'), ('just', 'RB'), ('ll', 'NN'), ('ll', 'VBP'), ('ma', 'NN'), ('me', 'PRP'), ('mightn', 'NN'), ('more', 'RBR'), ('most', 'JJS'), ('mustn', 'NN'), ('my', 'PRP$'), ('myself', 'PRP'), ('needn', 'NN'), ('no', 'DT'), ('nor', 'CC'), ('not', 'RB'), ('now', 'RB'), ('of', 'IN'), ('off', 'IN'), ('on', 'IN'), ('onc', 'NN'), ('or', 'CC'), ('other', 'JJ'), ('our', 'PRP$'), ('ourselv', 'NN'), ('out', 'IN'), ('over', 'IN'), ('own', 'JJ'), ('re', 'NN'), ('same', 'JJ'), ('shan', 'NN'), ('she', 'PRP'), ('should', 'MD'), ('shouldn', 'NN'), ('so', 'RB'), ('some', 'DT'), ('such', 'JJ'), ('than', 'IN'), ('that', 'DT'), ('that', 'IN'), ('the', 'DT'), ('their', 'PRP$'), ('them', 'PRP'), ('themselv', 'NN'), ('then', 'RB'), ('there', 'RB'), ('these', 'DT'), ('they', 'PRP'), ('this', 'DT'), ('those', 'DT'), ('through', 'IN'), ('to', 'TO'), ('too', 'RB'), ('under', 'IN'), ('until', 'IN'), ('up', 'RB'), ('ve', 'NN'), ('veri', 'NN'), ('was', 'VBD'), ('wasn', 'NN'), ('we', 'PRP'), ('were', 'VBD'), ('weren', 'NNS'), ('what', 'WP'), ('when', 'WRB'), ('where', 'WRB'), ('whi', 'NN'), ('which', 'WDT'), ('while', 'IN'), ('who', 'WP'), ('whom', 'WP'), ('will', 'MD'), ('with', 'IN'), ('won', 'NN'), ('wouldn', 'NN'), ('you', 'PRP'), ('your', 'PRP$'), ('yourself', 'PRP'), ('yourselv', 'NN')] not in stop_words.\n",
      "  warnings.warn(\n",
      "C:\\Users\\bento\\anaconda3.0\\lib\\site-packages\\sklearn\\utils\\deprecation.py:87: FutureWarning: Function get_feature_names is deprecated; get_feature_names is deprecated in 1.0 and will be removed in 1.2. Please use get_feature_names_out instead.\n",
      "  warnings.warn(msg, category=FutureWarning)\n"
     ]
    },
    {
     "data": {
      "text/html": [
       "<div>\n",
       "<style scoped>\n",
       "    .dataframe tbody tr th:only-of-type {\n",
       "        vertical-align: middle;\n",
       "    }\n",
       "\n",
       "    .dataframe tbody tr th {\n",
       "        vertical-align: top;\n",
       "    }\n",
       "\n",
       "    .dataframe thead th {\n",
       "        text-align: right;\n",
       "    }\n",
       "</style>\n",
       "<table border=\"1\" class=\"dataframe\">\n",
       "  <thead>\n",
       "    <tr style=\"text-align: right;\">\n",
       "      <th></th>\n",
       "      <th>(000, CD)</th>\n",
       "      <th>(2016, CD)</th>\n",
       "      <th>(about, IN)</th>\n",
       "      <th>(accord, NN)</th>\n",
       "      <th>(ad, NN)</th>\n",
       "      <th>(administr, NN)</th>\n",
       "      <th>(after, IN)</th>\n",
       "      <th>(against, IN)</th>\n",
       "      <th>(all, DT)</th>\n",
       "      <th>(also, RB)</th>\n",
       "      <th>...</th>\n",
       "      <th>(who, WP)</th>\n",
       "      <th>(will, MD)</th>\n",
       "      <th>(with, IN)</th>\n",
       "      <th>(women, NNS)</th>\n",
       "      <th>(work, NN)</th>\n",
       "      <th>(world, NN)</th>\n",
       "      <th>(would, MD)</th>\n",
       "      <th>(year, NN)</th>\n",
       "      <th>(you, PRP)</th>\n",
       "      <th>(your, PRP$)</th>\n",
       "    </tr>\n",
       "  </thead>\n",
       "  <tbody>\n",
       "    <tr>\n",
       "      <th>0</th>\n",
       "      <td>0.000000</td>\n",
       "      <td>0.000000</td>\n",
       "      <td>0.000000</td>\n",
       "      <td>0.0</td>\n",
       "      <td>0.000000</td>\n",
       "      <td>0.000000</td>\n",
       "      <td>0.000000</td>\n",
       "      <td>0.000000</td>\n",
       "      <td>0.000000</td>\n",
       "      <td>0.000000</td>\n",
       "      <td>...</td>\n",
       "      <td>0.000000</td>\n",
       "      <td>0.083641</td>\n",
       "      <td>0.000000</td>\n",
       "      <td>0.0</td>\n",
       "      <td>0.000000</td>\n",
       "      <td>0.000000</td>\n",
       "      <td>0.000000</td>\n",
       "      <td>0.000000</td>\n",
       "      <td>0.000000</td>\n",
       "      <td>0.000000</td>\n",
       "    </tr>\n",
       "    <tr>\n",
       "      <th>1</th>\n",
       "      <td>0.000000</td>\n",
       "      <td>0.000000</td>\n",
       "      <td>0.000000</td>\n",
       "      <td>0.0</td>\n",
       "      <td>0.000000</td>\n",
       "      <td>0.083066</td>\n",
       "      <td>0.000000</td>\n",
       "      <td>0.000000</td>\n",
       "      <td>0.055717</td>\n",
       "      <td>0.053132</td>\n",
       "      <td>...</td>\n",
       "      <td>0.000000</td>\n",
       "      <td>0.000000</td>\n",
       "      <td>0.255095</td>\n",
       "      <td>0.0</td>\n",
       "      <td>0.074178</td>\n",
       "      <td>0.000000</td>\n",
       "      <td>0.000000</td>\n",
       "      <td>0.104346</td>\n",
       "      <td>0.000000</td>\n",
       "      <td>0.000000</td>\n",
       "    </tr>\n",
       "    <tr>\n",
       "      <th>2</th>\n",
       "      <td>0.000000</td>\n",
       "      <td>0.000000</td>\n",
       "      <td>0.037544</td>\n",
       "      <td>0.0</td>\n",
       "      <td>0.060266</td>\n",
       "      <td>0.129948</td>\n",
       "      <td>0.039561</td>\n",
       "      <td>0.000000</td>\n",
       "      <td>0.000000</td>\n",
       "      <td>0.083118</td>\n",
       "      <td>...</td>\n",
       "      <td>0.000000</td>\n",
       "      <td>0.000000</td>\n",
       "      <td>0.085514</td>\n",
       "      <td>0.0</td>\n",
       "      <td>0.000000</td>\n",
       "      <td>0.000000</td>\n",
       "      <td>0.037730</td>\n",
       "      <td>0.081619</td>\n",
       "      <td>0.000000</td>\n",
       "      <td>0.000000</td>\n",
       "    </tr>\n",
       "    <tr>\n",
       "      <th>3</th>\n",
       "      <td>0.000000</td>\n",
       "      <td>0.000000</td>\n",
       "      <td>0.060931</td>\n",
       "      <td>0.0</td>\n",
       "      <td>0.000000</td>\n",
       "      <td>0.000000</td>\n",
       "      <td>0.000000</td>\n",
       "      <td>0.121268</td>\n",
       "      <td>0.035365</td>\n",
       "      <td>0.033724</td>\n",
       "      <td>...</td>\n",
       "      <td>0.000000</td>\n",
       "      <td>0.000000</td>\n",
       "      <td>0.023131</td>\n",
       "      <td>0.0</td>\n",
       "      <td>0.047082</td>\n",
       "      <td>0.097265</td>\n",
       "      <td>0.000000</td>\n",
       "      <td>0.033115</td>\n",
       "      <td>0.000000</td>\n",
       "      <td>0.000000</td>\n",
       "    </tr>\n",
       "    <tr>\n",
       "      <th>4</th>\n",
       "      <td>0.000000</td>\n",
       "      <td>0.068757</td>\n",
       "      <td>0.041496</td>\n",
       "      <td>0.0</td>\n",
       "      <td>0.000000</td>\n",
       "      <td>0.000000</td>\n",
       "      <td>0.000000</td>\n",
       "      <td>0.000000</td>\n",
       "      <td>0.048168</td>\n",
       "      <td>0.000000</td>\n",
       "      <td>...</td>\n",
       "      <td>0.000000</td>\n",
       "      <td>0.000000</td>\n",
       "      <td>0.094515</td>\n",
       "      <td>0.0</td>\n",
       "      <td>0.000000</td>\n",
       "      <td>0.066240</td>\n",
       "      <td>0.125104</td>\n",
       "      <td>0.090209</td>\n",
       "      <td>0.000000</td>\n",
       "      <td>0.074647</td>\n",
       "    </tr>\n",
       "    <tr>\n",
       "      <th>...</th>\n",
       "      <td>...</td>\n",
       "      <td>...</td>\n",
       "      <td>...</td>\n",
       "      <td>...</td>\n",
       "      <td>...</td>\n",
       "      <td>...</td>\n",
       "      <td>...</td>\n",
       "      <td>...</td>\n",
       "      <td>...</td>\n",
       "      <td>...</td>\n",
       "      <td>...</td>\n",
       "      <td>...</td>\n",
       "      <td>...</td>\n",
       "      <td>...</td>\n",
       "      <td>...</td>\n",
       "      <td>...</td>\n",
       "      <td>...</td>\n",
       "      <td>...</td>\n",
       "      <td>...</td>\n",
       "      <td>...</td>\n",
       "      <td>...</td>\n",
       "    </tr>\n",
       "    <tr>\n",
       "      <th>14642</th>\n",
       "      <td>0.091779</td>\n",
       "      <td>0.000000</td>\n",
       "      <td>0.000000</td>\n",
       "      <td>0.0</td>\n",
       "      <td>0.000000</td>\n",
       "      <td>0.045461</td>\n",
       "      <td>0.083040</td>\n",
       "      <td>0.069708</td>\n",
       "      <td>0.000000</td>\n",
       "      <td>0.000000</td>\n",
       "      <td>...</td>\n",
       "      <td>0.023836</td>\n",
       "      <td>0.053232</td>\n",
       "      <td>0.019944</td>\n",
       "      <td>0.0</td>\n",
       "      <td>0.000000</td>\n",
       "      <td>0.000000</td>\n",
       "      <td>0.079197</td>\n",
       "      <td>0.000000</td>\n",
       "      <td>0.031865</td>\n",
       "      <td>0.000000</td>\n",
       "    </tr>\n",
       "    <tr>\n",
       "      <th>14643</th>\n",
       "      <td>0.000000</td>\n",
       "      <td>0.000000</td>\n",
       "      <td>0.000000</td>\n",
       "      <td>0.0</td>\n",
       "      <td>0.000000</td>\n",
       "      <td>0.000000</td>\n",
       "      <td>0.000000</td>\n",
       "      <td>0.000000</td>\n",
       "      <td>0.097161</td>\n",
       "      <td>0.000000</td>\n",
       "      <td>...</td>\n",
       "      <td>0.000000</td>\n",
       "      <td>0.000000</td>\n",
       "      <td>0.063549</td>\n",
       "      <td>0.0</td>\n",
       "      <td>0.000000</td>\n",
       "      <td>0.000000</td>\n",
       "      <td>0.000000</td>\n",
       "      <td>0.000000</td>\n",
       "      <td>0.000000</td>\n",
       "      <td>0.000000</td>\n",
       "    </tr>\n",
       "    <tr>\n",
       "      <th>14644</th>\n",
       "      <td>0.106480</td>\n",
       "      <td>0.000000</td>\n",
       "      <td>0.000000</td>\n",
       "      <td>0.0</td>\n",
       "      <td>0.000000</td>\n",
       "      <td>0.000000</td>\n",
       "      <td>0.032114</td>\n",
       "      <td>0.000000</td>\n",
       "      <td>0.035377</td>\n",
       "      <td>0.000000</td>\n",
       "      <td>...</td>\n",
       "      <td>0.000000</td>\n",
       "      <td>0.030879</td>\n",
       "      <td>0.046278</td>\n",
       "      <td>0.0</td>\n",
       "      <td>0.000000</td>\n",
       "      <td>0.000000</td>\n",
       "      <td>0.030627</td>\n",
       "      <td>0.000000</td>\n",
       "      <td>0.000000</td>\n",
       "      <td>0.000000</td>\n",
       "    </tr>\n",
       "    <tr>\n",
       "      <th>14645</th>\n",
       "      <td>0.000000</td>\n",
       "      <td>0.000000</td>\n",
       "      <td>0.214627</td>\n",
       "      <td>0.0</td>\n",
       "      <td>0.000000</td>\n",
       "      <td>0.000000</td>\n",
       "      <td>0.064616</td>\n",
       "      <td>0.000000</td>\n",
       "      <td>0.000000</td>\n",
       "      <td>0.000000</td>\n",
       "      <td>...</td>\n",
       "      <td>0.000000</td>\n",
       "      <td>0.031066</td>\n",
       "      <td>0.023279</td>\n",
       "      <td>0.0</td>\n",
       "      <td>0.000000</td>\n",
       "      <td>0.000000</td>\n",
       "      <td>0.061626</td>\n",
       "      <td>0.033328</td>\n",
       "      <td>0.148772</td>\n",
       "      <td>0.000000</td>\n",
       "    </tr>\n",
       "    <tr>\n",
       "      <th>14646</th>\n",
       "      <td>0.000000</td>\n",
       "      <td>0.000000</td>\n",
       "      <td>0.000000</td>\n",
       "      <td>0.0</td>\n",
       "      <td>0.000000</td>\n",
       "      <td>0.000000</td>\n",
       "      <td>0.000000</td>\n",
       "      <td>0.000000</td>\n",
       "      <td>0.000000</td>\n",
       "      <td>0.000000</td>\n",
       "      <td>...</td>\n",
       "      <td>0.000000</td>\n",
       "      <td>0.000000</td>\n",
       "      <td>0.000000</td>\n",
       "      <td>0.0</td>\n",
       "      <td>0.000000</td>\n",
       "      <td>0.000000</td>\n",
       "      <td>0.000000</td>\n",
       "      <td>0.000000</td>\n",
       "      <td>0.000000</td>\n",
       "      <td>0.000000</td>\n",
       "    </tr>\n",
       "  </tbody>\n",
       "</table>\n",
       "<p>14647 rows × 200 columns</p>\n",
       "</div>"
      ],
      "text/plain": [
       "       (000, CD)  (2016, CD)  (about, IN)  (accord, NN)  (ad, NN)  \\\n",
       "0       0.000000    0.000000     0.000000           0.0  0.000000   \n",
       "1       0.000000    0.000000     0.000000           0.0  0.000000   \n",
       "2       0.000000    0.000000     0.037544           0.0  0.060266   \n",
       "3       0.000000    0.000000     0.060931           0.0  0.000000   \n",
       "4       0.000000    0.068757     0.041496           0.0  0.000000   \n",
       "...          ...         ...          ...           ...       ...   \n",
       "14642   0.091779    0.000000     0.000000           0.0  0.000000   \n",
       "14643   0.000000    0.000000     0.000000           0.0  0.000000   \n",
       "14644   0.106480    0.000000     0.000000           0.0  0.000000   \n",
       "14645   0.000000    0.000000     0.214627           0.0  0.000000   \n",
       "14646   0.000000    0.000000     0.000000           0.0  0.000000   \n",
       "\n",
       "       (administr, NN)  (after, IN)  (against, IN)  (all, DT)  (also, RB)  \\\n",
       "0             0.000000     0.000000       0.000000   0.000000    0.000000   \n",
       "1             0.083066     0.000000       0.000000   0.055717    0.053132   \n",
       "2             0.129948     0.039561       0.000000   0.000000    0.083118   \n",
       "3             0.000000     0.000000       0.121268   0.035365    0.033724   \n",
       "4             0.000000     0.000000       0.000000   0.048168    0.000000   \n",
       "...                ...          ...            ...        ...         ...   \n",
       "14642         0.045461     0.083040       0.069708   0.000000    0.000000   \n",
       "14643         0.000000     0.000000       0.000000   0.097161    0.000000   \n",
       "14644         0.000000     0.032114       0.000000   0.035377    0.000000   \n",
       "14645         0.000000     0.064616       0.000000   0.000000    0.000000   \n",
       "14646         0.000000     0.000000       0.000000   0.000000    0.000000   \n",
       "\n",
       "       ...  (who, WP)  (will, MD)  (with, IN)  (women, NNS)  (work, NN)  \\\n",
       "0      ...   0.000000    0.083641    0.000000           0.0    0.000000   \n",
       "1      ...   0.000000    0.000000    0.255095           0.0    0.074178   \n",
       "2      ...   0.000000    0.000000    0.085514           0.0    0.000000   \n",
       "3      ...   0.000000    0.000000    0.023131           0.0    0.047082   \n",
       "4      ...   0.000000    0.000000    0.094515           0.0    0.000000   \n",
       "...    ...        ...         ...         ...           ...         ...   \n",
       "14642  ...   0.023836    0.053232    0.019944           0.0    0.000000   \n",
       "14643  ...   0.000000    0.000000    0.063549           0.0    0.000000   \n",
       "14644  ...   0.000000    0.030879    0.046278           0.0    0.000000   \n",
       "14645  ...   0.000000    0.031066    0.023279           0.0    0.000000   \n",
       "14646  ...   0.000000    0.000000    0.000000           0.0    0.000000   \n",
       "\n",
       "       (world, NN)  (would, MD)  (year, NN)  (you, PRP)  (your, PRP$)  \n",
       "0         0.000000     0.000000    0.000000    0.000000      0.000000  \n",
       "1         0.000000     0.000000    0.104346    0.000000      0.000000  \n",
       "2         0.000000     0.037730    0.081619    0.000000      0.000000  \n",
       "3         0.097265     0.000000    0.033115    0.000000      0.000000  \n",
       "4         0.066240     0.125104    0.090209    0.000000      0.074647  \n",
       "...            ...          ...         ...         ...           ...  \n",
       "14642     0.000000     0.079197    0.000000    0.031865      0.000000  \n",
       "14643     0.000000     0.000000    0.000000    0.000000      0.000000  \n",
       "14644     0.000000     0.030627    0.000000    0.000000      0.000000  \n",
       "14645     0.000000     0.061626    0.033328    0.148772      0.000000  \n",
       "14646     0.000000     0.000000    0.000000    0.000000      0.000000  \n",
       "\n",
       "[14647 rows x 200 columns]"
      ]
     },
     "execution_count": 77,
     "metadata": {},
     "output_type": "execute_result"
    }
   ],
   "source": [
    "# Instantiate the vectorizer\n",
    "tfidf_5 = TfidfVectorizer(\n",
    "    max_features=200,\n",
    "    stop_words=stemmed_stopwords,\n",
    "    tokenizer=stem_tokenize_tag\n",
    ")\n",
    "\n",
    "# Fit the vectorizer on X_train[\"text\"] and transform it\n",
    "X_train_vectorized_5 = tfidf_5.fit_transform(X_train_sub[\"text\"])\n",
    "X_val_vectorized_5 = tfidf_5.fit_transform(X_val_sub[\"text\"])\n",
    "\n",
    "\n",
    "# Create a full df of vectorized + engineered features\n",
    "#pd.DataFrame.sparse.from_spmatrix(X_train_vectorized_5, columns=tfidf_5.get_feature_names())"
   ]
  },
  {
   "cell_type": "code",
   "execution_count": 78,
   "metadata": {},
   "outputs": [
    {
     "data": {
      "text/plain": [
       "MultinomialNB()"
      ]
     },
     "execution_count": 78,
     "metadata": {},
     "output_type": "execute_result"
    }
   ],
   "source": [
    "# Instantiate a MultinomialNB classifier\n",
    "model_5 = MultinomialNB()\n",
    "model_5.fit(X_train_vectorized_5, y_train_sub)"
   ]
  },
  {
   "cell_type": "code",
   "execution_count": 91,
   "metadata": {
    "scrolled": true
   },
   "outputs": [
    {
     "name": "stdout",
     "output_type": "stream",
     "text": [
      "train acc:  0.5817573564552468\n",
      "val acc:  0.5603715170278638\n"
     ]
    }
   ],
   "source": [
    "# predict labels and calculate accuracy\n",
    "model_5_train_preds = model_5.predict(X_train_vectorized_5)\n",
    "model_5_val_preds = model_5.predict(X_val_vectorized_5)\n",
    "\n",
    "print(\"train acc: \", accuracy_score(y_train_sub, model_5_train_preds))\n",
    "print(\"val acc: \", accuracy_score(y_val_sub, model_5_val_preds))"
   ]
  },
  {
   "cell_type": "markdown",
   "metadata": {},
   "source": [
    "Best accuracy thus far"
   ]
  },
  {
   "cell_type": "markdown",
   "metadata": {},
   "source": [
    "## Vectorization Strategy\n",
    "Thus far, we have vectorized the data using on the Tdidf vectorizer. Here, we try some different options."
   ]
  },
  {
   "cell_type": "markdown",
   "metadata": {},
   "source": [
    "### Count Vectorizer"
   ]
  },
  {
   "cell_type": "code",
   "execution_count": 93,
   "metadata": {
    "scrolled": true
   },
   "outputs": [
    {
     "name": "stderr",
     "output_type": "stream",
     "text": [
      "C:\\Users\\bento\\anaconda3.0\\lib\\site-packages\\sklearn\\feature_extraction\\text.py:396: UserWarning: Your stop_words may be inconsistent with your preprocessing. Tokenizing the stop words generated tokens [('about', 'IN'), ('abov', 'NN'), ('after', 'IN'), ('again', 'RB'), ('against', 'IN'), ('ain', 'NN'), ('all', 'DT'), ('am', 'VBP'), ('an', 'DT'), ('and', 'CC'), ('ani', 'NN'), ('are', 'VBP'), ('aren', 'NNS'), ('as', 'IN'), ('at', 'IN'), ('be', 'VB'), ('becaus', 'NN'), ('been', 'VBN'), ('befor', 'NN'), ('below', 'IN'), ('between', 'IN'), ('both', 'DT'), ('but', 'CC'), ('by', 'IN'), ('can', 'MD'), ('couldn', 'NN'), ('did', 'VBD'), ('didn', 'NN'), ('do', 'VB'), ('doe', 'NN'), ('doesn', 'NN'), ('don', 'NN'), ('down', 'RB'), ('dure', 'NN'), ('each', 'DT'), ('few', 'JJ'), ('for', 'IN'), ('from', 'IN'), ('further', 'RB'), ('had', 'VBD'), ('hadn', 'NN'), ('has', 'VBZ'), ('hasn', 'NN'), ('have', 'VB'), ('haven', 'NN'), ('he', 'PRP'), ('her', 'PRP$'), ('here', 'RB'), ('herself', 'NN'), ('him', 'PRP'), ('himself', 'PRP'), ('his', 'PRP$'), ('how', 'WRB'), ('if', 'IN'), ('in', 'IN'), ('into', 'IN'), ('is', 'VBZ'), ('isn', 'NN'), ('it', 'PRP'), ('itself', 'PRP'), ('just', 'RB'), ('ll', 'NN'), ('ll', 'VBP'), ('ma', 'NN'), ('me', 'PRP'), ('mightn', 'NN'), ('more', 'RBR'), ('most', 'JJS'), ('mustn', 'NN'), ('my', 'PRP$'), ('myself', 'PRP'), ('needn', 'NN'), ('no', 'DT'), ('nor', 'CC'), ('not', 'RB'), ('now', 'RB'), ('of', 'IN'), ('off', 'IN'), ('on', 'IN'), ('onc', 'NN'), ('or', 'CC'), ('other', 'JJ'), ('our', 'PRP$'), ('ourselv', 'NN'), ('out', 'IN'), ('over', 'IN'), ('own', 'JJ'), ('re', 'NN'), ('same', 'JJ'), ('shan', 'NN'), ('she', 'PRP'), ('should', 'MD'), ('shouldn', 'NN'), ('so', 'RB'), ('some', 'DT'), ('such', 'JJ'), ('than', 'IN'), ('that', 'DT'), ('that', 'IN'), ('the', 'DT'), ('their', 'PRP$'), ('them', 'PRP'), ('themselv', 'NN'), ('then', 'RB'), ('there', 'RB'), ('these', 'DT'), ('they', 'PRP'), ('this', 'DT'), ('those', 'DT'), ('through', 'IN'), ('to', 'TO'), ('too', 'RB'), ('under', 'IN'), ('until', 'IN'), ('up', 'RB'), ('ve', 'NN'), ('veri', 'NN'), ('was', 'VBD'), ('wasn', 'NN'), ('we', 'PRP'), ('were', 'VBD'), ('weren', 'NNS'), ('what', 'WP'), ('when', 'WRB'), ('where', 'WRB'), ('whi', 'NN'), ('which', 'WDT'), ('while', 'IN'), ('who', 'WP'), ('whom', 'WP'), ('will', 'MD'), ('with', 'IN'), ('won', 'NN'), ('wouldn', 'NN'), ('you', 'PRP'), ('your', 'PRP$'), ('yourself', 'PRP'), ('yourselv', 'NN')] not in stop_words.\n",
      "  warnings.warn(\n"
     ]
    }
   ],
   "source": [
    "# Instantiate the vectorizer\n",
    "count_vec_6 = CountVectorizer(\n",
    "    max_features=200,\n",
    "    stop_words=stemmed_stopwords,\n",
    "    tokenizer=stem_tokenize_tag\n",
    ")\n",
    "\n",
    "# Fit the vectorizer on X_train[\"text\"] and transform it\n",
    "X_train_vectorized_6 = count_vec_6.fit_transform(X_train_sub[\"text\"])\n",
    "X_val_vectorized_6 = count_vec_6.fit_transform(X_val_sub[\"text\"])\n",
    "\n",
    "\n",
    "# Create a full df of vectorized + engineered features\n",
    "#pd.DataFrame.sparse.from_spmatrix(X_train_vectorized_6, columns=count_vec_6.get_feature_names())"
   ]
  },
  {
   "cell_type": "code",
   "execution_count": 94,
   "metadata": {},
   "outputs": [
    {
     "data": {
      "text/plain": [
       "MultinomialNB()"
      ]
     },
     "execution_count": 94,
     "metadata": {},
     "output_type": "execute_result"
    }
   ],
   "source": [
    "# Instantiate a MultinomialNB classifier\n",
    "model_6 = MultinomialNB()\n",
    "model_6.fit(X_train_vectorized_6, y_train_sub)"
   ]
  },
  {
   "cell_type": "code",
   "execution_count": 95,
   "metadata": {},
   "outputs": [
    {
     "name": "stdout",
     "output_type": "stream",
     "text": [
      "train acc:  0.5618215334198129\n",
      "val acc:  0.5468266253869969\n"
     ]
    }
   ],
   "source": [
    "# predict labels and calculate accuracy\n",
    "model_6_train_preds = model_6.predict(X_train_vectorized_6)\n",
    "model_6_val_preds = model_6.predict(X_val_vectorized_6)\n",
    "\n",
    "print(\"train acc: \", accuracy_score(y_train_sub, model_6_train_preds))\n",
    "print(\"val acc: \", accuracy_score(y_val_sub, model_6_val_preds))"
   ]
  },
  {
   "cell_type": "markdown",
   "metadata": {},
   "source": [
    "Tfidf vectorized produced better results"
   ]
  },
  {
   "cell_type": "markdown",
   "metadata": {},
   "source": [
    "## Classifiers"
   ]
  },
  {
   "cell_type": "markdown",
   "metadata": {},
   "source": [
    "### Support Vector Machine"
   ]
  },
  {
   "cell_type": "code",
   "execution_count": 96,
   "metadata": {},
   "outputs": [],
   "source": [
    "svm = SVC(kernel='linear').fit(X_train_vectorized_5, y_train_sub)"
   ]
  },
  {
   "cell_type": "code",
   "execution_count": 97,
   "metadata": {},
   "outputs": [
    {
     "name": "stdout",
     "output_type": "stream",
     "text": [
      "val acc:  0.5688854489164087\n",
      "train acc:  0.6037413804874718\n"
     ]
    }
   ],
   "source": [
    "svm_train_preds = svm.predict(X_train_vectorized_5)\n",
    "svm_val_preds = svm.predict(X_val_vectorized_5)\n",
    "print(\"val acc: \", accuracy_score(y_val_sub, svm_val_preds))\n",
    "print(\"train acc: \", accuracy_score(y_train_sub, svm_train_preds))"
   ]
  },
  {
   "cell_type": "code",
   "execution_count": null,
   "metadata": {},
   "outputs": [],
   "source": []
  },
  {
   "cell_type": "markdown",
   "metadata": {},
   "source": [
    "### Random Forest"
   ]
  },
  {
   "cell_type": "code",
   "execution_count": 98,
   "metadata": {},
   "outputs": [
    {
     "data": {
      "text/plain": [
       "RandomForestClassifier(max_depth=2, random_state=0)"
      ]
     },
     "execution_count": 98,
     "metadata": {},
     "output_type": "execute_result"
    }
   ],
   "source": [
    "rf = RandomForestClassifier(max_depth=2, random_state=0)\n",
    "rf.fit(X_train_vectorized_5, y_train_sub)"
   ]
  },
  {
   "cell_type": "code",
   "execution_count": 99,
   "metadata": {},
   "outputs": [
    {
     "name": "stdout",
     "output_type": "stream",
     "text": [
      "val acc:  0.5421826625386997\n",
      "train acc:  0.5681026831433058\n"
     ]
    }
   ],
   "source": [
    "rf_train_preds = rf.predict(X_train_vectorized_5)\n",
    "rf_val_preds = rf.predict(X_val_vectorized_5)\n",
    "print(\"val acc: \", accuracy_score(y_val_sub, rf_val_preds))\n",
    "print(\"train acc: \", accuracy_score(y_train_sub, rf_train_preds))"
   ]
  },
  {
   "cell_type": "code",
   "execution_count": null,
   "metadata": {},
   "outputs": [],
   "source": []
  },
  {
   "cell_type": "markdown",
   "metadata": {},
   "source": [
    "### XGBoost"
   ]
  },
  {
   "cell_type": "code",
   "execution_count": 102,
   "metadata": {},
   "outputs": [
    {
     "name": "stderr",
     "output_type": "stream",
     "text": [
      "C:\\Users\\bento\\anaconda3.0\\lib\\site-packages\\xgboost\\sklearn.py:1224: UserWarning: The use of label encoder in XGBClassifier is deprecated and will be removed in a future release. To remove this warning, do the following: 1) Pass option use_label_encoder=False when constructing XGBClassifier object; and 2) Encode your labels (y) as integers starting with 0, i.e. 0, 1, 2, ..., [num_class - 1].\n",
      "  warnings.warn(label_encoder_deprecation_msg, UserWarning)\n"
     ]
    },
    {
     "name": "stdout",
     "output_type": "stream",
     "text": [
      "[17:23:43] WARNING: ..\\src\\learner.cc:1115: Starting in XGBoost 1.3.0, the default evaluation metric used with the objective 'binary:logistic' was changed from 'error' to 'logloss'. Explicitly set eval_metric if you'd like to restore the old behavior.\n"
     ]
    },
    {
     "data": {
      "text/plain": [
       "XGBClassifier(base_score=0.5, booster='gbtree', colsample_bylevel=1,\n",
       "              colsample_bynode=1, colsample_bytree=1, enable_categorical=False,\n",
       "              gamma=0, gpu_id=-1, importance_type=None,\n",
       "              interaction_constraints='', learning_rate=0.300000012,\n",
       "              max_delta_step=0, max_depth=6, min_child_weight=1, missing=nan,\n",
       "              monotone_constraints='()', n_estimators=100, n_jobs=8,\n",
       "              num_parallel_tree=1, predictor='auto', random_state=0,\n",
       "              reg_alpha=0, reg_lambda=1, scale_pos_weight=1, subsample=1,\n",
       "              tree_method='exact', validate_parameters=1, verbosity=None)"
      ]
     },
     "execution_count": 102,
     "metadata": {},
     "output_type": "execute_result"
    }
   ],
   "source": [
    "#instantiate a baseline XGBoost Classifier\n",
    "xgb = XGBClassifier()\n",
    "xgb.fit(X_train_vectorized_5, y_train_sub)"
   ]
  },
  {
   "cell_type": "code",
   "execution_count": 103,
   "metadata": {},
   "outputs": [
    {
     "name": "stdout",
     "output_type": "stream",
     "text": [
      "val acc:  0.528250773993808\n",
      "train acc:  0.9146582918003687\n"
     ]
    }
   ],
   "source": [
    "xgb_train_preds = xgb.predict(X_train_vectorized_5)\n",
    "xgb_val_preds = xgb.predict(X_val_vectorized_5)\n",
    "print(\"val acc: \", accuracy_score(y_val_sub, xgb_val_preds))\n",
    "print(\"train acc: \", accuracy_score(y_train_sub, xgb_train_preds))"
   ]
  },
  {
   "cell_type": "code",
   "execution_count": 106,
   "metadata": {
    "scrolled": true
   },
   "outputs": [
    {
     "name": "stderr",
     "output_type": "stream",
     "text": [
      "C:\\Users\\bento\\anaconda3.0\\lib\\site-packages\\xgboost\\sklearn.py:1224: UserWarning: The use of label encoder in XGBClassifier is deprecated and will be removed in a future release. To remove this warning, do the following: 1) Pass option use_label_encoder=False when constructing XGBClassifier object; and 2) Encode your labels (y) as integers starting with 0, i.e. 0, 1, 2, ..., [num_class - 1].\n",
      "  warnings.warn(label_encoder_deprecation_msg, UserWarning)\n"
     ]
    },
    {
     "name": "stdout",
     "output_type": "stream",
     "text": [
      "[17:32:35] WARNING: ..\\src\\learner.cc:1115: Starting in XGBoost 1.3.0, the default evaluation metric used with the objective 'binary:logistic' was changed from 'error' to 'logloss'. Explicitly set eval_metric if you'd like to restore the old behavior.\n"
     ]
    },
    {
     "data": {
      "text/plain": [
       "XGBClassifier(base_score=0.5, booster='gbtree', colsample_bylevel=1,\n",
       "              colsample_bynode=1, colsample_bytree=1, enable_categorical=False,\n",
       "              gamma=0, gpu_id=-1, importance_type=None,\n",
       "              interaction_constraints='', learning_rate=0.300000012,\n",
       "              max_delta_step=0, max_depth=6, min_child_weight=1, missing=nan,\n",
       "              monotone_constraints='()', n_estimators=100, n_jobs=8,\n",
       "              num_parallel_tree=1, predictor='auto', random_state=0,\n",
       "              reg_alpha=0, reg_lambda=1, scale_pos_weight=1, subsample=0.5,\n",
       "              tree_method='exact', validate_parameters=1, verbosity=None)"
      ]
     },
     "execution_count": 106,
     "metadata": {},
     "output_type": "execute_result"
    }
   ],
   "source": [
    "#instantiate a baseline XGBoost Classifier\n",
    "xgb2 = XGBClassifier(subsample=0.5)\n",
    "xgb2.fit(X_train_vectorized_5, y_train_sub)"
   ]
  },
  {
   "cell_type": "code",
   "execution_count": 107,
   "metadata": {
    "scrolled": true
   },
   "outputs": [
    {
     "name": "stdout",
     "output_type": "stream",
     "text": [
      "val acc:  0.5224458204334366\n",
      "train acc:  0.8818188024851505\n"
     ]
    }
   ],
   "source": [
    "xgb2_train_preds = xgb2.predict(X_train_vectorized_5)\n",
    "xgb2_val_preds = xgb2.predict(X_val_vectorized_5)\n",
    "print(\"val acc: \", accuracy_score(y_val_sub, xgb2_val_preds))\n",
    "print(\"train acc: \", accuracy_score(y_train_sub, xgb2_train_preds))"
   ]
  },
  {
   "cell_type": "code",
   "execution_count": null,
   "metadata": {},
   "outputs": [],
   "source": [
    "#define parameter grid for search\n",
    "xgb_param_grid = {\n",
    "    'learning_rate': [0.1, 0.2],\n",
    "    'max_depth': [2,4,6],\n",
    "    'min_child_weight': [1, 2],\n",
    "    'subsample': [0.2, 0.7],\n",
    "    'n_estimators': [100],\n",
    "}\n",
    "\n",
    "#insantiate and fit search object\n",
    "grid_xgb = GridSearchCV(xgb,\n",
    "                        xgb_param_grid,\n",
    "                        scoring='accuracy',\n",
    "                        cv=3, n_jobs=1,\n",
    "                        refit='accuracy',\n",
    "                        return_train_score=True)\n",
    "\n",
    "grid_xgb.fit(X_train_vectorized_5, y_train_sub)\n",
    "\n",
    "#print best parameters\n",
    "best_parameters = grid_xgb.best_params_\n",
    "print('Grid Search found the following optimal parameters: ')\n",
    "for param_name in sorted(best_parameters.keys()):\n",
    "    print('%s: %r' % (param_name, best_parameters[param_name]))"
   ]
  },
  {
   "cell_type": "code",
   "execution_count": null,
   "metadata": {},
   "outputs": [],
   "source": [
    "X_train_vectorized_5"
   ]
  },
  {
   "cell_type": "markdown",
   "metadata": {},
   "source": [
    "### Neural Netwrok"
   ]
  },
  {
   "cell_type": "code",
   "execution_count": null,
   "metadata": {},
   "outputs": [],
   "source": []
  },
  {
   "cell_type": "code",
   "execution_count": null,
   "metadata": {},
   "outputs": [],
   "source": []
  },
  {
   "cell_type": "code",
   "execution_count": null,
   "metadata": {},
   "outputs": [],
   "source": []
  },
  {
   "cell_type": "code",
   "execution_count": null,
   "metadata": {},
   "outputs": [],
   "source": []
  },
  {
   "cell_type": "markdown",
   "metadata": {},
   "source": [
    "## Final Evaluation"
   ]
  },
  {
   "cell_type": "markdown",
   "metadata": {},
   "source": [
    "## Conclusion"
   ]
  },
  {
   "cell_type": "markdown",
   "metadata": {},
   "source": [
    "## Next Steps"
   ]
  },
  {
   "cell_type": "code",
   "execution_count": null,
   "metadata": {},
   "outputs": [],
   "source": []
  }
 ],
 "metadata": {
  "kernelspec": {
   "display_name": "Python 3 (ipykernel)",
   "language": "python",
   "name": "python3"
  },
  "language_info": {
   "codemirror_mode": {
    "name": "ipython",
    "version": 3
   },
   "file_extension": ".py",
   "mimetype": "text/x-python",
   "name": "python",
   "nbconvert_exporter": "python",
   "pygments_lexer": "ipython3",
   "version": "3.9.7"
  },
  "toc": {
   "base_numbering": 1,
   "nav_menu": {},
   "number_sections": true,
   "sideBar": true,
   "skip_h1_title": false,
   "title_cell": "Table of Contents",
   "title_sidebar": "Contents",
   "toc_cell": false,
   "toc_position": {},
   "toc_section_display": true,
   "toc_window_display": false
  }
 },
 "nbformat": 4,
 "nbformat_minor": 4
}
