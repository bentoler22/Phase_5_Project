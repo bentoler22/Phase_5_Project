{
 "cells": [
  {
   "cell_type": "code",
   "execution_count": null,
   "metadata": {},
   "outputs": [],
   "source": []
  },
  {
   "cell_type": "markdown",
   "metadata": {},
   "source": [
    "## Data Understanding"
   ]
  },
  {
   "cell_type": "code",
   "execution_count": 185,
   "metadata": {},
   "outputs": [],
   "source": [
    "import pandas as pd\n",
    "from sklearn.model_selection import train_test_split\n",
    "from nltk.tokenize import RegexpTokenizer\n",
    "from nltk import FreqDist\n",
    "import matplotlib.pyplot as plt\n",
    "from matplotlib.ticker import MaxNLocator\n",
    "from sklearn.feature_extraction.text import TfidfVectorizer\n",
    "from sklearn.naive_bayes import MultinomialNB\n",
    "from sklearn.model_selection import cross_val_score\n",
    "from sklearn.metrics import accuracy_score\n",
    "import nltk\n",
    "from nltk.corpus import stopwords\n",
    "from nltk.stem.snowball import SnowballStemmer\n",
    "from sklearn.svm import SVC"
   ]
  },
  {
   "cell_type": "code",
   "execution_count": 45,
   "metadata": {},
   "outputs": [],
   "source": [
    "fake_or_real_df = pd.read_csv('Data/WELFake_Dataset.csv')"
   ]
  },
  {
   "cell_type": "code",
   "execution_count": 46,
   "metadata": {
    "scrolled": true
   },
   "outputs": [],
   "source": [
    "fake_or_real_df_1 = fake_or_real_df[['title', 'text', 'label']]"
   ]
  },
  {
   "cell_type": "code",
   "execution_count": 47,
   "metadata": {
    "scrolled": false
   },
   "outputs": [
    {
     "name": "stderr",
     "output_type": "stream",
     "text": [
      "C:\\Users\\bento\\anaconda3.0\\lib\\site-packages\\pandas\\core\\indexing.py:1817: SettingWithCopyWarning: \n",
      "A value is trying to be set on a copy of a slice from a DataFrame.\n",
      "Try using .loc[row_indexer,col_indexer] = value instead\n",
      "\n",
      "See the caveats in the documentation: https://pandas.pydata.org/pandas-docs/stable/user_guide/indexing.html#returning-a-view-versus-a-copy\n",
      "  self._setitem_single_column(loc, value, pi)\n"
     ]
    }
   ],
   "source": [
    "fake_or_real_df_1.loc[fake_or_real_df_1['label'] == 1, 'label'] = \"Real\"\n",
    "fake_or_real_df_1.loc[fake_or_real_df_1['label'] == 0, 'label'] = 1"
   ]
  },
  {
   "cell_type": "code",
   "execution_count": 48,
   "metadata": {},
   "outputs": [],
   "source": [
    "fake_or_real_df_1.loc[fake_or_real_df_1['label'] == \"Real\", 'label'] = 0"
   ]
  },
  {
   "cell_type": "code",
   "execution_count": 49,
   "metadata": {},
   "outputs": [
    {
     "data": {
      "text/html": [
       "<div>\n",
       "<style scoped>\n",
       "    .dataframe tbody tr th:only-of-type {\n",
       "        vertical-align: middle;\n",
       "    }\n",
       "\n",
       "    .dataframe tbody tr th {\n",
       "        vertical-align: top;\n",
       "    }\n",
       "\n",
       "    .dataframe thead th {\n",
       "        text-align: right;\n",
       "    }\n",
       "</style>\n",
       "<table border=\"1\" class=\"dataframe\">\n",
       "  <thead>\n",
       "    <tr style=\"text-align: right;\">\n",
       "      <th></th>\n",
       "      <th>title</th>\n",
       "      <th>text</th>\n",
       "      <th>label</th>\n",
       "    </tr>\n",
       "  </thead>\n",
       "  <tbody>\n",
       "    <tr>\n",
       "      <th>0</th>\n",
       "      <td>LAW ENFORCEMENT ON HIGH ALERT Following Threat...</td>\n",
       "      <td>No comment is expected from Barack Obama Membe...</td>\n",
       "      <td>0</td>\n",
       "    </tr>\n",
       "    <tr>\n",
       "      <th>1</th>\n",
       "      <td>NaN</td>\n",
       "      <td>Did they post their votes for Hillary already?</td>\n",
       "      <td>0</td>\n",
       "    </tr>\n",
       "    <tr>\n",
       "      <th>2</th>\n",
       "      <td>UNBELIEVABLE! OBAMA’S ATTORNEY GENERAL SAYS MO...</td>\n",
       "      <td>Now, most of the demonstrators gathered last ...</td>\n",
       "      <td>0</td>\n",
       "    </tr>\n",
       "    <tr>\n",
       "      <th>3</th>\n",
       "      <td>Bobby Jindal, raised Hindu, uses story of Chri...</td>\n",
       "      <td>A dozen politically active pastors came here f...</td>\n",
       "      <td>1</td>\n",
       "    </tr>\n",
       "    <tr>\n",
       "      <th>4</th>\n",
       "      <td>SATAN 2: Russia unvelis an image of its terrif...</td>\n",
       "      <td>The RS-28 Sarmat missile, dubbed Satan 2, will...</td>\n",
       "      <td>0</td>\n",
       "    </tr>\n",
       "    <tr>\n",
       "      <th>...</th>\n",
       "      <td>...</td>\n",
       "      <td>...</td>\n",
       "      <td>...</td>\n",
       "    </tr>\n",
       "    <tr>\n",
       "      <th>72129</th>\n",
       "      <td>Russians steal research on Trump in hack of U....</td>\n",
       "      <td>WASHINGTON (Reuters) - Hackers believed to be ...</td>\n",
       "      <td>1</td>\n",
       "    </tr>\n",
       "    <tr>\n",
       "      <th>72130</th>\n",
       "      <td>WATCH: Giuliani Demands That Democrats Apolog...</td>\n",
       "      <td>You know, because in fantasyland Republicans n...</td>\n",
       "      <td>0</td>\n",
       "    </tr>\n",
       "    <tr>\n",
       "      <th>72131</th>\n",
       "      <td>Migrants Refuse To Leave Train At Refugee Camp...</td>\n",
       "      <td>Migrants Refuse To Leave Train At Refugee Camp...</td>\n",
       "      <td>1</td>\n",
       "    </tr>\n",
       "    <tr>\n",
       "      <th>72132</th>\n",
       "      <td>Trump tussle gives unpopular Mexican leader mu...</td>\n",
       "      <td>MEXICO CITY (Reuters) - Donald Trump’s combati...</td>\n",
       "      <td>1</td>\n",
       "    </tr>\n",
       "    <tr>\n",
       "      <th>72133</th>\n",
       "      <td>Goldman Sachs Endorses Hillary Clinton For Pre...</td>\n",
       "      <td>Goldman Sachs Endorses Hillary Clinton For Pre...</td>\n",
       "      <td>0</td>\n",
       "    </tr>\n",
       "  </tbody>\n",
       "</table>\n",
       "<p>72134 rows × 3 columns</p>\n",
       "</div>"
      ],
      "text/plain": [
       "                                                   title  \\\n",
       "0      LAW ENFORCEMENT ON HIGH ALERT Following Threat...   \n",
       "1                                                    NaN   \n",
       "2      UNBELIEVABLE! OBAMA’S ATTORNEY GENERAL SAYS MO...   \n",
       "3      Bobby Jindal, raised Hindu, uses story of Chri...   \n",
       "4      SATAN 2: Russia unvelis an image of its terrif...   \n",
       "...                                                  ...   \n",
       "72129  Russians steal research on Trump in hack of U....   \n",
       "72130   WATCH: Giuliani Demands That Democrats Apolog...   \n",
       "72131  Migrants Refuse To Leave Train At Refugee Camp...   \n",
       "72132  Trump tussle gives unpopular Mexican leader mu...   \n",
       "72133  Goldman Sachs Endorses Hillary Clinton For Pre...   \n",
       "\n",
       "                                                    text label  \n",
       "0      No comment is expected from Barack Obama Membe...     0  \n",
       "1         Did they post their votes for Hillary already?     0  \n",
       "2       Now, most of the demonstrators gathered last ...     0  \n",
       "3      A dozen politically active pastors came here f...     1  \n",
       "4      The RS-28 Sarmat missile, dubbed Satan 2, will...     0  \n",
       "...                                                  ...   ...  \n",
       "72129  WASHINGTON (Reuters) - Hackers believed to be ...     1  \n",
       "72130  You know, because in fantasyland Republicans n...     0  \n",
       "72131  Migrants Refuse To Leave Train At Refugee Camp...     1  \n",
       "72132  MEXICO CITY (Reuters) - Donald Trump’s combati...     1  \n",
       "72133  Goldman Sachs Endorses Hillary Clinton For Pre...     0  \n",
       "\n",
       "[72134 rows x 3 columns]"
      ]
     },
     "execution_count": 49,
     "metadata": {},
     "output_type": "execute_result"
    }
   ],
   "source": [
    "fake_or_real_df_1"
   ]
  },
  {
   "cell_type": "code",
   "execution_count": 50,
   "metadata": {},
   "outputs": [],
   "source": [
    "fake_df = pd.read_csv('Data/Fake.csv')\n",
    "true_df = pd.read_csv('Data/True.csv')"
   ]
  },
  {
   "cell_type": "code",
   "execution_count": 51,
   "metadata": {},
   "outputs": [],
   "source": [
    "fake_df.drop(columns=['subject', 'date'], inplace=True)\n",
    "true_df.drop(columns=['subject', 'date'], inplace=True)\n",
    "\n",
    "fake_df['label'] = 1\n",
    "true_df['label'] = 0"
   ]
  },
  {
   "cell_type": "code",
   "execution_count": 52,
   "metadata": {},
   "outputs": [],
   "source": [
    "fake_or_real_df_2 = pd.concat([fake_df, true_df])"
   ]
  },
  {
   "cell_type": "code",
   "execution_count": 53,
   "metadata": {
    "scrolled": false
   },
   "outputs": [
    {
     "data": {
      "text/html": [
       "<div>\n",
       "<style scoped>\n",
       "    .dataframe tbody tr th:only-of-type {\n",
       "        vertical-align: middle;\n",
       "    }\n",
       "\n",
       "    .dataframe tbody tr th {\n",
       "        vertical-align: top;\n",
       "    }\n",
       "\n",
       "    .dataframe thead th {\n",
       "        text-align: right;\n",
       "    }\n",
       "</style>\n",
       "<table border=\"1\" class=\"dataframe\">\n",
       "  <thead>\n",
       "    <tr style=\"text-align: right;\">\n",
       "      <th></th>\n",
       "      <th>title</th>\n",
       "      <th>text</th>\n",
       "      <th>label</th>\n",
       "    </tr>\n",
       "  </thead>\n",
       "  <tbody>\n",
       "    <tr>\n",
       "      <th>0</th>\n",
       "      <td>Donald Trump Sends Out Embarrassing New Year’...</td>\n",
       "      <td>Donald Trump just couldn t wish all Americans ...</td>\n",
       "      <td>1</td>\n",
       "    </tr>\n",
       "    <tr>\n",
       "      <th>1</th>\n",
       "      <td>Drunk Bragging Trump Staffer Started Russian ...</td>\n",
       "      <td>House Intelligence Committee Chairman Devin Nu...</td>\n",
       "      <td>1</td>\n",
       "    </tr>\n",
       "    <tr>\n",
       "      <th>2</th>\n",
       "      <td>Sheriff David Clarke Becomes An Internet Joke...</td>\n",
       "      <td>On Friday, it was revealed that former Milwauk...</td>\n",
       "      <td>1</td>\n",
       "    </tr>\n",
       "    <tr>\n",
       "      <th>3</th>\n",
       "      <td>Trump Is So Obsessed He Even Has Obama’s Name...</td>\n",
       "      <td>On Christmas day, Donald Trump announced that ...</td>\n",
       "      <td>1</td>\n",
       "    </tr>\n",
       "    <tr>\n",
       "      <th>4</th>\n",
       "      <td>Pope Francis Just Called Out Donald Trump Dur...</td>\n",
       "      <td>Pope Francis used his annual Christmas Day mes...</td>\n",
       "      <td>1</td>\n",
       "    </tr>\n",
       "    <tr>\n",
       "      <th>...</th>\n",
       "      <td>...</td>\n",
       "      <td>...</td>\n",
       "      <td>...</td>\n",
       "    </tr>\n",
       "    <tr>\n",
       "      <th>21412</th>\n",
       "      <td>'Fully committed' NATO backs new U.S. approach...</td>\n",
       "      <td>BRUSSELS (Reuters) - NATO allies on Tuesday we...</td>\n",
       "      <td>0</td>\n",
       "    </tr>\n",
       "    <tr>\n",
       "      <th>21413</th>\n",
       "      <td>LexisNexis withdrew two products from Chinese ...</td>\n",
       "      <td>LONDON (Reuters) - LexisNexis, a provider of l...</td>\n",
       "      <td>0</td>\n",
       "    </tr>\n",
       "    <tr>\n",
       "      <th>21414</th>\n",
       "      <td>Minsk cultural hub becomes haven from authorities</td>\n",
       "      <td>MINSK (Reuters) - In the shadow of disused Sov...</td>\n",
       "      <td>0</td>\n",
       "    </tr>\n",
       "    <tr>\n",
       "      <th>21415</th>\n",
       "      <td>Vatican upbeat on possibility of Pope Francis ...</td>\n",
       "      <td>MOSCOW (Reuters) - Vatican Secretary of State ...</td>\n",
       "      <td>0</td>\n",
       "    </tr>\n",
       "    <tr>\n",
       "      <th>21416</th>\n",
       "      <td>Indonesia to buy $1.14 billion worth of Russia...</td>\n",
       "      <td>JAKARTA (Reuters) - Indonesia will buy 11 Sukh...</td>\n",
       "      <td>0</td>\n",
       "    </tr>\n",
       "  </tbody>\n",
       "</table>\n",
       "<p>44898 rows × 3 columns</p>\n",
       "</div>"
      ],
      "text/plain": [
       "                                                   title  \\\n",
       "0       Donald Trump Sends Out Embarrassing New Year’...   \n",
       "1       Drunk Bragging Trump Staffer Started Russian ...   \n",
       "2       Sheriff David Clarke Becomes An Internet Joke...   \n",
       "3       Trump Is So Obsessed He Even Has Obama’s Name...   \n",
       "4       Pope Francis Just Called Out Donald Trump Dur...   \n",
       "...                                                  ...   \n",
       "21412  'Fully committed' NATO backs new U.S. approach...   \n",
       "21413  LexisNexis withdrew two products from Chinese ...   \n",
       "21414  Minsk cultural hub becomes haven from authorities   \n",
       "21415  Vatican upbeat on possibility of Pope Francis ...   \n",
       "21416  Indonesia to buy $1.14 billion worth of Russia...   \n",
       "\n",
       "                                                    text  label  \n",
       "0      Donald Trump just couldn t wish all Americans ...      1  \n",
       "1      House Intelligence Committee Chairman Devin Nu...      1  \n",
       "2      On Friday, it was revealed that former Milwauk...      1  \n",
       "3      On Christmas day, Donald Trump announced that ...      1  \n",
       "4      Pope Francis used his annual Christmas Day mes...      1  \n",
       "...                                                  ...    ...  \n",
       "21412  BRUSSELS (Reuters) - NATO allies on Tuesday we...      0  \n",
       "21413  LONDON (Reuters) - LexisNexis, a provider of l...      0  \n",
       "21414  MINSK (Reuters) - In the shadow of disused Sov...      0  \n",
       "21415  MOSCOW (Reuters) - Vatican Secretary of State ...      0  \n",
       "21416  JAKARTA (Reuters) - Indonesia will buy 11 Sukh...      0  \n",
       "\n",
       "[44898 rows x 3 columns]"
      ]
     },
     "execution_count": 53,
     "metadata": {},
     "output_type": "execute_result"
    }
   ],
   "source": [
    "fake_or_real_df_2"
   ]
  },
  {
   "cell_type": "code",
   "execution_count": 54,
   "metadata": {},
   "outputs": [],
   "source": [
    "fake_or_real_df = pd.concat([fake_or_real_df_1, fake_or_real_df_2])"
   ]
  },
  {
   "cell_type": "code",
   "execution_count": 55,
   "metadata": {
    "scrolled": false
   },
   "outputs": [
    {
     "data": {
      "text/html": [
       "<div>\n",
       "<style scoped>\n",
       "    .dataframe tbody tr th:only-of-type {\n",
       "        vertical-align: middle;\n",
       "    }\n",
       "\n",
       "    .dataframe tbody tr th {\n",
       "        vertical-align: top;\n",
       "    }\n",
       "\n",
       "    .dataframe thead th {\n",
       "        text-align: right;\n",
       "    }\n",
       "</style>\n",
       "<table border=\"1\" class=\"dataframe\">\n",
       "  <thead>\n",
       "    <tr style=\"text-align: right;\">\n",
       "      <th></th>\n",
       "      <th>title</th>\n",
       "      <th>text</th>\n",
       "      <th>label</th>\n",
       "    </tr>\n",
       "  </thead>\n",
       "  <tbody>\n",
       "    <tr>\n",
       "      <th>0</th>\n",
       "      <td>LAW ENFORCEMENT ON HIGH ALERT Following Threat...</td>\n",
       "      <td>No comment is expected from Barack Obama Membe...</td>\n",
       "      <td>0</td>\n",
       "    </tr>\n",
       "    <tr>\n",
       "      <th>1</th>\n",
       "      <td>NaN</td>\n",
       "      <td>Did they post their votes for Hillary already?</td>\n",
       "      <td>0</td>\n",
       "    </tr>\n",
       "    <tr>\n",
       "      <th>2</th>\n",
       "      <td>UNBELIEVABLE! OBAMA’S ATTORNEY GENERAL SAYS MO...</td>\n",
       "      <td>Now, most of the demonstrators gathered last ...</td>\n",
       "      <td>0</td>\n",
       "    </tr>\n",
       "    <tr>\n",
       "      <th>3</th>\n",
       "      <td>Bobby Jindal, raised Hindu, uses story of Chri...</td>\n",
       "      <td>A dozen politically active pastors came here f...</td>\n",
       "      <td>1</td>\n",
       "    </tr>\n",
       "    <tr>\n",
       "      <th>4</th>\n",
       "      <td>SATAN 2: Russia unvelis an image of its terrif...</td>\n",
       "      <td>The RS-28 Sarmat missile, dubbed Satan 2, will...</td>\n",
       "      <td>0</td>\n",
       "    </tr>\n",
       "    <tr>\n",
       "      <th>...</th>\n",
       "      <td>...</td>\n",
       "      <td>...</td>\n",
       "      <td>...</td>\n",
       "    </tr>\n",
       "    <tr>\n",
       "      <th>21412</th>\n",
       "      <td>'Fully committed' NATO backs new U.S. approach...</td>\n",
       "      <td>BRUSSELS (Reuters) - NATO allies on Tuesday we...</td>\n",
       "      <td>0</td>\n",
       "    </tr>\n",
       "    <tr>\n",
       "      <th>21413</th>\n",
       "      <td>LexisNexis withdrew two products from Chinese ...</td>\n",
       "      <td>LONDON (Reuters) - LexisNexis, a provider of l...</td>\n",
       "      <td>0</td>\n",
       "    </tr>\n",
       "    <tr>\n",
       "      <th>21414</th>\n",
       "      <td>Minsk cultural hub becomes haven from authorities</td>\n",
       "      <td>MINSK (Reuters) - In the shadow of disused Sov...</td>\n",
       "      <td>0</td>\n",
       "    </tr>\n",
       "    <tr>\n",
       "      <th>21415</th>\n",
       "      <td>Vatican upbeat on possibility of Pope Francis ...</td>\n",
       "      <td>MOSCOW (Reuters) - Vatican Secretary of State ...</td>\n",
       "      <td>0</td>\n",
       "    </tr>\n",
       "    <tr>\n",
       "      <th>21416</th>\n",
       "      <td>Indonesia to buy $1.14 billion worth of Russia...</td>\n",
       "      <td>JAKARTA (Reuters) - Indonesia will buy 11 Sukh...</td>\n",
       "      <td>0</td>\n",
       "    </tr>\n",
       "  </tbody>\n",
       "</table>\n",
       "<p>117032 rows × 3 columns</p>\n",
       "</div>"
      ],
      "text/plain": [
       "                                                   title  \\\n",
       "0      LAW ENFORCEMENT ON HIGH ALERT Following Threat...   \n",
       "1                                                    NaN   \n",
       "2      UNBELIEVABLE! OBAMA’S ATTORNEY GENERAL SAYS MO...   \n",
       "3      Bobby Jindal, raised Hindu, uses story of Chri...   \n",
       "4      SATAN 2: Russia unvelis an image of its terrif...   \n",
       "...                                                  ...   \n",
       "21412  'Fully committed' NATO backs new U.S. approach...   \n",
       "21413  LexisNexis withdrew two products from Chinese ...   \n",
       "21414  Minsk cultural hub becomes haven from authorities   \n",
       "21415  Vatican upbeat on possibility of Pope Francis ...   \n",
       "21416  Indonesia to buy $1.14 billion worth of Russia...   \n",
       "\n",
       "                                                    text label  \n",
       "0      No comment is expected from Barack Obama Membe...     0  \n",
       "1         Did they post their votes for Hillary already?     0  \n",
       "2       Now, most of the demonstrators gathered last ...     0  \n",
       "3      A dozen politically active pastors came here f...     1  \n",
       "4      The RS-28 Sarmat missile, dubbed Satan 2, will...     0  \n",
       "...                                                  ...   ...  \n",
       "21412  BRUSSELS (Reuters) - NATO allies on Tuesday we...     0  \n",
       "21413  LONDON (Reuters) - LexisNexis, a provider of l...     0  \n",
       "21414  MINSK (Reuters) - In the shadow of disused Sov...     0  \n",
       "21415  MOSCOW (Reuters) - Vatican Secretary of State ...     0  \n",
       "21416  JAKARTA (Reuters) - Indonesia will buy 11 Sukh...     0  \n",
       "\n",
       "[117032 rows x 3 columns]"
      ]
     },
     "execution_count": 55,
     "metadata": {},
     "output_type": "execute_result"
    }
   ],
   "source": [
    "fake_or_real_df"
   ]
  },
  {
   "cell_type": "code",
   "execution_count": 56,
   "metadata": {},
   "outputs": [],
   "source": [
    "fake_or_real_df.drop_duplicates(inplace=True)\n",
    "fake_or_real_df.dropna(inplace=True)"
   ]
  },
  {
   "cell_type": "code",
   "execution_count": 57,
   "metadata": {
    "scrolled": true
   },
   "outputs": [],
   "source": [
    "fake_or_real_df.drop(columns=['title'], inplace=True)"
   ]
  },
  {
   "cell_type": "code",
   "execution_count": 58,
   "metadata": {},
   "outputs": [
    {
     "data": {
      "text/html": [
       "<div>\n",
       "<style scoped>\n",
       "    .dataframe tbody tr th:only-of-type {\n",
       "        vertical-align: middle;\n",
       "    }\n",
       "\n",
       "    .dataframe tbody tr th {\n",
       "        vertical-align: top;\n",
       "    }\n",
       "\n",
       "    .dataframe thead th {\n",
       "        text-align: right;\n",
       "    }\n",
       "</style>\n",
       "<table border=\"1\" class=\"dataframe\">\n",
       "  <thead>\n",
       "    <tr style=\"text-align: right;\">\n",
       "      <th></th>\n",
       "      <th>text</th>\n",
       "      <th>label</th>\n",
       "    </tr>\n",
       "  </thead>\n",
       "  <tbody>\n",
       "    <tr>\n",
       "      <th>0</th>\n",
       "      <td>No comment is expected from Barack Obama Membe...</td>\n",
       "      <td>0</td>\n",
       "    </tr>\n",
       "    <tr>\n",
       "      <th>2</th>\n",
       "      <td>Now, most of the demonstrators gathered last ...</td>\n",
       "      <td>0</td>\n",
       "    </tr>\n",
       "    <tr>\n",
       "      <th>3</th>\n",
       "      <td>A dozen politically active pastors came here f...</td>\n",
       "      <td>1</td>\n",
       "    </tr>\n",
       "    <tr>\n",
       "      <th>4</th>\n",
       "      <td>The RS-28 Sarmat missile, dubbed Satan 2, will...</td>\n",
       "      <td>0</td>\n",
       "    </tr>\n",
       "    <tr>\n",
       "      <th>5</th>\n",
       "      <td>All we can say on this one is it s about time ...</td>\n",
       "      <td>0</td>\n",
       "    </tr>\n",
       "    <tr>\n",
       "      <th>...</th>\n",
       "      <td>...</td>\n",
       "      <td>...</td>\n",
       "    </tr>\n",
       "    <tr>\n",
       "      <th>21412</th>\n",
       "      <td>BRUSSELS (Reuters) - NATO allies on Tuesday we...</td>\n",
       "      <td>0</td>\n",
       "    </tr>\n",
       "    <tr>\n",
       "      <th>21413</th>\n",
       "      <td>LONDON (Reuters) - LexisNexis, a provider of l...</td>\n",
       "      <td>0</td>\n",
       "    </tr>\n",
       "    <tr>\n",
       "      <th>21414</th>\n",
       "      <td>MINSK (Reuters) - In the shadow of disused Sov...</td>\n",
       "      <td>0</td>\n",
       "    </tr>\n",
       "    <tr>\n",
       "      <th>21415</th>\n",
       "      <td>MOSCOW (Reuters) - Vatican Secretary of State ...</td>\n",
       "      <td>0</td>\n",
       "    </tr>\n",
       "    <tr>\n",
       "      <th>21416</th>\n",
       "      <td>JAKARTA (Reuters) - Indonesia will buy 11 Sukh...</td>\n",
       "      <td>0</td>\n",
       "    </tr>\n",
       "  </tbody>\n",
       "</table>\n",
       "<p>102226 rows × 2 columns</p>\n",
       "</div>"
      ],
      "text/plain": [
       "                                                    text label\n",
       "0      No comment is expected from Barack Obama Membe...     0\n",
       "2       Now, most of the demonstrators gathered last ...     0\n",
       "3      A dozen politically active pastors came here f...     1\n",
       "4      The RS-28 Sarmat missile, dubbed Satan 2, will...     0\n",
       "5      All we can say on this one is it s about time ...     0\n",
       "...                                                  ...   ...\n",
       "21412  BRUSSELS (Reuters) - NATO allies on Tuesday we...     0\n",
       "21413  LONDON (Reuters) - LexisNexis, a provider of l...     0\n",
       "21414  MINSK (Reuters) - In the shadow of disused Sov...     0\n",
       "21415  MOSCOW (Reuters) - Vatican Secretary of State ...     0\n",
       "21416  JAKARTA (Reuters) - Indonesia will buy 11 Sukh...     0\n",
       "\n",
       "[102226 rows x 2 columns]"
      ]
     },
     "execution_count": 58,
     "metadata": {},
     "output_type": "execute_result"
    }
   ],
   "source": [
    "fake_or_real_df"
   ]
  },
  {
   "cell_type": "code",
   "execution_count": 59,
   "metadata": {},
   "outputs": [
    {
     "data": {
      "text/plain": [
       "1    52699\n",
       "0    49527\n",
       "Name: label, dtype: int64"
      ]
     },
     "execution_count": 59,
     "metadata": {},
     "output_type": "execute_result"
    }
   ],
   "source": [
    "fake_or_real_df.label.value_counts()"
   ]
  },
  {
   "cell_type": "code",
   "execution_count": 60,
   "metadata": {},
   "outputs": [],
   "source": [
    "news_cat = pd.read_json('Data/News_Category_Dataset_v3.json', lines=True)"
   ]
  },
  {
   "cell_type": "markdown",
   "metadata": {},
   "source": [
    "## Data Cleaning"
   ]
  },
  {
   "cell_type": "code",
   "execution_count": 61,
   "metadata": {},
   "outputs": [],
   "source": [
    "# Transform  data to lowercase\n",
    "fake_or_real_df['text'] = fake_or_real_df['text'].str.lower()"
   ]
  },
  {
   "cell_type": "code",
   "execution_count": 62,
   "metadata": {},
   "outputs": [],
   "source": [
    "# Tokenize data\n",
    "token_pattern = r\"(?u)\\b\\w\\w+\\b\"\n",
    "\n",
    "tokenizer = RegexpTokenizer(token_pattern)\n",
    "\n",
    "fake_or_real_df['tokenized'] = fake_or_real_df['text'].apply(tokenizer.tokenize)"
   ]
  },
  {
   "cell_type": "code",
   "execution_count": 63,
   "metadata": {
    "scrolled": false
   },
   "outputs": [
    {
     "data": {
      "text/html": [
       "<div>\n",
       "<style scoped>\n",
       "    .dataframe tbody tr th:only-of-type {\n",
       "        vertical-align: middle;\n",
       "    }\n",
       "\n",
       "    .dataframe tbody tr th {\n",
       "        vertical-align: top;\n",
       "    }\n",
       "\n",
       "    .dataframe thead th {\n",
       "        text-align: right;\n",
       "    }\n",
       "</style>\n",
       "<table border=\"1\" class=\"dataframe\">\n",
       "  <thead>\n",
       "    <tr style=\"text-align: right;\">\n",
       "      <th></th>\n",
       "      <th>text</th>\n",
       "      <th>label</th>\n",
       "      <th>tokenized</th>\n",
       "    </tr>\n",
       "  </thead>\n",
       "  <tbody>\n",
       "    <tr>\n",
       "      <th>0</th>\n",
       "      <td>no comment is expected from barack obama membe...</td>\n",
       "      <td>0</td>\n",
       "      <td>[no, comment, is, expected, from, barack, obam...</td>\n",
       "    </tr>\n",
       "    <tr>\n",
       "      <th>2</th>\n",
       "      <td>now, most of the demonstrators gathered last ...</td>\n",
       "      <td>0</td>\n",
       "      <td>[now, most, of, the, demonstrators, gathered, ...</td>\n",
       "    </tr>\n",
       "    <tr>\n",
       "      <th>3</th>\n",
       "      <td>a dozen politically active pastors came here f...</td>\n",
       "      <td>1</td>\n",
       "      <td>[dozen, politically, active, pastors, came, he...</td>\n",
       "    </tr>\n",
       "    <tr>\n",
       "      <th>4</th>\n",
       "      <td>the rs-28 sarmat missile, dubbed satan 2, will...</td>\n",
       "      <td>0</td>\n",
       "      <td>[the, rs, 28, sarmat, missile, dubbed, satan, ...</td>\n",
       "    </tr>\n",
       "    <tr>\n",
       "      <th>5</th>\n",
       "      <td>all we can say on this one is it s about time ...</td>\n",
       "      <td>0</td>\n",
       "      <td>[all, we, can, say, on, this, one, is, it, abo...</td>\n",
       "    </tr>\n",
       "    <tr>\n",
       "      <th>...</th>\n",
       "      <td>...</td>\n",
       "      <td>...</td>\n",
       "      <td>...</td>\n",
       "    </tr>\n",
       "    <tr>\n",
       "      <th>21412</th>\n",
       "      <td>brussels (reuters) - nato allies on tuesday we...</td>\n",
       "      <td>0</td>\n",
       "      <td>[brussels, reuters, nato, allies, on, tuesday,...</td>\n",
       "    </tr>\n",
       "    <tr>\n",
       "      <th>21413</th>\n",
       "      <td>london (reuters) - lexisnexis, a provider of l...</td>\n",
       "      <td>0</td>\n",
       "      <td>[london, reuters, lexisnexis, provider, of, le...</td>\n",
       "    </tr>\n",
       "    <tr>\n",
       "      <th>21414</th>\n",
       "      <td>minsk (reuters) - in the shadow of disused sov...</td>\n",
       "      <td>0</td>\n",
       "      <td>[minsk, reuters, in, the, shadow, of, disused,...</td>\n",
       "    </tr>\n",
       "    <tr>\n",
       "      <th>21415</th>\n",
       "      <td>moscow (reuters) - vatican secretary of state ...</td>\n",
       "      <td>0</td>\n",
       "      <td>[moscow, reuters, vatican, secretary, of, stat...</td>\n",
       "    </tr>\n",
       "    <tr>\n",
       "      <th>21416</th>\n",
       "      <td>jakarta (reuters) - indonesia will buy 11 sukh...</td>\n",
       "      <td>0</td>\n",
       "      <td>[jakarta, reuters, indonesia, will, buy, 11, s...</td>\n",
       "    </tr>\n",
       "  </tbody>\n",
       "</table>\n",
       "<p>102226 rows × 3 columns</p>\n",
       "</div>"
      ],
      "text/plain": [
       "                                                    text label  \\\n",
       "0      no comment is expected from barack obama membe...     0   \n",
       "2       now, most of the demonstrators gathered last ...     0   \n",
       "3      a dozen politically active pastors came here f...     1   \n",
       "4      the rs-28 sarmat missile, dubbed satan 2, will...     0   \n",
       "5      all we can say on this one is it s about time ...     0   \n",
       "...                                                  ...   ...   \n",
       "21412  brussels (reuters) - nato allies on tuesday we...     0   \n",
       "21413  london (reuters) - lexisnexis, a provider of l...     0   \n",
       "21414  minsk (reuters) - in the shadow of disused sov...     0   \n",
       "21415  moscow (reuters) - vatican secretary of state ...     0   \n",
       "21416  jakarta (reuters) - indonesia will buy 11 sukh...     0   \n",
       "\n",
       "                                               tokenized  \n",
       "0      [no, comment, is, expected, from, barack, obam...  \n",
       "2      [now, most, of, the, demonstrators, gathered, ...  \n",
       "3      [dozen, politically, active, pastors, came, he...  \n",
       "4      [the, rs, 28, sarmat, missile, dubbed, satan, ...  \n",
       "5      [all, we, can, say, on, this, one, is, it, abo...  \n",
       "...                                                  ...  \n",
       "21412  [brussels, reuters, nato, allies, on, tuesday,...  \n",
       "21413  [london, reuters, lexisnexis, provider, of, le...  \n",
       "21414  [minsk, reuters, in, the, shadow, of, disused,...  \n",
       "21415  [moscow, reuters, vatican, secretary, of, stat...  \n",
       "21416  [jakarta, reuters, indonesia, will, buy, 11, s...  \n",
       "\n",
       "[102226 rows x 3 columns]"
      ]
     },
     "execution_count": 63,
     "metadata": {},
     "output_type": "execute_result"
    }
   ],
   "source": [
    "fake_or_real_df"
   ]
  },
  {
   "cell_type": "markdown",
   "metadata": {},
   "source": [
    "## Data Preparation"
   ]
  },
  {
   "cell_type": "code",
   "execution_count": 158,
   "metadata": {},
   "outputs": [],
   "source": [
    "X = fake_or_real_df[['text', 'tokenized']]\n",
    "y = fake_or_real_df['label']"
   ]
  },
  {
   "cell_type": "code",
   "execution_count": 159,
   "metadata": {},
   "outputs": [],
   "source": [
    "# intial split of data into traiing and test sets with 15% test size\n",
    "X_train_1, X_test, y_train_1, y_test = train_test_split(X, y, test_size=.15, \n",
    "                                                        random_state=42)"
   ]
  },
  {
   "cell_type": "code",
   "execution_count": 160,
   "metadata": {},
   "outputs": [],
   "source": [
    "# second split of data into training and validation sets with 15% val size\n",
    "X_train, X_val, y_train, y_val = train_test_split(X_train_1, y_train_1, \n",
    "                                                  test_size=0.15,\n",
    "                                                  random_state=42)"
   ]
  },
  {
   "cell_type": "code",
   "execution_count": 161,
   "metadata": {},
   "outputs": [],
   "source": [
    "# third split of data into smaller training and val sets\n",
    "X_train_sub, x1, y_train_sub, y1 = train_test_split(X_train, y_train, \n",
    "                                                  test_size=0.8,\n",
    "                                                  random_state=42)\n",
    "\n",
    "X_val_sub, x2, y_val_sub, y2 = train_test_split(X_val, y_val, \n",
    "                                                test_size=0.8,\n",
    "                                                random_state=42)"
   ]
  },
  {
   "cell_type": "code",
   "execution_count": 162,
   "metadata": {
    "scrolled": true
   },
   "outputs": [
    {
     "data": {
      "text/html": [
       "<div>\n",
       "<style scoped>\n",
       "    .dataframe tbody tr th:only-of-type {\n",
       "        vertical-align: middle;\n",
       "    }\n",
       "\n",
       "    .dataframe tbody tr th {\n",
       "        vertical-align: top;\n",
       "    }\n",
       "\n",
       "    .dataframe thead th {\n",
       "        text-align: right;\n",
       "    }\n",
       "</style>\n",
       "<table border=\"1\" class=\"dataframe\">\n",
       "  <thead>\n",
       "    <tr style=\"text-align: right;\">\n",
       "      <th></th>\n",
       "      <th>text</th>\n",
       "      <th>tokenized</th>\n",
       "    </tr>\n",
       "  </thead>\n",
       "  <tbody>\n",
       "    <tr>\n",
       "      <th>52977</th>\n",
       "      <td>by jerri-lynn scofield \\njerri-lynn here: i fi...</td>\n",
       "      <td>[by, jerri, lynn, scofield, jerri, lynn, here,...</td>\n",
       "    </tr>\n",
       "    <tr>\n",
       "      <th>58730</th>\n",
       "      <td>some senators are more diplomatic about their ...</td>\n",
       "      <td>[some, senators, are, more, diplomatic, about,...</td>\n",
       "    </tr>\n",
       "    <tr>\n",
       "      <th>6133</th>\n",
       "      <td>a new war toy for the navy was shown off recen...</td>\n",
       "      <td>[new, war, toy, for, the, navy, was, shown, of...</td>\n",
       "    </tr>\n",
       "    <tr>\n",
       "      <th>20696</th>\n",
       "      <td>abidjan (reuters) - a group of allies of ivory...</td>\n",
       "      <td>[abidjan, reuters, group, of, allies, of, ivor...</td>\n",
       "    </tr>\n",
       "    <tr>\n",
       "      <th>1994</th>\n",
       "      <td>lima (reuters) - north korea s ambassador to p...</td>\n",
       "      <td>[lima, reuters, north, korea, ambassador, to, ...</td>\n",
       "    </tr>\n",
       "    <tr>\n",
       "      <th>...</th>\n",
       "      <td>...</td>\n",
       "      <td>...</td>\n",
       "    </tr>\n",
       "    <tr>\n",
       "      <th>63279</th>\n",
       "      <td>des moines, iowa — donald trump is willing to ...</td>\n",
       "      <td>[des, moines, iowa, donald, trump, is, willing...</td>\n",
       "    </tr>\n",
       "    <tr>\n",
       "      <th>69092</th>\n",
       "      <td></td>\n",
       "      <td>[]</td>\n",
       "    </tr>\n",
       "    <tr>\n",
       "      <th>2980</th>\n",
       "      <td>london (reuters) - princes william and harry p...</td>\n",
       "      <td>[london, reuters, princes, william, and, harry...</td>\n",
       "    </tr>\n",
       "    <tr>\n",
       "      <th>8004</th>\n",
       "      <td>donald trump has been nothing but a disaster s...</td>\n",
       "      <td>[donald, trump, has, been, nothing, but, disas...</td>\n",
       "    </tr>\n",
       "    <tr>\n",
       "      <th>1748</th>\n",
       "      <td>a dying man had just one wish, and that was fo...</td>\n",
       "      <td>[dying, man, had, just, one, wish, and, that, ...</td>\n",
       "    </tr>\n",
       "  </tbody>\n",
       "</table>\n",
       "<p>14771 rows × 2 columns</p>\n",
       "</div>"
      ],
      "text/plain": [
       "                                                    text  \\\n",
       "52977  by jerri-lynn scofield \\njerri-lynn here: i fi...   \n",
       "58730  some senators are more diplomatic about their ...   \n",
       "6133   a new war toy for the navy was shown off recen...   \n",
       "20696  abidjan (reuters) - a group of allies of ivory...   \n",
       "1994   lima (reuters) - north korea s ambassador to p...   \n",
       "...                                                  ...   \n",
       "63279  des moines, iowa — donald trump is willing to ...   \n",
       "69092                                                      \n",
       "2980   london (reuters) - princes william and harry p...   \n",
       "8004   donald trump has been nothing but a disaster s...   \n",
       "1748   a dying man had just one wish, and that was fo...   \n",
       "\n",
       "                                               tokenized  \n",
       "52977  [by, jerri, lynn, scofield, jerri, lynn, here,...  \n",
       "58730  [some, senators, are, more, diplomatic, about,...  \n",
       "6133   [new, war, toy, for, the, navy, was, shown, of...  \n",
       "20696  [abidjan, reuters, group, of, allies, of, ivor...  \n",
       "1994   [lima, reuters, north, korea, ambassador, to, ...  \n",
       "...                                                  ...  \n",
       "63279  [des, moines, iowa, donald, trump, is, willing...  \n",
       "69092                                                 []  \n",
       "2980   [london, reuters, princes, william, and, harry...  \n",
       "8004   [donald, trump, has, been, nothing, but, disas...  \n",
       "1748   [dying, man, had, just, one, wish, and, that, ...  \n",
       "\n",
       "[14771 rows x 2 columns]"
      ]
     },
     "execution_count": 162,
     "metadata": {},
     "output_type": "execute_result"
    }
   ],
   "source": [
    "X_train_sub"
   ]
  },
  {
   "cell_type": "markdown",
   "metadata": {},
   "source": [
    "## Exploratory Data Analysis"
   ]
  },
  {
   "cell_type": "code",
   "execution_count": 91,
   "metadata": {},
   "outputs": [],
   "source": [
    "def visualize_top_10(freq_dist, title):\n",
    "\n",
    "    # Extract data for plotting\n",
    "    top_10 = list(zip(*freq_dist.most_common(10)))\n",
    "    tokens = top_10[0]\n",
    "    counts = top_10[1]\n",
    "\n",
    "    # Set up plot and plot data\n",
    "    fig, ax = plt.subplots()\n",
    "    ax.bar(tokens, counts)\n",
    "\n",
    "    # Customize plot appearance\n",
    "    ax.set_title(title)\n",
    "    ax.set_ylabel(\"Count\")\n",
    "    ax.yaxis.set_major_locator(MaxNLocator(integer=True))\n",
    "    ax.tick_params(axis=\"x\", rotation=90)"
   ]
  },
  {
   "cell_type": "code",
   "execution_count": 51,
   "metadata": {},
   "outputs": [
    {
     "data": {
      "image/png": "[encoded data removed]",
      "text/plain": [
       "<Figure size 432x288 with 1 Axes>"
      ]
     },
     "metadata": {
      "needs_background": "light"
     },
     "output_type": "display_data"
    }
   ],
   "source": [
    "freq_dist = FreqDist(X_train['tokenized'].explode())\n",
    "visualize_top_10(freq_dist, \"Top 10 Word Frequency for Full Dataset\")"
   ]
  },
  {
   "cell_type": "code",
   "execution_count": 182,
   "metadata": {},
   "outputs": [
    {
     "data": {
      "image/png": "[encoded data removed]",
      "text/plain": [
       "<Figure size 432x288 with 1 Axes>"
      ]
     },
     "metadata": {
      "needs_background": "light"
     },
     "output_type": "display_data"
    }
   ],
   "source": [
    "true_freq_dist = FreqDist(fake_or_real_df.loc[fake_or_real_df.label == 0, 'tokenized'].explode())\n",
    "visualize_top_10(true_freq_dist, \"Top 10 Word Frequency for Real Text\")"
   ]
  },
  {
   "cell_type": "code",
   "execution_count": 181,
   "metadata": {},
   "outputs": [
    {
     "data": {
      "image/png": "[encoded data removed]",
      "text/plain": [
       "<Figure size 432x288 with 1 Axes>"
      ]
     },
     "metadata": {
      "needs_background": "light"
     },
     "output_type": "display_data"
    }
   ],
   "source": [
    "fake_freq_dist = FreqDist(fake_or_real_df.loc[fake_or_real_df.label == 1, 'tokenized'].explode())\n",
    "visualize_top_10(fake_freq_dist, \"Top 10 Word Frequency for Fake Text\")"
   ]
  },
  {
   "cell_type": "markdown",
   "metadata": {},
   "source": [
    "## Baseline Modeling"
   ]
  },
  {
   "cell_type": "code",
   "execution_count": 163,
   "metadata": {},
   "outputs": [],
   "source": [
    "X_train.reset_index(drop=True, inplace=True)\n",
    "X_val.reset_index(drop=True, inplace=True)"
   ]
  },
  {
   "cell_type": "code",
   "execution_count": 164,
   "metadata": {},
   "outputs": [],
   "source": [
    "X_train_sub.reset_index(drop=True, inplace=True)\n",
    "X_val_sub.reset_index(drop=True, inplace=True)"
   ]
  },
  {
   "cell_type": "code",
   "execution_count": 165,
   "metadata": {},
   "outputs": [],
   "source": [
    "y_train.reset_index(drop=True, inplace=True)\n",
    "y_val.reset_index(drop=True, inplace=True)"
   ]
  },
  {
   "cell_type": "code",
   "execution_count": 166,
   "metadata": {},
   "outputs": [],
   "source": [
    "y_train_sub.reset_index(drop=True, inplace=True)\n",
    "y_val_sub.reset_index(drop=True, inplace=True)"
   ]
  },
  {
   "cell_type": "code",
   "execution_count": 167,
   "metadata": {
    "scrolled": true
   },
   "outputs": [],
   "source": [
    "y_train = y_train.astype(dtype=str)\n",
    "y_val = y_val.astype(dtype=str)"
   ]
  },
  {
   "cell_type": "code",
   "execution_count": 168,
   "metadata": {},
   "outputs": [],
   "source": [
    "y_train_sub = y_train_sub.astype(dtype=str)\n",
    "y_val_sub = y_val_sub.astype(dtype=str)"
   ]
  },
  {
   "cell_type": "code",
   "execution_count": 169,
   "metadata": {},
   "outputs": [
    {
     "data": {
      "text/plain": [
       "0        0\n",
       "1        1\n",
       "2        1\n",
       "3        0\n",
       "4        1\n",
       "        ..\n",
       "14766    1\n",
       "14767    0\n",
       "14768    1\n",
       "14769    0\n",
       "14770    1\n",
       "Name: label, Length: 14771, dtype: object"
      ]
     },
     "execution_count": 169,
     "metadata": {},
     "output_type": "execute_result"
    }
   ],
   "source": [
    "y_train_sub"
   ]
  },
  {
   "cell_type": "code",
   "execution_count": 72,
   "metadata": {},
   "outputs": [],
   "source": [
    "y_train = y_train.to_numpy(dtype=\"|S6\")\n",
    "y_val = y_val.to_numpy(dtype=\"|S6\")"
   ]
  },
  {
   "cell_type": "code",
   "execution_count": 82,
   "metadata": {},
   "outputs": [
    {
     "name": "stderr",
     "output_type": "stream",
     "text": [
      "C:\\Users\\bento\\anaconda3.0\\lib\\site-packages\\sklearn\\utils\\deprecation.py:87: FutureWarning: Function get_feature_names is deprecated; get_feature_names is deprecated in 1.0 and will be removed in 1.2. Please use get_feature_names_out instead.\n",
      "  warnings.warn(msg, category=FutureWarning)\n"
     ]
    },
    {
     "data": {
      "text/html": [
       "<div>\n",
       "<style scoped>\n",
       "    .dataframe tbody tr th:only-of-type {\n",
       "        vertical-align: middle;\n",
       "    }\n",
       "\n",
       "    .dataframe tbody tr th {\n",
       "        vertical-align: top;\n",
       "    }\n",
       "\n",
       "    .dataframe thead th {\n",
       "        text-align: right;\n",
       "    }\n",
       "</style>\n",
       "<table border=\"1\" class=\"dataframe\">\n",
       "  <thead>\n",
       "    <tr style=\"text-align: right;\">\n",
       "      <th></th>\n",
       "      <th>and</th>\n",
       "      <th>for</th>\n",
       "      <th>in</th>\n",
       "      <th>is</th>\n",
       "      <th>it</th>\n",
       "      <th>of</th>\n",
       "      <th>on</th>\n",
       "      <th>that</th>\n",
       "      <th>the</th>\n",
       "      <th>to</th>\n",
       "    </tr>\n",
       "  </thead>\n",
       "  <tbody>\n",
       "    <tr>\n",
       "      <th>0</th>\n",
       "      <td>0.253977</td>\n",
       "      <td>0.277327</td>\n",
       "      <td>0.000000</td>\n",
       "      <td>0.283892</td>\n",
       "      <td>0.000000</td>\n",
       "      <td>0.252312</td>\n",
       "      <td>0.128623</td>\n",
       "      <td>0.270993</td>\n",
       "      <td>0.612035</td>\n",
       "      <td>0.499762</td>\n",
       "    </tr>\n",
       "    <tr>\n",
       "      <th>1</th>\n",
       "      <td>0.289246</td>\n",
       "      <td>0.028713</td>\n",
       "      <td>0.276578</td>\n",
       "      <td>0.044088</td>\n",
       "      <td>0.107703</td>\n",
       "      <td>0.182858</td>\n",
       "      <td>0.173117</td>\n",
       "      <td>0.070142</td>\n",
       "      <td>0.735045</td>\n",
       "      <td>0.465678</td>\n",
       "    </tr>\n",
       "    <tr>\n",
       "      <th>2</th>\n",
       "      <td>0.299051</td>\n",
       "      <td>0.130618</td>\n",
       "      <td>0.239657</td>\n",
       "      <td>0.133710</td>\n",
       "      <td>0.174984</td>\n",
       "      <td>0.326799</td>\n",
       "      <td>0.030290</td>\n",
       "      <td>0.382904</td>\n",
       "      <td>0.432393</td>\n",
       "      <td>0.588456</td>\n",
       "    </tr>\n",
       "    <tr>\n",
       "      <th>3</th>\n",
       "      <td>0.355306</td>\n",
       "      <td>0.096993</td>\n",
       "      <td>0.302535</td>\n",
       "      <td>0.019858</td>\n",
       "      <td>0.020790</td>\n",
       "      <td>0.388273</td>\n",
       "      <td>0.215927</td>\n",
       "      <td>0.113733</td>\n",
       "      <td>0.702098</td>\n",
       "      <td>0.262182</td>\n",
       "    </tr>\n",
       "    <tr>\n",
       "      <th>4</th>\n",
       "      <td>0.352455</td>\n",
       "      <td>0.207232</td>\n",
       "      <td>0.353068</td>\n",
       "      <td>0.121222</td>\n",
       "      <td>0.158641</td>\n",
       "      <td>0.350144</td>\n",
       "      <td>0.137304</td>\n",
       "      <td>0.086785</td>\n",
       "      <td>0.679479</td>\n",
       "      <td>0.240072</td>\n",
       "    </tr>\n",
       "    <tr>\n",
       "      <th>...</th>\n",
       "      <td>...</td>\n",
       "      <td>...</td>\n",
       "      <td>...</td>\n",
       "      <td>...</td>\n",
       "      <td>...</td>\n",
       "      <td>...</td>\n",
       "      <td>...</td>\n",
       "      <td>...</td>\n",
       "      <td>...</td>\n",
       "      <td>...</td>\n",
       "    </tr>\n",
       "    <tr>\n",
       "      <th>73853</th>\n",
       "      <td>0.405718</td>\n",
       "      <td>0.170392</td>\n",
       "      <td>0.156317</td>\n",
       "      <td>0.174425</td>\n",
       "      <td>0.620888</td>\n",
       "      <td>0.341049</td>\n",
       "      <td>0.158053</td>\n",
       "      <td>0.199800</td>\n",
       "      <td>0.300831</td>\n",
       "      <td>0.307057</td>\n",
       "    </tr>\n",
       "    <tr>\n",
       "      <th>73854</th>\n",
       "      <td>0.182130</td>\n",
       "      <td>0.137682</td>\n",
       "      <td>0.154378</td>\n",
       "      <td>0.109621</td>\n",
       "      <td>0.016395</td>\n",
       "      <td>0.334035</td>\n",
       "      <td>0.198664</td>\n",
       "      <td>0.224229</td>\n",
       "      <td>0.756253</td>\n",
       "      <td>0.372169</td>\n",
       "    </tr>\n",
       "    <tr>\n",
       "      <th>73855</th>\n",
       "      <td>0.305315</td>\n",
       "      <td>0.072928</td>\n",
       "      <td>0.191154</td>\n",
       "      <td>0.085319</td>\n",
       "      <td>0.111656</td>\n",
       "      <td>0.322271</td>\n",
       "      <td>0.048319</td>\n",
       "      <td>0.122164</td>\n",
       "      <td>0.772538</td>\n",
       "      <td>0.356715</td>\n",
       "    </tr>\n",
       "    <tr>\n",
       "      <th>73856</th>\n",
       "      <td>0.275467</td>\n",
       "      <td>0.085941</td>\n",
       "      <td>0.256236</td>\n",
       "      <td>0.065982</td>\n",
       "      <td>0.138158</td>\n",
       "      <td>0.410492</td>\n",
       "      <td>0.119577</td>\n",
       "      <td>0.062984</td>\n",
       "      <td>0.720722</td>\n",
       "      <td>0.348460</td>\n",
       "    </tr>\n",
       "    <tr>\n",
       "      <th>73857</th>\n",
       "      <td>0.000000</td>\n",
       "      <td>0.000000</td>\n",
       "      <td>0.223364</td>\n",
       "      <td>0.000000</td>\n",
       "      <td>0.173961</td>\n",
       "      <td>0.295353</td>\n",
       "      <td>0.225846</td>\n",
       "      <td>0.079305</td>\n",
       "      <td>0.716441</td>\n",
       "      <td>0.511888</td>\n",
       "    </tr>\n",
       "  </tbody>\n",
       "</table>\n",
       "<p>73858 rows × 10 columns</p>\n",
       "</div>"
      ],
      "text/plain": [
       "            and       for        in        is        it        of        on  \\\n",
       "0      0.253977  0.277327  0.000000  0.283892  0.000000  0.252312  0.128623   \n",
       "1      0.289246  0.028713  0.276578  0.044088  0.107703  0.182858  0.173117   \n",
       "2      0.299051  0.130618  0.239657  0.133710  0.174984  0.326799  0.030290   \n",
       "3      0.355306  0.096993  0.302535  0.019858  0.020790  0.388273  0.215927   \n",
       "4      0.352455  0.207232  0.353068  0.121222  0.158641  0.350144  0.137304   \n",
       "...         ...       ...       ...       ...       ...       ...       ...   \n",
       "73853  0.405718  0.170392  0.156317  0.174425  0.620888  0.341049  0.158053   \n",
       "73854  0.182130  0.137682  0.154378  0.109621  0.016395  0.334035  0.198664   \n",
       "73855  0.305315  0.072928  0.191154  0.085319  0.111656  0.322271  0.048319   \n",
       "73856  0.275467  0.085941  0.256236  0.065982  0.138158  0.410492  0.119577   \n",
       "73857  0.000000  0.000000  0.223364  0.000000  0.173961  0.295353  0.225846   \n",
       "\n",
       "           that       the        to  \n",
       "0      0.270993  0.612035  0.499762  \n",
       "1      0.070142  0.735045  0.465678  \n",
       "2      0.382904  0.432393  0.588456  \n",
       "3      0.113733  0.702098  0.262182  \n",
       "4      0.086785  0.679479  0.240072  \n",
       "...         ...       ...       ...  \n",
       "73853  0.199800  0.300831  0.307057  \n",
       "73854  0.224229  0.756253  0.372169  \n",
       "73855  0.122164  0.772538  0.356715  \n",
       "73856  0.062984  0.720722  0.348460  \n",
       "73857  0.079305  0.716441  0.511888  \n",
       "\n",
       "[73858 rows x 10 columns]"
      ]
     },
     "execution_count": 82,
     "metadata": {},
     "output_type": "execute_result"
    }
   ],
   "source": [
    "# Instantiate a vectorizer with max_features=10\n",
    "# (we are using the default token pattern)\n",
    "tfidf = TfidfVectorizer(max_features=10)\n",
    "\n",
    "# Fit the vectorizer on X_train[\"text\"] and transform it\n",
    "X_train_vectorized = tfidf.fit_transform(X_train[\"text\"])\n",
    "X_val_vectorized = tfidf.fit_transform(X_val[\"text\"])\n",
    "\n",
    "# Visually inspect the vectorized data\n",
    "pd.DataFrame.sparse.from_spmatrix(X_train_vectorized, columns=tfidf.get_feature_names())"
   ]
  },
  {
   "cell_type": "code",
   "execution_count": 30,
   "metadata": {},
   "outputs": [],
   "source": [
    "# We should still have the same number of rows\n",
    "assert X_train_vectorized.shape[0] == X_train.shape[0]\n",
    "\n",
    "# The vectorized version should have 10 columns, since we set\n",
    "# max_features=10\n",
    "assert X_train_vectorized.shape[1] == 10"
   ]
  },
  {
   "cell_type": "code",
   "execution_count": 102,
   "metadata": {
    "scrolled": true
   },
   "outputs": [
    {
     "data": {
      "text/plain": [
       "array([0.51448687, 0.51482535, 0.51489304, 0.5147248 , 0.5146571 ])"
      ]
     },
     "execution_count": 102,
     "metadata": {},
     "output_type": "execute_result"
    }
   ],
   "source": [
    "# Instantiate a MultinomialNB classifier\n",
    "baseline_model = MultinomialNB()\n",
    "\n",
    "# Evaluate the classifier on X_train_vectorized and y_train\n",
    "baseline_cv = cross_val_score(baseline_model, X_train_vectorized, y_train)\n",
    "baseline_cv"
   ]
  },
  {
   "cell_type": "code",
   "execution_count": 103,
   "metadata": {},
   "outputs": [
    {
     "data": {
      "text/plain": [
       "MultinomialNB()"
      ]
     },
     "execution_count": 103,
     "metadata": {},
     "output_type": "execute_result"
    }
   ],
   "source": [
    "# Instantiate a MultinomialNB classifier\n",
    "baseline_model = MultinomialNB()\n",
    "baseline_model.fit(X_train_vectorized, y_train)"
   ]
  },
  {
   "cell_type": "code",
   "execution_count": 104,
   "metadata": {},
   "outputs": [
    {
     "name": "stdout",
     "output_type": "stream",
     "text": [
      "val acc:  0.5123523093447906\n",
      "train acc:  0.5147174307454846\n"
     ]
    }
   ],
   "source": [
    "train_preds = baseline_model.predict(X_train_vectorized)\n",
    "val_preds = baseline_model.predict(X_val_vectorized)\n",
    "print(\"val acc: \", accuracy_score(y_val, val_preds))\n",
    "print(\"train acc: \", accuracy_score(y_train, train_preds))"
   ]
  },
  {
   "cell_type": "markdown",
   "metadata": {},
   "source": [
    "Baseline model no better than random chance"
   ]
  },
  {
   "cell_type": "markdown",
   "metadata": {},
   "source": [
    "## Model 2"
   ]
  },
  {
   "cell_type": "markdown",
   "metadata": {},
   "source": [
    "### Stop Words"
   ]
  },
  {
   "cell_type": "code",
   "execution_count": 105,
   "metadata": {},
   "outputs": [
    {
     "data": {
      "text/plain": [
       "['i',\n",
       " 'me',\n",
       " 'my',\n",
       " 'myself',\n",
       " 'we',\n",
       " 'our',\n",
       " 'ours',\n",
       " 'ourselves',\n",
       " 'you',\n",
       " \"you're\",\n",
       " \"you've\",\n",
       " \"you'll\",\n",
       " \"you'd\",\n",
       " 'your',\n",
       " 'yours',\n",
       " 'yourself',\n",
       " 'yourselves',\n",
       " 'he',\n",
       " 'him',\n",
       " 'his']"
      ]
     },
     "execution_count": 105,
     "metadata": {},
     "output_type": "execute_result"
    }
   ],
   "source": [
    "nltk.download('stopwords', quiet=True)\n",
    "\n",
    "stopwords_list = stopwords.words('english')\n",
    "stopwords_list[:20]"
   ]
  },
  {
   "cell_type": "code",
   "execution_count": 179,
   "metadata": {},
   "outputs": [],
   "source": [
    "def remove_stopwords(token_list):\n",
    "    \"\"\"\n",
    "    Given a list of tokens, return a list where the tokens\n",
    "    that are also present in stopwords_list have been\n",
    "    removed\n",
    "    \"\"\"\n",
    "    stopwords_removed = [token for token in token_list if token not in stopwords_list]\n",
    "    return stopwords_removed"
   ]
  },
  {
   "cell_type": "code",
   "execution_count": 180,
   "metadata": {},
   "outputs": [],
   "source": [
    "X_train[\"text_without_stopwords\"] = X_train[\"tokenized\"].apply(remove_stopwords)"
   ]
  },
  {
   "cell_type": "code",
   "execution_count": 177,
   "metadata": {},
   "outputs": [],
   "source": [
    "X_train[\"label\"] = [y_train[val] for val in X_train.index]"
   ]
  },
  {
   "cell_type": "code",
   "execution_count": 125,
   "metadata": {},
   "outputs": [
    {
     "data": {
      "image/png": "[encoded data removed]",
      "text/plain": [
       "<Figure size 432x288 with 1 Axes>"
      ]
     },
     "metadata": {
      "needs_background": "light"
     },
     "output_type": "display_data"
    }
   ],
   "source": [
    "true_freq_dist = FreqDist(X_train.loc[X_train.label == '0', 'text_without_stopwords'].explode())\n",
    "visualize_top_10(true_freq_dist, \"Top 10 Word Frequency for Real Text\")"
   ]
  },
  {
   "cell_type": "code",
   "execution_count": 126,
   "metadata": {
    "scrolled": true
   },
   "outputs": [
    {
     "data": {
      "image/png": "[encoded data removed]",
      "text/plain": [
       "<Figure size 432x288 with 1 Axes>"
      ]
     },
     "metadata": {
      "needs_background": "light"
     },
     "output_type": "display_data"
    }
   ],
   "source": [
    "fake_freq_dist = FreqDist(X_train.loc[X_train.label == '1', 'text_without_stopwords'].explode())\n",
    "visualize_top_10(fake_freq_dist, \"Top 10 Word Frequency for Fake Text\")"
   ]
  },
  {
   "cell_type": "code",
   "execution_count": 128,
   "metadata": {},
   "outputs": [
    {
     "name": "stderr",
     "output_type": "stream",
     "text": [
      "C:\\Users\\bento\\anaconda3.0\\lib\\site-packages\\sklearn\\utils\\deprecation.py:87: FutureWarning: Function get_feature_names is deprecated; get_feature_names is deprecated in 1.0 and will be removed in 1.2. Please use get_feature_names_out instead.\n",
      "  warnings.warn(msg, category=FutureWarning)\n"
     ]
    },
    {
     "data": {
      "text/html": [
       "<div>\n",
       "<style scoped>\n",
       "    .dataframe tbody tr th:only-of-type {\n",
       "        vertical-align: middle;\n",
       "    }\n",
       "\n",
       "    .dataframe tbody tr th {\n",
       "        vertical-align: top;\n",
       "    }\n",
       "\n",
       "    .dataframe thead th {\n",
       "        text-align: right;\n",
       "    }\n",
       "</style>\n",
       "<table border=\"1\" class=\"dataframe\">\n",
       "  <thead>\n",
       "    <tr style=\"text-align: right;\">\n",
       "      <th></th>\n",
       "      <th>also</th>\n",
       "      <th>clinton</th>\n",
       "      <th>new</th>\n",
       "      <th>one</th>\n",
       "      <th>people</th>\n",
       "      <th>president</th>\n",
       "      <th>said</th>\n",
       "      <th>state</th>\n",
       "      <th>trump</th>\n",
       "      <th>would</th>\n",
       "    </tr>\n",
       "  </thead>\n",
       "  <tbody>\n",
       "    <tr>\n",
       "      <th>0</th>\n",
       "      <td>0.226247</td>\n",
       "      <td>0.0</td>\n",
       "      <td>0.000000</td>\n",
       "      <td>0.000000</td>\n",
       "      <td>0.225396</td>\n",
       "      <td>0.423614</td>\n",
       "      <td>0.332055</td>\n",
       "      <td>0.000000</td>\n",
       "      <td>0.661823</td>\n",
       "      <td>0.412663</td>\n",
       "    </tr>\n",
       "    <tr>\n",
       "      <th>1</th>\n",
       "      <td>0.417260</td>\n",
       "      <td>0.0</td>\n",
       "      <td>0.090266</td>\n",
       "      <td>0.079908</td>\n",
       "      <td>0.000000</td>\n",
       "      <td>0.078126</td>\n",
       "      <td>0.673640</td>\n",
       "      <td>0.587941</td>\n",
       "      <td>0.000000</td>\n",
       "      <td>0.076106</td>\n",
       "    </tr>\n",
       "    <tr>\n",
       "      <th>2</th>\n",
       "      <td>0.000000</td>\n",
       "      <td>0.0</td>\n",
       "      <td>0.841921</td>\n",
       "      <td>0.000000</td>\n",
       "      <td>0.443109</td>\n",
       "      <td>0.000000</td>\n",
       "      <td>0.163198</td>\n",
       "      <td>0.261133</td>\n",
       "      <td>0.000000</td>\n",
       "      <td>0.000000</td>\n",
       "    </tr>\n",
       "    <tr>\n",
       "      <th>3</th>\n",
       "      <td>0.119785</td>\n",
       "      <td>0.0</td>\n",
       "      <td>0.000000</td>\n",
       "      <td>0.573486</td>\n",
       "      <td>0.477337</td>\n",
       "      <td>0.224280</td>\n",
       "      <td>0.615316</td>\n",
       "      <td>0.000000</td>\n",
       "      <td>0.000000</td>\n",
       "      <td>0.000000</td>\n",
       "    </tr>\n",
       "    <tr>\n",
       "      <th>4</th>\n",
       "      <td>0.253333</td>\n",
       "      <td>0.0</td>\n",
       "      <td>0.274018</td>\n",
       "      <td>0.000000</td>\n",
       "      <td>0.252380</td>\n",
       "      <td>0.000000</td>\n",
       "      <td>0.743618</td>\n",
       "      <td>0.000000</td>\n",
       "      <td>0.494038</td>\n",
       "      <td>0.000000</td>\n",
       "    </tr>\n",
       "    <tr>\n",
       "      <th>...</th>\n",
       "      <td>...</td>\n",
       "      <td>...</td>\n",
       "      <td>...</td>\n",
       "      <td>...</td>\n",
       "      <td>...</td>\n",
       "      <td>...</td>\n",
       "      <td>...</td>\n",
       "      <td>...</td>\n",
       "      <td>...</td>\n",
       "      <td>...</td>\n",
       "    </tr>\n",
       "    <tr>\n",
       "      <th>73853</th>\n",
       "      <td>0.000000</td>\n",
       "      <td>0.0</td>\n",
       "      <td>0.079394</td>\n",
       "      <td>0.070284</td>\n",
       "      <td>0.146250</td>\n",
       "      <td>0.274866</td>\n",
       "      <td>0.161593</td>\n",
       "      <td>0.000000</td>\n",
       "      <td>0.930432</td>\n",
       "      <td>0.000000</td>\n",
       "    </tr>\n",
       "    <tr>\n",
       "      <th>73854</th>\n",
       "      <td>0.133189</td>\n",
       "      <td>0.0</td>\n",
       "      <td>0.432191</td>\n",
       "      <td>0.000000</td>\n",
       "      <td>0.132688</td>\n",
       "      <td>0.124688</td>\n",
       "      <td>0.781909</td>\n",
       "      <td>0.156392</td>\n",
       "      <td>0.259738</td>\n",
       "      <td>0.242930</td>\n",
       "    </tr>\n",
       "    <tr>\n",
       "      <th>73855</th>\n",
       "      <td>0.171799</td>\n",
       "      <td>0.0</td>\n",
       "      <td>0.000000</td>\n",
       "      <td>0.246753</td>\n",
       "      <td>0.085576</td>\n",
       "      <td>0.000000</td>\n",
       "      <td>0.693395</td>\n",
       "      <td>0.605183</td>\n",
       "      <td>0.000000</td>\n",
       "      <td>0.235014</td>\n",
       "    </tr>\n",
       "    <tr>\n",
       "      <th>73856</th>\n",
       "      <td>0.000000</td>\n",
       "      <td>0.0</td>\n",
       "      <td>0.000000</td>\n",
       "      <td>0.241476</td>\n",
       "      <td>0.251239</td>\n",
       "      <td>0.000000</td>\n",
       "      <td>0.740255</td>\n",
       "      <td>0.000000</td>\n",
       "      <td>0.000000</td>\n",
       "      <td>0.574971</td>\n",
       "    </tr>\n",
       "    <tr>\n",
       "      <th>73857</th>\n",
       "      <td>0.000000</td>\n",
       "      <td>0.0</td>\n",
       "      <td>0.000000</td>\n",
       "      <td>1.000000</td>\n",
       "      <td>0.000000</td>\n",
       "      <td>0.000000</td>\n",
       "      <td>0.000000</td>\n",
       "      <td>0.000000</td>\n",
       "      <td>0.000000</td>\n",
       "      <td>0.000000</td>\n",
       "    </tr>\n",
       "  </tbody>\n",
       "</table>\n",
       "<p>73858 rows × 10 columns</p>\n",
       "</div>"
      ],
      "text/plain": [
       "           also  clinton       new       one    people  president      said  \\\n",
       "0      0.226247      0.0  0.000000  0.000000  0.225396   0.423614  0.332055   \n",
       "1      0.417260      0.0  0.090266  0.079908  0.000000   0.078126  0.673640   \n",
       "2      0.000000      0.0  0.841921  0.000000  0.443109   0.000000  0.163198   \n",
       "3      0.119785      0.0  0.000000  0.573486  0.477337   0.224280  0.615316   \n",
       "4      0.253333      0.0  0.274018  0.000000  0.252380   0.000000  0.743618   \n",
       "...         ...      ...       ...       ...       ...        ...       ...   \n",
       "73853  0.000000      0.0  0.079394  0.070284  0.146250   0.274866  0.161593   \n",
       "73854  0.133189      0.0  0.432191  0.000000  0.132688   0.124688  0.781909   \n",
       "73855  0.171799      0.0  0.000000  0.246753  0.085576   0.000000  0.693395   \n",
       "73856  0.000000      0.0  0.000000  0.241476  0.251239   0.000000  0.740255   \n",
       "73857  0.000000      0.0  0.000000  1.000000  0.000000   0.000000  0.000000   \n",
       "\n",
       "          state     trump     would  \n",
       "0      0.000000  0.661823  0.412663  \n",
       "1      0.587941  0.000000  0.076106  \n",
       "2      0.261133  0.000000  0.000000  \n",
       "3      0.000000  0.000000  0.000000  \n",
       "4      0.000000  0.494038  0.000000  \n",
       "...         ...       ...       ...  \n",
       "73853  0.000000  0.930432  0.000000  \n",
       "73854  0.156392  0.259738  0.242930  \n",
       "73855  0.605183  0.000000  0.235014  \n",
       "73856  0.000000  0.000000  0.574971  \n",
       "73857  0.000000  0.000000  0.000000  \n",
       "\n",
       "[73858 rows x 10 columns]"
      ]
     },
     "execution_count": 128,
     "metadata": {},
     "output_type": "execute_result"
    }
   ],
   "source": [
    "# Instantiate the vectorizer\n",
    "tfidf = TfidfVectorizer(\n",
    "    max_features=10,\n",
    "    stop_words=stopwords_list\n",
    ")\n",
    "\n",
    "# Fit the vectorizer on X_train[\"text\"] and transform it\n",
    "X_train_vectorized = tfidf.fit_transform(X_train[\"text\"])\n",
    "X_val_vectorized = tfidf.fit_transform(X_val[\"text\"])\n",
    "# Visually inspect the vectorized data\n",
    "pd.DataFrame.sparse.from_spmatrix(X_train_vectorized, columns=tfidf.get_feature_names())"
   ]
  },
  {
   "cell_type": "code",
   "execution_count": 129,
   "metadata": {},
   "outputs": [
    {
     "data": {
      "text/plain": [
       "MultinomialNB()"
      ]
     },
     "execution_count": 129,
     "metadata": {},
     "output_type": "execute_result"
    }
   ],
   "source": [
    "# Instantiate a MultinomialNB classifier\n",
    "stopwords_removed_model = MultinomialNB()\n",
    "stopwords_removed_model.fit(X_train_vectorized, y_train)"
   ]
  },
  {
   "cell_type": "code",
   "execution_count": 130,
   "metadata": {},
   "outputs": [
    {
     "name": "stdout",
     "output_type": "stream",
     "text": [
      "val acc:  0.5266226791468467\n",
      "train acc:  0.528690189282136\n"
     ]
    }
   ],
   "source": [
    "stopwords_train_preds = stopwords_removed_model.predict(X_train_vectorized)\n",
    "stopwords_val_preds = stopwords_removed_model.predict(X_val_vectorized)\n",
    "print(\"val acc: \", accuracy_score(y_val, stopwords_val_preds))\n",
    "print(\"train acc: \", accuracy_score(y_train, stopwords_train_preds))"
   ]
  },
  {
   "cell_type": "markdown",
   "metadata": {},
   "source": [
    "Minimal improvement"
   ]
  },
  {
   "cell_type": "markdown",
   "metadata": {},
   "source": [
    "## Model 3: Stemming and Tokenization"
   ]
  },
  {
   "cell_type": "code",
   "execution_count": 135,
   "metadata": {},
   "outputs": [],
   "source": [
    "stemmer = SnowballStemmer(language=\"english\")\n",
    "\n",
    "def stem_and_tokenize(document):\n",
    "    tokens = tokenizer.tokenize(document)\n",
    "    return [stemmer.stem(token) for token in tokens]"
   ]
  },
  {
   "cell_type": "code",
   "execution_count": 140,
   "metadata": {},
   "outputs": [],
   "source": [
    "stemmed_stopwords = [stemmer.stem(word) for word in stopwords_list]"
   ]
  },
  {
   "cell_type": "code",
   "execution_count": 141,
   "metadata": {},
   "outputs": [
    {
     "name": "stderr",
     "output_type": "stream",
     "text": [
      "C:\\Users\\bento\\anaconda3.0\\lib\\site-packages\\sklearn\\utils\\deprecation.py:87: FutureWarning: Function get_feature_names is deprecated; get_feature_names is deprecated in 1.0 and will be removed in 1.2. Please use get_feature_names_out instead.\n",
      "  warnings.warn(msg, category=FutureWarning)\n"
     ]
    },
    {
     "data": {
      "text/html": [
       "<div>\n",
       "<style scoped>\n",
       "    .dataframe tbody tr th:only-of-type {\n",
       "        vertical-align: middle;\n",
       "    }\n",
       "\n",
       "    .dataframe tbody tr th {\n",
       "        vertical-align: top;\n",
       "    }\n",
       "\n",
       "    .dataframe thead th {\n",
       "        text-align: right;\n",
       "    }\n",
       "</style>\n",
       "<table border=\"1\" class=\"dataframe\">\n",
       "  <thead>\n",
       "    <tr style=\"text-align: right;\">\n",
       "      <th></th>\n",
       "      <th>one</th>\n",
       "      <th>peopl</th>\n",
       "      <th>presid</th>\n",
       "      <th>republican</th>\n",
       "      <th>said</th>\n",
       "      <th>say</th>\n",
       "      <th>state</th>\n",
       "      <th>trump</th>\n",
       "      <th>would</th>\n",
       "      <th>year</th>\n",
       "    </tr>\n",
       "  </thead>\n",
       "  <tbody>\n",
       "    <tr>\n",
       "      <th>0</th>\n",
       "      <td>0.000000</td>\n",
       "      <td>0.225937</td>\n",
       "      <td>0.417352</td>\n",
       "      <td>0.000000</td>\n",
       "      <td>0.333393</td>\n",
       "      <td>0.227472</td>\n",
       "      <td>0.000000</td>\n",
       "      <td>0.663483</td>\n",
       "      <td>0.414325</td>\n",
       "      <td>0.000000</td>\n",
       "    </tr>\n",
       "    <tr>\n",
       "      <th>1</th>\n",
       "      <td>0.082695</td>\n",
       "      <td>0.000000</td>\n",
       "      <td>0.160330</td>\n",
       "      <td>0.000000</td>\n",
       "      <td>0.704420</td>\n",
       "      <td>0.087386</td>\n",
       "      <td>0.654000</td>\n",
       "      <td>0.000000</td>\n",
       "      <td>0.079584</td>\n",
       "      <td>0.171939</td>\n",
       "    </tr>\n",
       "    <tr>\n",
       "      <th>2</th>\n",
       "      <td>0.000000</td>\n",
       "      <td>0.628447</td>\n",
       "      <td>0.000000</td>\n",
       "      <td>0.389500</td>\n",
       "      <td>0.231835</td>\n",
       "      <td>0.158179</td>\n",
       "      <td>0.591912</td>\n",
       "      <td>0.000000</td>\n",
       "      <td>0.000000</td>\n",
       "      <td>0.155616</td>\n",
       "    </tr>\n",
       "    <tr>\n",
       "      <th>3</th>\n",
       "      <td>0.551530</td>\n",
       "      <td>0.463105</td>\n",
       "      <td>0.213863</td>\n",
       "      <td>0.000000</td>\n",
       "      <td>0.597940</td>\n",
       "      <td>0.116563</td>\n",
       "      <td>0.109046</td>\n",
       "      <td>0.000000</td>\n",
       "      <td>0.000000</td>\n",
       "      <td>0.229348</td>\n",
       "    </tr>\n",
       "    <tr>\n",
       "      <th>4</th>\n",
       "      <td>0.000000</td>\n",
       "      <td>0.161455</td>\n",
       "      <td>0.000000</td>\n",
       "      <td>0.000000</td>\n",
       "      <td>0.476486</td>\n",
       "      <td>0.487655</td>\n",
       "      <td>0.000000</td>\n",
       "      <td>0.316084</td>\n",
       "      <td>0.000000</td>\n",
       "      <td>0.639669</td>\n",
       "    </tr>\n",
       "    <tr>\n",
       "      <th>...</th>\n",
       "      <td>...</td>\n",
       "      <td>...</td>\n",
       "      <td>...</td>\n",
       "      <td>...</td>\n",
       "      <td>...</td>\n",
       "      <td>...</td>\n",
       "      <td>...</td>\n",
       "      <td>...</td>\n",
       "      <td>...</td>\n",
       "      <td>...</td>\n",
       "    </tr>\n",
       "    <tr>\n",
       "      <th>73853</th>\n",
       "      <td>0.065343</td>\n",
       "      <td>0.137168</td>\n",
       "      <td>0.253377</td>\n",
       "      <td>0.000000</td>\n",
       "      <td>0.151804</td>\n",
       "      <td>0.345250</td>\n",
       "      <td>0.064597</td>\n",
       "      <td>0.872746</td>\n",
       "      <td>0.000000</td>\n",
       "      <td>0.067931</td>\n",
       "    </tr>\n",
       "    <tr>\n",
       "      <th>73854</th>\n",
       "      <td>0.000000</td>\n",
       "      <td>0.064258</td>\n",
       "      <td>0.059349</td>\n",
       "      <td>0.876172</td>\n",
       "      <td>0.379277</td>\n",
       "      <td>0.000000</td>\n",
       "      <td>0.121045</td>\n",
       "      <td>0.125800</td>\n",
       "      <td>0.117837</td>\n",
       "      <td>0.190939</td>\n",
       "    </tr>\n",
       "    <tr>\n",
       "      <th>73855</th>\n",
       "      <td>0.231510</td>\n",
       "      <td>0.080997</td>\n",
       "      <td>0.000000</td>\n",
       "      <td>0.100401</td>\n",
       "      <td>0.657357</td>\n",
       "      <td>0.244642</td>\n",
       "      <td>0.534018</td>\n",
       "      <td>0.000000</td>\n",
       "      <td>0.222800</td>\n",
       "      <td>0.320903</td>\n",
       "    </tr>\n",
       "    <tr>\n",
       "      <th>73856</th>\n",
       "      <td>0.237321</td>\n",
       "      <td>0.249090</td>\n",
       "      <td>0.000000</td>\n",
       "      <td>0.000000</td>\n",
       "      <td>0.735117</td>\n",
       "      <td>0.000000</td>\n",
       "      <td>0.000000</td>\n",
       "      <td>0.000000</td>\n",
       "      <td>0.570980</td>\n",
       "      <td>0.123359</td>\n",
       "    </tr>\n",
       "    <tr>\n",
       "      <th>73857</th>\n",
       "      <td>1.000000</td>\n",
       "      <td>0.000000</td>\n",
       "      <td>0.000000</td>\n",
       "      <td>0.000000</td>\n",
       "      <td>0.000000</td>\n",
       "      <td>0.000000</td>\n",
       "      <td>0.000000</td>\n",
       "      <td>0.000000</td>\n",
       "      <td>0.000000</td>\n",
       "      <td>0.000000</td>\n",
       "    </tr>\n",
       "  </tbody>\n",
       "</table>\n",
       "<p>73858 rows × 10 columns</p>\n",
       "</div>"
      ],
      "text/plain": [
       "            one     peopl    presid  republican      said       say     state  \\\n",
       "0      0.000000  0.225937  0.417352    0.000000  0.333393  0.227472  0.000000   \n",
       "1      0.082695  0.000000  0.160330    0.000000  0.704420  0.087386  0.654000   \n",
       "2      0.000000  0.628447  0.000000    0.389500  0.231835  0.158179  0.591912   \n",
       "3      0.551530  0.463105  0.213863    0.000000  0.597940  0.116563  0.109046   \n",
       "4      0.000000  0.161455  0.000000    0.000000  0.476486  0.487655  0.000000   \n",
       "...         ...       ...       ...         ...       ...       ...       ...   \n",
       "73853  0.065343  0.137168  0.253377    0.000000  0.151804  0.345250  0.064597   \n",
       "73854  0.000000  0.064258  0.059349    0.876172  0.379277  0.000000  0.121045   \n",
       "73855  0.231510  0.080997  0.000000    0.100401  0.657357  0.244642  0.534018   \n",
       "73856  0.237321  0.249090  0.000000    0.000000  0.735117  0.000000  0.000000   \n",
       "73857  1.000000  0.000000  0.000000    0.000000  0.000000  0.000000  0.000000   \n",
       "\n",
       "          trump     would      year  \n",
       "0      0.663483  0.414325  0.000000  \n",
       "1      0.000000  0.079584  0.171939  \n",
       "2      0.000000  0.000000  0.155616  \n",
       "3      0.000000  0.000000  0.229348  \n",
       "4      0.316084  0.000000  0.639669  \n",
       "...         ...       ...       ...  \n",
       "73853  0.872746  0.000000  0.067931  \n",
       "73854  0.125800  0.117837  0.190939  \n",
       "73855  0.000000  0.222800  0.320903  \n",
       "73856  0.000000  0.570980  0.123359  \n",
       "73857  0.000000  0.000000  0.000000  \n",
       "\n",
       "[73858 rows x 10 columns]"
      ]
     },
     "execution_count": 141,
     "metadata": {},
     "output_type": "execute_result"
    }
   ],
   "source": [
    "# Instantiate the vectorizer\n",
    "tfidf = TfidfVectorizer(\n",
    "    max_features=10,\n",
    "    stop_words=stemmed_stopwords,\n",
    "    tokenizer=stem_and_tokenize\n",
    ")\n",
    "\n",
    "# Fit the vectorizer on X_train[\"text\"] and transform it\n",
    "X_train_vectorized = tfidf.fit_transform(X_train[\"text\"])\n",
    "X_val_vectorized = tfidf.fit_transform(X_val[\"text\"])\n",
    "\n",
    "# Visually inspect the vectorized data\n",
    "pd.DataFrame.sparse.from_spmatrix(X_train_vectorized, columns=tfidf.get_feature_names())"
   ]
  },
  {
   "cell_type": "code",
   "execution_count": 142,
   "metadata": {},
   "outputs": [
    {
     "data": {
      "text/plain": [
       "MultinomialNB()"
      ]
     },
     "execution_count": 142,
     "metadata": {},
     "output_type": "execute_result"
    }
   ],
   "source": [
    "# Instantiate a MultinomialNB classifier\n",
    "stem_and_tokenize_model = MultinomialNB()\n",
    "stem_and_tokenize_model.fit(X_train_vectorized, y_train)"
   ]
  },
  {
   "cell_type": "code",
   "execution_count": 143,
   "metadata": {},
   "outputs": [
    {
     "name": "stdout",
     "output_type": "stream",
     "text": [
      "val acc:  0.5234003375786405\n",
      "train acc:  0.5303961656150993\n"
     ]
    }
   ],
   "source": [
    "stem_and_tokenize_train_preds = stem_and_tokenize_model.predict(X_train_vectorized)\n",
    "stem_and_tokenize_val_preds = stem_and_tokenize_model.predict(X_val_vectorized)\n",
    "print(\"val acc: \", accuracy_score(y_val, stem_and_tokenize_val_preds))\n",
    "print(\"train acc: \", accuracy_score(y_train, stem_and_tokenize_train_preds))"
   ]
  },
  {
   "cell_type": "markdown",
   "metadata": {},
   "source": [
    "### Model: Max Features"
   ]
  },
  {
   "cell_type": "code",
   "execution_count": 170,
   "metadata": {
    "scrolled": true
   },
   "outputs": [
    {
     "name": "stderr",
     "output_type": "stream",
     "text": [
      "C:\\Users\\bento\\anaconda3.0\\lib\\site-packages\\sklearn\\utils\\deprecation.py:87: FutureWarning: Function get_feature_names is deprecated; get_feature_names is deprecated in 1.0 and will be removed in 1.2. Please use get_feature_names_out instead.\n",
      "  warnings.warn(msg, category=FutureWarning)\n"
     ]
    }
   ],
   "source": [
    "# Instantiate the vectorizer\n",
    "tfidf = TfidfVectorizer(\n",
    "    max_features=200,\n",
    "    stop_words=stemmed_stopwords,\n",
    "    tokenizer=stem_and_tokenize\n",
    ")\n",
    "\n",
    "# Fit the vectorizer on X_train[\"text\"] and transform it\n",
    "X_train_vectorized = tfidf.fit_transform(X_train_sub[\"text\"])\n",
    "X_val_vectorized = tfidf.fit_transform(X_val_sub[\"text\"])\n",
    "\n",
    "\n",
    "# Create a full df of vectorized + engineered features\n",
    "X_train_vectorized_df = pd.DataFrame(X_train_vectorized.toarray(), columns=tfidf.get_feature_names())"
   ]
  },
  {
   "cell_type": "code",
   "execution_count": 172,
   "metadata": {
    "scrolled": true
   },
   "outputs": [
    {
     "data": {
      "text/html": [
       "<div>\n",
       "<style scoped>\n",
       "    .dataframe tbody tr th:only-of-type {\n",
       "        vertical-align: middle;\n",
       "    }\n",
       "\n",
       "    .dataframe tbody tr th {\n",
       "        vertical-align: top;\n",
       "    }\n",
       "\n",
       "    .dataframe thead th {\n",
       "        text-align: right;\n",
       "    }\n",
       "</style>\n",
       "<table border=\"1\" class=\"dataframe\">\n",
       "  <thead>\n",
       "    <tr style=\"text-align: right;\">\n",
       "      <th></th>\n",
       "      <th>000</th>\n",
       "      <th>2016</th>\n",
       "      <th>accord</th>\n",
       "      <th>act</th>\n",
       "      <th>ad</th>\n",
       "      <th>administr</th>\n",
       "      <th>allow</th>\n",
       "      <th>also</th>\n",
       "      <th>america</th>\n",
       "      <th>american</th>\n",
       "      <th>...</th>\n",
       "      <th>week</th>\n",
       "      <th>well</th>\n",
       "      <th>white</th>\n",
       "      <th>win</th>\n",
       "      <th>women</th>\n",
       "      <th>work</th>\n",
       "      <th>world</th>\n",
       "      <th>would</th>\n",
       "      <th>year</th>\n",
       "      <th>york</th>\n",
       "    </tr>\n",
       "  </thead>\n",
       "  <tbody>\n",
       "    <tr>\n",
       "      <th>0</th>\n",
       "      <td>0.000000</td>\n",
       "      <td>0.04096</td>\n",
       "      <td>0.071841</td>\n",
       "      <td>0.000000</td>\n",
       "      <td>0.000000</td>\n",
       "      <td>0.000000</td>\n",
       "      <td>0.0</td>\n",
       "      <td>0.042094</td>\n",
       "      <td>0.053069</td>\n",
       "      <td>0.000000</td>\n",
       "      <td>...</td>\n",
       "      <td>0.000000</td>\n",
       "      <td>0.000000</td>\n",
       "      <td>0.000000</td>\n",
       "      <td>0.000000</td>\n",
       "      <td>0.000000</td>\n",
       "      <td>0.033068</td>\n",
       "      <td>0.231253</td>\n",
       "      <td>0.145065</td>\n",
       "      <td>0.183956</td>\n",
       "      <td>0.00000</td>\n",
       "    </tr>\n",
       "    <tr>\n",
       "      <th>1</th>\n",
       "      <td>0.000000</td>\n",
       "      <td>0.00000</td>\n",
       "      <td>0.000000</td>\n",
       "      <td>0.053481</td>\n",
       "      <td>0.000000</td>\n",
       "      <td>0.000000</td>\n",
       "      <td>0.0</td>\n",
       "      <td>0.000000</td>\n",
       "      <td>0.032787</td>\n",
       "      <td>0.024942</td>\n",
       "      <td>...</td>\n",
       "      <td>0.045235</td>\n",
       "      <td>0.078044</td>\n",
       "      <td>0.000000</td>\n",
       "      <td>0.000000</td>\n",
       "      <td>0.000000</td>\n",
       "      <td>0.081721</td>\n",
       "      <td>0.000000</td>\n",
       "      <td>0.194186</td>\n",
       "      <td>0.016236</td>\n",
       "      <td>0.00000</td>\n",
       "    </tr>\n",
       "    <tr>\n",
       "      <th>2</th>\n",
       "      <td>0.077184</td>\n",
       "      <td>0.00000</td>\n",
       "      <td>0.000000</td>\n",
       "      <td>0.000000</td>\n",
       "      <td>0.000000</td>\n",
       "      <td>0.000000</td>\n",
       "      <td>0.0</td>\n",
       "      <td>0.000000</td>\n",
       "      <td>0.048473</td>\n",
       "      <td>0.000000</td>\n",
       "      <td>...</td>\n",
       "      <td>0.000000</td>\n",
       "      <td>0.000000</td>\n",
       "      <td>0.000000</td>\n",
       "      <td>0.081303</td>\n",
       "      <td>0.000000</td>\n",
       "      <td>0.060408</td>\n",
       "      <td>0.000000</td>\n",
       "      <td>0.088334</td>\n",
       "      <td>0.192027</td>\n",
       "      <td>0.00000</td>\n",
       "    </tr>\n",
       "    <tr>\n",
       "      <th>3</th>\n",
       "      <td>0.087753</td>\n",
       "      <td>0.00000</td>\n",
       "      <td>0.074604</td>\n",
       "      <td>0.000000</td>\n",
       "      <td>0.000000</td>\n",
       "      <td>0.000000</td>\n",
       "      <td>0.0</td>\n",
       "      <td>0.000000</td>\n",
       "      <td>0.000000</td>\n",
       "      <td>0.000000</td>\n",
       "      <td>...</td>\n",
       "      <td>0.000000</td>\n",
       "      <td>0.000000</td>\n",
       "      <td>0.000000</td>\n",
       "      <td>0.000000</td>\n",
       "      <td>0.000000</td>\n",
       "      <td>0.000000</td>\n",
       "      <td>0.000000</td>\n",
       "      <td>0.000000</td>\n",
       "      <td>0.218324</td>\n",
       "      <td>0.00000</td>\n",
       "    </tr>\n",
       "    <tr>\n",
       "      <th>4</th>\n",
       "      <td>0.000000</td>\n",
       "      <td>0.00000</td>\n",
       "      <td>0.000000</td>\n",
       "      <td>0.000000</td>\n",
       "      <td>0.066370</td>\n",
       "      <td>0.000000</td>\n",
       "      <td>0.0</td>\n",
       "      <td>0.000000</td>\n",
       "      <td>0.000000</td>\n",
       "      <td>0.000000</td>\n",
       "      <td>...</td>\n",
       "      <td>0.000000</td>\n",
       "      <td>0.000000</td>\n",
       "      <td>0.000000</td>\n",
       "      <td>0.000000</td>\n",
       "      <td>0.000000</td>\n",
       "      <td>0.000000</td>\n",
       "      <td>0.196613</td>\n",
       "      <td>0.041112</td>\n",
       "      <td>0.000000</td>\n",
       "      <td>0.00000</td>\n",
       "    </tr>\n",
       "    <tr>\n",
       "      <th>...</th>\n",
       "      <td>...</td>\n",
       "      <td>...</td>\n",
       "      <td>...</td>\n",
       "      <td>...</td>\n",
       "      <td>...</td>\n",
       "      <td>...</td>\n",
       "      <td>...</td>\n",
       "      <td>...</td>\n",
       "      <td>...</td>\n",
       "      <td>...</td>\n",
       "      <td>...</td>\n",
       "      <td>...</td>\n",
       "      <td>...</td>\n",
       "      <td>...</td>\n",
       "      <td>...</td>\n",
       "      <td>...</td>\n",
       "      <td>...</td>\n",
       "      <td>...</td>\n",
       "      <td>...</td>\n",
       "      <td>...</td>\n",
       "      <td>...</td>\n",
       "    </tr>\n",
       "    <tr>\n",
       "      <th>14766</th>\n",
       "      <td>0.000000</td>\n",
       "      <td>0.00000</td>\n",
       "      <td>0.000000</td>\n",
       "      <td>0.000000</td>\n",
       "      <td>0.067572</td>\n",
       "      <td>0.000000</td>\n",
       "      <td>0.0</td>\n",
       "      <td>0.000000</td>\n",
       "      <td>0.091873</td>\n",
       "      <td>0.000000</td>\n",
       "      <td>...</td>\n",
       "      <td>0.000000</td>\n",
       "      <td>0.145790</td>\n",
       "      <td>0.061830</td>\n",
       "      <td>0.077048</td>\n",
       "      <td>0.253955</td>\n",
       "      <td>0.000000</td>\n",
       "      <td>0.000000</td>\n",
       "      <td>0.083712</td>\n",
       "      <td>0.045495</td>\n",
       "      <td>0.07604</td>\n",
       "    </tr>\n",
       "    <tr>\n",
       "      <th>14767</th>\n",
       "      <td>0.000000</td>\n",
       "      <td>0.00000</td>\n",
       "      <td>0.000000</td>\n",
       "      <td>0.000000</td>\n",
       "      <td>0.000000</td>\n",
       "      <td>0.000000</td>\n",
       "      <td>0.0</td>\n",
       "      <td>0.000000</td>\n",
       "      <td>0.000000</td>\n",
       "      <td>0.000000</td>\n",
       "      <td>...</td>\n",
       "      <td>0.000000</td>\n",
       "      <td>0.000000</td>\n",
       "      <td>0.000000</td>\n",
       "      <td>0.000000</td>\n",
       "      <td>0.000000</td>\n",
       "      <td>0.000000</td>\n",
       "      <td>0.000000</td>\n",
       "      <td>0.000000</td>\n",
       "      <td>0.000000</td>\n",
       "      <td>0.00000</td>\n",
       "    </tr>\n",
       "    <tr>\n",
       "      <th>14768</th>\n",
       "      <td>0.000000</td>\n",
       "      <td>0.00000</td>\n",
       "      <td>0.000000</td>\n",
       "      <td>0.000000</td>\n",
       "      <td>0.000000</td>\n",
       "      <td>0.000000</td>\n",
       "      <td>0.0</td>\n",
       "      <td>0.000000</td>\n",
       "      <td>0.075317</td>\n",
       "      <td>0.000000</td>\n",
       "      <td>...</td>\n",
       "      <td>0.000000</td>\n",
       "      <td>0.000000</td>\n",
       "      <td>0.202753</td>\n",
       "      <td>0.000000</td>\n",
       "      <td>0.138794</td>\n",
       "      <td>0.000000</td>\n",
       "      <td>0.109400</td>\n",
       "      <td>0.000000</td>\n",
       "      <td>0.149185</td>\n",
       "      <td>0.00000</td>\n",
       "    </tr>\n",
       "    <tr>\n",
       "      <th>14769</th>\n",
       "      <td>0.000000</td>\n",
       "      <td>0.00000</td>\n",
       "      <td>0.000000</td>\n",
       "      <td>0.000000</td>\n",
       "      <td>0.000000</td>\n",
       "      <td>0.047664</td>\n",
       "      <td>0.0</td>\n",
       "      <td>0.000000</td>\n",
       "      <td>0.062760</td>\n",
       "      <td>0.095485</td>\n",
       "      <td>...</td>\n",
       "      <td>0.043293</td>\n",
       "      <td>0.000000</td>\n",
       "      <td>0.042238</td>\n",
       "      <td>0.052633</td>\n",
       "      <td>0.000000</td>\n",
       "      <td>0.039107</td>\n",
       "      <td>0.000000</td>\n",
       "      <td>0.085778</td>\n",
       "      <td>0.031078</td>\n",
       "      <td>0.00000</td>\n",
       "    </tr>\n",
       "    <tr>\n",
       "      <th>14770</th>\n",
       "      <td>0.000000</td>\n",
       "      <td>0.00000</td>\n",
       "      <td>0.000000</td>\n",
       "      <td>0.000000</td>\n",
       "      <td>0.000000</td>\n",
       "      <td>0.000000</td>\n",
       "      <td>0.0</td>\n",
       "      <td>0.000000</td>\n",
       "      <td>0.140624</td>\n",
       "      <td>0.000000</td>\n",
       "      <td>...</td>\n",
       "      <td>0.000000</td>\n",
       "      <td>0.000000</td>\n",
       "      <td>0.000000</td>\n",
       "      <td>0.235867</td>\n",
       "      <td>0.129571</td>\n",
       "      <td>0.262876</td>\n",
       "      <td>0.000000</td>\n",
       "      <td>0.000000</td>\n",
       "      <td>0.069636</td>\n",
       "      <td>0.00000</td>\n",
       "    </tr>\n",
       "  </tbody>\n",
       "</table>\n",
       "<p>14771 rows × 200 columns</p>\n",
       "</div>"
      ],
      "text/plain": [
       "            000     2016    accord       act        ad  administr  allow  \\\n",
       "0      0.000000  0.04096  0.071841  0.000000  0.000000   0.000000    0.0   \n",
       "1      0.000000  0.00000  0.000000  0.053481  0.000000   0.000000    0.0   \n",
       "2      0.077184  0.00000  0.000000  0.000000  0.000000   0.000000    0.0   \n",
       "3      0.087753  0.00000  0.074604  0.000000  0.000000   0.000000    0.0   \n",
       "4      0.000000  0.00000  0.000000  0.000000  0.066370   0.000000    0.0   \n",
       "...         ...      ...       ...       ...       ...        ...    ...   \n",
       "14766  0.000000  0.00000  0.000000  0.000000  0.067572   0.000000    0.0   \n",
       "14767  0.000000  0.00000  0.000000  0.000000  0.000000   0.000000    0.0   \n",
       "14768  0.000000  0.00000  0.000000  0.000000  0.000000   0.000000    0.0   \n",
       "14769  0.000000  0.00000  0.000000  0.000000  0.000000   0.047664    0.0   \n",
       "14770  0.000000  0.00000  0.000000  0.000000  0.000000   0.000000    0.0   \n",
       "\n",
       "           also   america  american  ...      week      well     white  \\\n",
       "0      0.042094  0.053069  0.000000  ...  0.000000  0.000000  0.000000   \n",
       "1      0.000000  0.032787  0.024942  ...  0.045235  0.078044  0.000000   \n",
       "2      0.000000  0.048473  0.000000  ...  0.000000  0.000000  0.000000   \n",
       "3      0.000000  0.000000  0.000000  ...  0.000000  0.000000  0.000000   \n",
       "4      0.000000  0.000000  0.000000  ...  0.000000  0.000000  0.000000   \n",
       "...         ...       ...       ...  ...       ...       ...       ...   \n",
       "14766  0.000000  0.091873  0.000000  ...  0.000000  0.145790  0.061830   \n",
       "14767  0.000000  0.000000  0.000000  ...  0.000000  0.000000  0.000000   \n",
       "14768  0.000000  0.075317  0.000000  ...  0.000000  0.000000  0.202753   \n",
       "14769  0.000000  0.062760  0.095485  ...  0.043293  0.000000  0.042238   \n",
       "14770  0.000000  0.140624  0.000000  ...  0.000000  0.000000  0.000000   \n",
       "\n",
       "            win     women      work     world     would      year     york  \n",
       "0      0.000000  0.000000  0.033068  0.231253  0.145065  0.183956  0.00000  \n",
       "1      0.000000  0.000000  0.081721  0.000000  0.194186  0.016236  0.00000  \n",
       "2      0.081303  0.000000  0.060408  0.000000  0.088334  0.192027  0.00000  \n",
       "3      0.000000  0.000000  0.000000  0.000000  0.000000  0.218324  0.00000  \n",
       "4      0.000000  0.000000  0.000000  0.196613  0.041112  0.000000  0.00000  \n",
       "...         ...       ...       ...       ...       ...       ...      ...  \n",
       "14766  0.077048  0.253955  0.000000  0.000000  0.083712  0.045495  0.07604  \n",
       "14767  0.000000  0.000000  0.000000  0.000000  0.000000  0.000000  0.00000  \n",
       "14768  0.000000  0.138794  0.000000  0.109400  0.000000  0.149185  0.00000  \n",
       "14769  0.052633  0.000000  0.039107  0.000000  0.085778  0.031078  0.00000  \n",
       "14770  0.235867  0.129571  0.262876  0.000000  0.000000  0.069636  0.00000  \n",
       "\n",
       "[14771 rows x 200 columns]"
      ]
     },
     "execution_count": 172,
     "metadata": {},
     "output_type": "execute_result"
    }
   ],
   "source": [
    "X_train_vectorized_df"
   ]
  },
  {
   "cell_type": "code",
   "execution_count": 188,
   "metadata": {},
   "outputs": [
    {
     "data": {
      "text/plain": [
       "MultinomialNB()"
      ]
     },
     "execution_count": 188,
     "metadata": {},
     "output_type": "execute_result"
    }
   ],
   "source": [
    "max_features_model = MultinomialNB()\n",
    "max_features_model.fit(X_train_vectorized, y_train_sub)"
   ]
  },
  {
   "cell_type": "code",
   "execution_count": 189,
   "metadata": {},
   "outputs": [
    {
     "name": "stdout",
     "output_type": "stream",
     "text": [
      "val acc:  0.5410590943975442\n",
      "train acc:  0.5767382032360707\n"
     ]
    }
   ],
   "source": [
    "max_features_model_train_preds = max_features_model.predict(X_train_vectorized)\n",
    "max_features_model_val_preds = max_features_model.predict(X_val_vectorized)\n",
    "print(\"val acc: \", accuracy_score(y_val_sub, max_features_model_val_preds))\n",
    "print(\"train acc: \", accuracy_score(y_train_sub, max_features_model_train_preds))"
   ]
  },
  {
   "cell_type": "code",
   "execution_count": 186,
   "metadata": {},
   "outputs": [],
   "source": [
    " clf = SVC(kernel='linear').fit(X_train_vectorized, y_train_sub)"
   ]
  },
  {
   "cell_type": "code",
   "execution_count": 187,
   "metadata": {},
   "outputs": [
    {
     "name": "stdout",
     "output_type": "stream",
     "text": [
      "val acc:  0.522256331542594\n",
      "train acc:  0.6032766908130797\n"
     ]
    }
   ],
   "source": [
    "max_features_model_train_preds = clf.predict(X_train_vectorized)\n",
    "max_features_model_val_preds = clf.predict(X_val_vectorized)\n",
    "print(\"val acc: \", accuracy_score(y_val_sub, max_features_model_val_preds))\n",
    "print(\"train acc: \", accuracy_score(y_train_sub, max_features_model_train_preds))"
   ]
  },
  {
   "cell_type": "code",
   "execution_count": null,
   "metadata": {},
   "outputs": [],
   "source": []
  },
  {
   "cell_type": "code",
   "execution_count": null,
   "metadata": {},
   "outputs": [],
   "source": []
  },
  {
   "cell_type": "code",
   "execution_count": null,
   "metadata": {},
   "outputs": [],
   "source": []
  },
  {
   "cell_type": "code",
   "execution_count": null,
   "metadata": {},
   "outputs": [],
   "source": []
  },
  {
   "cell_type": "markdown",
   "metadata": {},
   "source": [
    "## Final Evaluation"
   ]
  },
  {
   "cell_type": "markdown",
   "metadata": {},
   "source": [
    "## Conclusion"
   ]
  },
  {
   "cell_type": "markdown",
   "metadata": {},
   "source": [
    "## Next Steps"
   ]
  },
  {
   "cell_type": "code",
   "execution_count": null,
   "metadata": {},
   "outputs": [],
   "source": []
  }
 ],
 "metadata": {
  "kernelspec": {
   "display_name": "Python 3 (ipykernel)",
   "language": "python",
   "name": "python3"
  },
  "language_info": {
   "codemirror_mode": {
    "name": "ipython",
    "version": 3
   },
   "file_extension": ".py",
   "mimetype": "text/x-python",
   "name": "python",
   "nbconvert_exporter": "python",
   "pygments_lexer": "ipython3",
   "version": "3.9.7"
  },
  "toc": {
   "base_numbering": 1,
   "nav_menu": {},
   "number_sections": true,
   "sideBar": true,
   "skip_h1_title": false,
   "title_cell": "Table of Contents",
   "title_sidebar": "Contents",
   "toc_cell": false,
   "toc_position": {},
   "toc_section_display": true,
   "toc_window_display": false
  }
 },
 "nbformat": 4,
 "nbformat_minor": 4
}
