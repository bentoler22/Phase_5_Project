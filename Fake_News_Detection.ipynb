{
 "cells": [
  {
   "cell_type": "markdown",
   "metadata": {},
   "source": [
    "# Fake News Detection"
   ]
  },
  {
   "cell_type": "markdown",
   "metadata": {},
   "source": [
    "<img src=\"images/fake_news.jpg\" alt=\"Drawing\" style=\"width: 1000px;height:300px;float: left;\"/>"
   ]
  },
  {
   "cell_type": "markdown",
   "metadata": {},
   "source": [
    "## Summary\n",
    "This project uses text data from over 44,000 articles to develop a text classification model that can accurately identify fake news articles. The data consists of both fake and real news articles from several online publications, primarily Reuters and BuzzFeed. The model is being developed for a the social media company facebook, who is looking to reduce misinformation on their platform. Doing so will improve their customer experience, and reduce the possibility of any legal issues. The data was loaded and cleaned using the pandas library and split into training, testing, and validation datasets using sklearn. After establishing a baseline model, multiple iterations are developed using different data processing techniques from the nltk library such as stopword removal, stemming, and tokenization. Additional feature engineering approaches are taken such as part-of-speech tags, bigrams, and mutual information scores. Lastly, several different classifiers are evaluated. Each model is evaluated based on its training and validation accuracies. The baseline tfidf vectorizer/naive bayes model obtained a 63% accuracy in identifying fake and real news. The final model uses count vectorization and an xgboost classifier, and obtained an accuracy of 96%."
   ]
  },
  {
   "cell_type": "markdown",
   "metadata": {},
   "source": [
    "## Business Problem\n",
    "The social media company facebook is looking to reduce the sharing of misinformation on its platform. Having widespread misinformation on the platform may discourage new users and may cause the platform to lose existing customers. Additionally, reducing fake articles on the platform could remove any potential legal issues."
   ]
  },
  {
   "cell_type": "markdown",
   "metadata": {},
   "source": [
    "## Data Understanding\n",
    "This project uses three datasets consisting of 44,706 news articles from online publications, primarily Reuters and BuzzFeed. The data can be found on Kaggle with the follwing two links, [Link1](https://www.kaggle.com/datasets/clmentbisaillon/fake-and-real-news-dataset) [Link2](https://www.kaggle.com/datasets/hassanamin/textdb3). The data is fairly balanced, having about 54% of the data being real news articles and 46% being fake articles."
   ]
  },
  {
   "cell_type": "code",
   "execution_count": 92,
   "metadata": {
    "scrolled": true
   },
   "outputs": [],
   "source": [
    "# import libraries\n",
    "import pandas as pd\n",
    "from sklearn.model_selection import train_test_split, GridSearchCV\n",
    "from nltk.tokenize import RegexpTokenizer\n",
    "from nltk import FreqDist\n",
    "import matplotlib.pyplot as plt\n",
    "from matplotlib.ticker import MaxNLocator\n",
    "from sklearn.feature_extraction.text import TfidfVectorizer, CountVectorizer\n",
    "from sklearn.naive_bayes import MultinomialNB\n",
    "from sklearn.model_selection import cross_val_score\n",
    "from sklearn.metrics import accuracy_score\n",
    "import nltk\n",
    "from nltk.corpus import stopwords\n",
    "from nltk.stem.snowball import SnowballStemmer\n",
    "from sklearn.svm import SVC\n",
    "from sklearn.ensemble import RandomForestClassifier\n",
    "from nltk.tokenize import word_tokenize, sent_tokenize\n",
    "from nltk.tag import pos_tag\n",
    "from sklearn.linear_model import LogisticRegression\n",
    "from xgboost import XGBClassifier\n",
    "import warnings\n",
    "from sklearn.metrics import confusion_matrix, mutual_info_score\n",
    "import seaborn as sn\n",
    "from sklearn.feature_selection import SelectKBest, mutual_info_classif"
   ]
  },
  {
   "cell_type": "code",
   "execution_count": 93,
   "metadata": {
    "scrolled": false
   },
   "outputs": [],
   "source": [
    "# load datasets\n",
    "fake_or_real_df_1 = pd.read_csv('Data/fake_or_real_news.csv')\n",
    "fake_df_2 = pd.read_csv('Data/Fake.csv')\n",
    "true_df_2 = pd.read_csv('Data/True.csv')"
   ]
  },
  {
   "cell_type": "code",
   "execution_count": 94,
   "metadata": {
    "scrolled": true
   },
   "outputs": [
    {
     "data": {
      "text/html": [
       "<div>\n",
       "<style scoped>\n",
       "    .dataframe tbody tr th:only-of-type {\n",
       "        vertical-align: middle;\n",
       "    }\n",
       "\n",
       "    .dataframe tbody tr th {\n",
       "        vertical-align: top;\n",
       "    }\n",
       "\n",
       "    .dataframe thead th {\n",
       "        text-align: right;\n",
       "    }\n",
       "</style>\n",
       "<table border=\"1\" class=\"dataframe\">\n",
       "  <thead>\n",
       "    <tr style=\"text-align: right;\">\n",
       "      <th></th>\n",
       "      <th>Unnamed: 0</th>\n",
       "      <th>title</th>\n",
       "      <th>text</th>\n",
       "      <th>label</th>\n",
       "    </tr>\n",
       "  </thead>\n",
       "  <tbody>\n",
       "    <tr>\n",
       "      <th>0</th>\n",
       "      <td>8476</td>\n",
       "      <td>You Can Smell Hillary’s Fear</td>\n",
       "      <td>Daniel Greenfield, a Shillman Journalism Fello...</td>\n",
       "      <td>FAKE</td>\n",
       "    </tr>\n",
       "    <tr>\n",
       "      <th>1</th>\n",
       "      <td>10294</td>\n",
       "      <td>Watch The Exact Moment Paul Ryan Committed Pol...</td>\n",
       "      <td>Google Pinterest Digg Linkedin Reddit Stumbleu...</td>\n",
       "      <td>FAKE</td>\n",
       "    </tr>\n",
       "    <tr>\n",
       "      <th>2</th>\n",
       "      <td>3608</td>\n",
       "      <td>Kerry to go to Paris in gesture of sympathy</td>\n",
       "      <td>U.S. Secretary of State John F. Kerry said Mon...</td>\n",
       "      <td>REAL</td>\n",
       "    </tr>\n",
       "    <tr>\n",
       "      <th>3</th>\n",
       "      <td>10142</td>\n",
       "      <td>Bernie supporters on Twitter erupt in anger ag...</td>\n",
       "      <td>— Kaydee King (@KaydeeKing) November 9, 2016 T...</td>\n",
       "      <td>FAKE</td>\n",
       "    </tr>\n",
       "    <tr>\n",
       "      <th>4</th>\n",
       "      <td>875</td>\n",
       "      <td>The Battle of New York: Why This Primary Matters</td>\n",
       "      <td>It's primary day in New York and front-runners...</td>\n",
       "      <td>REAL</td>\n",
       "    </tr>\n",
       "  </tbody>\n",
       "</table>\n",
       "</div>"
      ],
      "text/plain": [
       "   Unnamed: 0                                              title  \\\n",
       "0        8476                       You Can Smell Hillary’s Fear   \n",
       "1       10294  Watch The Exact Moment Paul Ryan Committed Pol...   \n",
       "2        3608        Kerry to go to Paris in gesture of sympathy   \n",
       "3       10142  Bernie supporters on Twitter erupt in anger ag...   \n",
       "4         875   The Battle of New York: Why This Primary Matters   \n",
       "\n",
       "                                                text label  \n",
       "0  Daniel Greenfield, a Shillman Journalism Fello...  FAKE  \n",
       "1  Google Pinterest Digg Linkedin Reddit Stumbleu...  FAKE  \n",
       "2  U.S. Secretary of State John F. Kerry said Mon...  REAL  \n",
       "3  — Kaydee King (@KaydeeKing) November 9, 2016 T...  FAKE  \n",
       "4  It's primary day in New York and front-runners...  REAL  "
      ]
     },
     "execution_count": 94,
     "metadata": {},
     "output_type": "execute_result"
    }
   ],
   "source": [
    "# preview first df\n",
    "fake_or_real_df_1.head()"
   ]
  },
  {
   "cell_type": "code",
   "execution_count": 95,
   "metadata": {
    "scrolled": true
   },
   "outputs": [
    {
     "data": {
      "text/html": [
       "<div>\n",
       "<style scoped>\n",
       "    .dataframe tbody tr th:only-of-type {\n",
       "        vertical-align: middle;\n",
       "    }\n",
       "\n",
       "    .dataframe tbody tr th {\n",
       "        vertical-align: top;\n",
       "    }\n",
       "\n",
       "    .dataframe thead th {\n",
       "        text-align: right;\n",
       "    }\n",
       "</style>\n",
       "<table border=\"1\" class=\"dataframe\">\n",
       "  <thead>\n",
       "    <tr style=\"text-align: right;\">\n",
       "      <th></th>\n",
       "      <th>title</th>\n",
       "      <th>text</th>\n",
       "      <th>subject</th>\n",
       "      <th>date</th>\n",
       "    </tr>\n",
       "  </thead>\n",
       "  <tbody>\n",
       "    <tr>\n",
       "      <th>0</th>\n",
       "      <td>Donald Trump Sends Out Embarrassing New Year’...</td>\n",
       "      <td>Donald Trump just couldn t wish all Americans ...</td>\n",
       "      <td>News</td>\n",
       "      <td>December 31, 2017</td>\n",
       "    </tr>\n",
       "    <tr>\n",
       "      <th>1</th>\n",
       "      <td>Drunk Bragging Trump Staffer Started Russian ...</td>\n",
       "      <td>House Intelligence Committee Chairman Devin Nu...</td>\n",
       "      <td>News</td>\n",
       "      <td>December 31, 2017</td>\n",
       "    </tr>\n",
       "    <tr>\n",
       "      <th>2</th>\n",
       "      <td>Sheriff David Clarke Becomes An Internet Joke...</td>\n",
       "      <td>On Friday, it was revealed that former Milwauk...</td>\n",
       "      <td>News</td>\n",
       "      <td>December 30, 2017</td>\n",
       "    </tr>\n",
       "    <tr>\n",
       "      <th>3</th>\n",
       "      <td>Trump Is So Obsessed He Even Has Obama’s Name...</td>\n",
       "      <td>On Christmas day, Donald Trump announced that ...</td>\n",
       "      <td>News</td>\n",
       "      <td>December 29, 2017</td>\n",
       "    </tr>\n",
       "    <tr>\n",
       "      <th>4</th>\n",
       "      <td>Pope Francis Just Called Out Donald Trump Dur...</td>\n",
       "      <td>Pope Francis used his annual Christmas Day mes...</td>\n",
       "      <td>News</td>\n",
       "      <td>December 25, 2017</td>\n",
       "    </tr>\n",
       "  </tbody>\n",
       "</table>\n",
       "</div>"
      ],
      "text/plain": [
       "                                               title  \\\n",
       "0   Donald Trump Sends Out Embarrassing New Year’...   \n",
       "1   Drunk Bragging Trump Staffer Started Russian ...   \n",
       "2   Sheriff David Clarke Becomes An Internet Joke...   \n",
       "3   Trump Is So Obsessed He Even Has Obama’s Name...   \n",
       "4   Pope Francis Just Called Out Donald Trump Dur...   \n",
       "\n",
       "                                                text subject  \\\n",
       "0  Donald Trump just couldn t wish all Americans ...    News   \n",
       "1  House Intelligence Committee Chairman Devin Nu...    News   \n",
       "2  On Friday, it was revealed that former Milwauk...    News   \n",
       "3  On Christmas day, Donald Trump announced that ...    News   \n",
       "4  Pope Francis used his annual Christmas Day mes...    News   \n",
       "\n",
       "                date  \n",
       "0  December 31, 2017  \n",
       "1  December 31, 2017  \n",
       "2  December 30, 2017  \n",
       "3  December 29, 2017  \n",
       "4  December 25, 2017  "
      ]
     },
     "execution_count": 95,
     "metadata": {},
     "output_type": "execute_result"
    }
   ],
   "source": [
    "# preview second df\n",
    "fake_df_2.head()"
   ]
  },
  {
   "cell_type": "code",
   "execution_count": 96,
   "metadata": {
    "scrolled": true
   },
   "outputs": [
    {
     "data": {
      "text/html": [
       "<div>\n",
       "<style scoped>\n",
       "    .dataframe tbody tr th:only-of-type {\n",
       "        vertical-align: middle;\n",
       "    }\n",
       "\n",
       "    .dataframe tbody tr th {\n",
       "        vertical-align: top;\n",
       "    }\n",
       "\n",
       "    .dataframe thead th {\n",
       "        text-align: right;\n",
       "    }\n",
       "</style>\n",
       "<table border=\"1\" class=\"dataframe\">\n",
       "  <thead>\n",
       "    <tr style=\"text-align: right;\">\n",
       "      <th></th>\n",
       "      <th>title</th>\n",
       "      <th>text</th>\n",
       "      <th>subject</th>\n",
       "      <th>date</th>\n",
       "    </tr>\n",
       "  </thead>\n",
       "  <tbody>\n",
       "    <tr>\n",
       "      <th>0</th>\n",
       "      <td>As U.S. budget fight looms, Republicans flip t...</td>\n",
       "      <td>WASHINGTON (Reuters) - The head of a conservat...</td>\n",
       "      <td>politicsNews</td>\n",
       "      <td>December 31, 2017</td>\n",
       "    </tr>\n",
       "    <tr>\n",
       "      <th>1</th>\n",
       "      <td>U.S. military to accept transgender recruits o...</td>\n",
       "      <td>WASHINGTON (Reuters) - Transgender people will...</td>\n",
       "      <td>politicsNews</td>\n",
       "      <td>December 29, 2017</td>\n",
       "    </tr>\n",
       "    <tr>\n",
       "      <th>2</th>\n",
       "      <td>Senior U.S. Republican senator: 'Let Mr. Muell...</td>\n",
       "      <td>WASHINGTON (Reuters) - The special counsel inv...</td>\n",
       "      <td>politicsNews</td>\n",
       "      <td>December 31, 2017</td>\n",
       "    </tr>\n",
       "    <tr>\n",
       "      <th>3</th>\n",
       "      <td>FBI Russia probe helped by Australian diplomat...</td>\n",
       "      <td>WASHINGTON (Reuters) - Trump campaign adviser ...</td>\n",
       "      <td>politicsNews</td>\n",
       "      <td>December 30, 2017</td>\n",
       "    </tr>\n",
       "    <tr>\n",
       "      <th>4</th>\n",
       "      <td>Trump wants Postal Service to charge 'much mor...</td>\n",
       "      <td>SEATTLE/WASHINGTON (Reuters) - President Donal...</td>\n",
       "      <td>politicsNews</td>\n",
       "      <td>December 29, 2017</td>\n",
       "    </tr>\n",
       "  </tbody>\n",
       "</table>\n",
       "</div>"
      ],
      "text/plain": [
       "                                               title  \\\n",
       "0  As U.S. budget fight looms, Republicans flip t...   \n",
       "1  U.S. military to accept transgender recruits o...   \n",
       "2  Senior U.S. Republican senator: 'Let Mr. Muell...   \n",
       "3  FBI Russia probe helped by Australian diplomat...   \n",
       "4  Trump wants Postal Service to charge 'much mor...   \n",
       "\n",
       "                                                text       subject  \\\n",
       "0  WASHINGTON (Reuters) - The head of a conservat...  politicsNews   \n",
       "1  WASHINGTON (Reuters) - Transgender people will...  politicsNews   \n",
       "2  WASHINGTON (Reuters) - The special counsel inv...  politicsNews   \n",
       "3  WASHINGTON (Reuters) - Trump campaign adviser ...  politicsNews   \n",
       "4  SEATTLE/WASHINGTON (Reuters) - President Donal...  politicsNews   \n",
       "\n",
       "                 date  \n",
       "0  December 31, 2017   \n",
       "1  December 29, 2017   \n",
       "2  December 31, 2017   \n",
       "3  December 30, 2017   \n",
       "4  December 29, 2017   "
      ]
     },
     "execution_count": 96,
     "metadata": {},
     "output_type": "execute_result"
    }
   ],
   "source": [
    "# preview third df\n",
    "true_df_2.head()"
   ]
  },
  {
   "cell_type": "code",
   "execution_count": 97,
   "metadata": {
    "scrolled": true
   },
   "outputs": [],
   "source": [
    "# select desired columns from each dataframe\n",
    "fake_or_real_df_1 = fake_or_real_df_1[['text', 'label']]\n",
    "\n",
    "fake_df_2 = fake_df_2[['text']]\n",
    "true_df_2 = true_df_2[['text']]\n",
    "\n",
    "# create label columns\n",
    "fake_df_2['label'] = 'FAKE'\n",
    "true_df_2['label'] = 'REAL'"
   ]
  },
  {
   "cell_type": "code",
   "execution_count": 98,
   "metadata": {},
   "outputs": [],
   "source": [
    "# combine all three datasets\n",
    "fake_or_real_df = pd.concat([fake_or_real_df_1, fake_df_2, true_df_2])"
   ]
  },
  {
   "cell_type": "code",
   "execution_count": 99,
   "metadata": {
    "scrolled": false
   },
   "outputs": [
    {
     "data": {
      "text/plain": [
       "True"
      ]
     },
     "execution_count": 99,
     "metadata": {},
     "output_type": "execute_result"
    }
   ],
   "source": [
    "# check for duplicates\n",
    "fake_or_real_df.duplicated().any()"
   ]
  },
  {
   "cell_type": "code",
   "execution_count": 100,
   "metadata": {},
   "outputs": [
    {
     "data": {
      "text/plain": [
       "text     False\n",
       "label    False\n",
       "dtype: bool"
      ]
     },
     "execution_count": 100,
     "metadata": {},
     "output_type": "execute_result"
    }
   ],
   "source": [
    "# check for missing values\n",
    "fake_or_real_df.isna().any()"
   ]
  },
  {
   "cell_type": "code",
   "execution_count": 101,
   "metadata": {},
   "outputs": [],
   "source": [
    "# remove duplicate data points\n",
    "fake_or_real_df.drop_duplicates(inplace=True)"
   ]
  },
  {
   "cell_type": "code",
   "execution_count": 102,
   "metadata": {
    "scrolled": false
   },
   "outputs": [
    {
     "data": {
      "text/html": [
       "<div>\n",
       "<style scoped>\n",
       "    .dataframe tbody tr th:only-of-type {\n",
       "        vertical-align: middle;\n",
       "    }\n",
       "\n",
       "    .dataframe tbody tr th {\n",
       "        vertical-align: top;\n",
       "    }\n",
       "\n",
       "    .dataframe thead th {\n",
       "        text-align: right;\n",
       "    }\n",
       "</style>\n",
       "<table border=\"1\" class=\"dataframe\">\n",
       "  <thead>\n",
       "    <tr style=\"text-align: right;\">\n",
       "      <th></th>\n",
       "      <th>text</th>\n",
       "      <th>label</th>\n",
       "    </tr>\n",
       "  </thead>\n",
       "  <tbody>\n",
       "    <tr>\n",
       "      <th>0</th>\n",
       "      <td>Daniel Greenfield, a Shillman Journalism Fello...</td>\n",
       "      <td>FAKE</td>\n",
       "    </tr>\n",
       "    <tr>\n",
       "      <th>1</th>\n",
       "      <td>Google Pinterest Digg Linkedin Reddit Stumbleu...</td>\n",
       "      <td>FAKE</td>\n",
       "    </tr>\n",
       "    <tr>\n",
       "      <th>2</th>\n",
       "      <td>U.S. Secretary of State John F. Kerry said Mon...</td>\n",
       "      <td>REAL</td>\n",
       "    </tr>\n",
       "    <tr>\n",
       "      <th>3</th>\n",
       "      <td>— Kaydee King (@KaydeeKing) November 9, 2016 T...</td>\n",
       "      <td>FAKE</td>\n",
       "    </tr>\n",
       "    <tr>\n",
       "      <th>4</th>\n",
       "      <td>It's primary day in New York and front-runners...</td>\n",
       "      <td>REAL</td>\n",
       "    </tr>\n",
       "    <tr>\n",
       "      <th>...</th>\n",
       "      <td>...</td>\n",
       "      <td>...</td>\n",
       "    </tr>\n",
       "    <tr>\n",
       "      <th>21412</th>\n",
       "      <td>BRUSSELS (Reuters) - NATO allies on Tuesday we...</td>\n",
       "      <td>REAL</td>\n",
       "    </tr>\n",
       "    <tr>\n",
       "      <th>21413</th>\n",
       "      <td>LONDON (Reuters) - LexisNexis, a provider of l...</td>\n",
       "      <td>REAL</td>\n",
       "    </tr>\n",
       "    <tr>\n",
       "      <th>21414</th>\n",
       "      <td>MINSK (Reuters) - In the shadow of disused Sov...</td>\n",
       "      <td>REAL</td>\n",
       "    </tr>\n",
       "    <tr>\n",
       "      <th>21415</th>\n",
       "      <td>MOSCOW (Reuters) - Vatican Secretary of State ...</td>\n",
       "      <td>REAL</td>\n",
       "    </tr>\n",
       "    <tr>\n",
       "      <th>21416</th>\n",
       "      <td>JAKARTA (Reuters) - Indonesia will buy 11 Sukh...</td>\n",
       "      <td>REAL</td>\n",
       "    </tr>\n",
       "  </tbody>\n",
       "</table>\n",
       "<p>44706 rows × 2 columns</p>\n",
       "</div>"
      ],
      "text/plain": [
       "                                                    text label\n",
       "0      Daniel Greenfield, a Shillman Journalism Fello...  FAKE\n",
       "1      Google Pinterest Digg Linkedin Reddit Stumbleu...  FAKE\n",
       "2      U.S. Secretary of State John F. Kerry said Mon...  REAL\n",
       "3      — Kaydee King (@KaydeeKing) November 9, 2016 T...  FAKE\n",
       "4      It's primary day in New York and front-runners...  REAL\n",
       "...                                                  ...   ...\n",
       "21412  BRUSSELS (Reuters) - NATO allies on Tuesday we...  REAL\n",
       "21413  LONDON (Reuters) - LexisNexis, a provider of l...  REAL\n",
       "21414  MINSK (Reuters) - In the shadow of disused Sov...  REAL\n",
       "21415  MOSCOW (Reuters) - Vatican Secretary of State ...  REAL\n",
       "21416  JAKARTA (Reuters) - Indonesia will buy 11 Sukh...  REAL\n",
       "\n",
       "[44706 rows x 2 columns]"
      ]
     },
     "execution_count": 102,
     "metadata": {},
     "output_type": "execute_result"
    }
   ],
   "source": [
    "# preview final full dataset\n",
    "fake_or_real_df"
   ]
  },
  {
   "cell_type": "code",
   "execution_count": 103,
   "metadata": {
    "scrolled": false
   },
   "outputs": [
    {
     "data": {
      "text/plain": [
       "REAL    0.540889\n",
       "FAKE    0.459111\n",
       "Name: label, dtype: float64"
      ]
     },
     "execution_count": 103,
     "metadata": {},
     "output_type": "execute_result"
    }
   ],
   "source": [
    "# check class balance of final dataset\n",
    "fake_or_real_df.label.value_counts(normalize=True)"
   ]
  },
  {
   "cell_type": "code",
   "execution_count": 108,
   "metadata": {},
   "outputs": [
    {
     "name": "stdout",
     "output_type": "stream",
     "text": [
      "Real Articles:  24181\n",
      "Fake Articles:  20525\n"
     ]
    },
    {
     "data": {
      "image/png": "[encoded data removed]",
      "text/plain": [
       "<Figure size 432x360 with 1 Axes>"
      ]
     },
     "metadata": {
      "needs_background": "light"
     },
     "output_type": "display_data"
    }
   ],
   "source": [
    "# plot the class distribution\n",
    "counts = fake_or_real_df.label.value_counts()\n",
    "fig, ax = plt.subplots(figsize=(6, 5))\n",
    "plt.bar(['Real', 'Fake'], counts);\n",
    "plt.ylabel('# Articles', fontsize=16);\n",
    "plt.xticks(fontsize=14)\n",
    "print(\"Real Articles: \", counts[0])\n",
    "print(\"Fake Articles: \", counts[1])"
   ]
  },
  {
   "cell_type": "markdown",
   "metadata": {},
   "source": [
    "## Data Preparation and Exploration\n",
    "The data is split into a train, test, and validation sets. The test set will be set aside for evaluation of the final model. After splitting, the training data is standardized and tokenized for initial evaluation of word frequency distributions."
   ]
  },
  {
   "cell_type": "markdown",
   "metadata": {},
   "source": [
    "### Data Splitting"
   ]
  },
  {
   "cell_type": "code",
   "execution_count": 119,
   "metadata": {},
   "outputs": [],
   "source": [
    "# define featrues and target variables\n",
    "X = fake_or_real_df['text']\n",
    "y = fake_or_real_df['label']"
   ]
  },
  {
   "cell_type": "code",
   "execution_count": 120,
   "metadata": {},
   "outputs": [],
   "source": [
    "# intial split of data into traiing and test sets with 15% test size\n",
    "X_train_1, X_test, y_train_1, y_test = train_test_split(X, y, test_size=.15, \n",
    "                                                        random_state=42)"
   ]
  },
  {
   "cell_type": "code",
   "execution_count": 121,
   "metadata": {},
   "outputs": [],
   "source": [
    "# second split of data into training and validation sets with 15% val size\n",
    "X_train, X_val, y_train, y_val = train_test_split(X_train_1, y_train_1, \n",
    "                                                  test_size=0.15,\n",
    "                                                  random_state=42)"
   ]
  },
  {
   "cell_type": "code",
   "execution_count": 122,
   "metadata": {
    "scrolled": true
   },
   "outputs": [
    {
     "name": "stdout",
     "output_type": "stream",
     "text": [
      "Training Size:  32300\n",
      "Test Size:  6706\n",
      "Validation Size:  5700\n"
     ]
    }
   ],
   "source": [
    "# display dataset sizes\n",
    "print(\"Training Size: \", len(X_train))\n",
    "print(\"Test Size: \", len(X_test))\n",
    "print(\"Validation Size: \", len(X_val))"
   ]
  },
  {
   "cell_type": "markdown",
   "metadata": {},
   "source": [
    "### Exploratory Data Analysis\n",
    "A copy of the training data is created for exploratory data analysis. The word frequency of this training data is explored. The data is first standardized to lowercase and then tokenized using a custom tokenizer."
   ]
  },
  {
   "cell_type": "code",
   "execution_count": 123,
   "metadata": {},
   "outputs": [],
   "source": [
    "# reconstruct X_train to include labels for eda\n",
    "eda_X_train = pd.DataFrame(X_train)\n",
    "eda_y_train = pd.DataFrame(y_train)\n",
    "\n",
    "# reset new df indexes\n",
    "eda_X_train.reset_index(inplace=True, drop=True)\n",
    "eda_y_train.reset_index(inplace=True, drop=True)\n",
    "\n",
    "# add label column back to X_train df\n",
    "eda_X_train['label'] = eda_y_train"
   ]
  },
  {
   "cell_type": "code",
   "execution_count": 124,
   "metadata": {},
   "outputs": [],
   "source": [
    "# Transform  data to lowercase and add tokenized data to df\n",
    "eda_X_train['text'] = eda_X_train['text'].str.lower()\n",
    "\n",
    "# Tokenize data using custom pattern\n",
    "token_pattern = r\"(?u)\\b\\w\\w+\\b\"\n",
    "\n",
    "#instantiate tokenizer\n",
    "tokenizer = RegexpTokenizer(token_pattern)\n",
    "\n",
    "# create new column for tokenized data\n",
    "eda_X_train['tokenized'] = eda_X_train['text'].apply(tokenizer.tokenize)"
   ]
  },
  {
   "cell_type": "code",
   "execution_count": 125,
   "metadata": {
    "scrolled": false
   },
   "outputs": [
    {
     "data": {
      "text/html": [
       "<div>\n",
       "<style scoped>\n",
       "    .dataframe tbody tr th:only-of-type {\n",
       "        vertical-align: middle;\n",
       "    }\n",
       "\n",
       "    .dataframe tbody tr th {\n",
       "        vertical-align: top;\n",
       "    }\n",
       "\n",
       "    .dataframe thead th {\n",
       "        text-align: right;\n",
       "    }\n",
       "</style>\n",
       "<table border=\"1\" class=\"dataframe\">\n",
       "  <thead>\n",
       "    <tr style=\"text-align: right;\">\n",
       "      <th></th>\n",
       "      <th>text</th>\n",
       "      <th>label</th>\n",
       "      <th>tokenized</th>\n",
       "    </tr>\n",
       "  </thead>\n",
       "  <tbody>\n",
       "    <tr>\n",
       "      <th>0</th>\n",
       "      <td>during his bizarre  rally  in youngstown, ohio...</td>\n",
       "      <td>FAKE</td>\n",
       "      <td>[during, his, bizarre, rally, in, youngstown, ...</td>\n",
       "    </tr>\n",
       "    <tr>\n",
       "      <th>1</th>\n",
       "      <td>washington (reuters) - president donald trump ...</td>\n",
       "      <td>REAL</td>\n",
       "      <td>[washington, reuters, president, donald, trump...</td>\n",
       "    </tr>\n",
       "    <tr>\n",
       "      <th>2</th>\n",
       "      <td>the woman whose criminal investigation has bee...</td>\n",
       "      <td>FAKE</td>\n",
       "      <td>[the, woman, whose, criminal, investigation, h...</td>\n",
       "    </tr>\n",
       "    <tr>\n",
       "      <th>3</th>\n",
       "      <td>tune in to the alternate current radio network...</td>\n",
       "      <td>FAKE</td>\n",
       "      <td>[tune, in, to, the, alternate, current, radio,...</td>\n",
       "    </tr>\n",
       "    <tr>\n",
       "      <th>4</th>\n",
       "      <td>copenhagen (reuters) - danish police have char...</td>\n",
       "      <td>REAL</td>\n",
       "      <td>[copenhagen, reuters, danish, police, have, ch...</td>\n",
       "    </tr>\n",
       "  </tbody>\n",
       "</table>\n",
       "</div>"
      ],
      "text/plain": [
       "                                                text label  \\\n",
       "0  during his bizarre  rally  in youngstown, ohio...  FAKE   \n",
       "1  washington (reuters) - president donald trump ...  REAL   \n",
       "2  the woman whose criminal investigation has bee...  FAKE   \n",
       "3  tune in to the alternate current radio network...  FAKE   \n",
       "4  copenhagen (reuters) - danish police have char...  REAL   \n",
       "\n",
       "                                           tokenized  \n",
       "0  [during, his, bizarre, rally, in, youngstown, ...  \n",
       "1  [washington, reuters, president, donald, trump...  \n",
       "2  [the, woman, whose, criminal, investigation, h...  \n",
       "3  [tune, in, to, the, alternate, current, radio,...  \n",
       "4  [copenhagen, reuters, danish, police, have, ch...  "
      ]
     },
     "execution_count": 125,
     "metadata": {},
     "output_type": "execute_result"
    }
   ],
   "source": [
    "eda_X_train.head()"
   ]
  },
  {
   "cell_type": "code",
   "execution_count": 126,
   "metadata": {},
   "outputs": [],
   "source": [
    "# define function for plotting top 10 words of freq dist for real and fake data\n",
    "def top_10_comparison(column, title):\n",
    "\n",
    "    #define freq distributions for fake and real datasets\n",
    "    real_freq_dist = FreqDist(eda_X_train.loc[eda_X_train.label == 'REAL',\n",
    "                                              column].explode())\n",
    "    fake_freq_dist = FreqDist(eda_X_train.loc[eda_X_train.label == 'FAKE',\n",
    "                                              column].explode())\n",
    "    \n",
    "    # Extract data for plotting\n",
    "    real_top_10 = list(zip(*real_freq_dist.most_common(10)))\n",
    "    real_tokens = real_top_10[0]\n",
    "    real_counts = real_top_10[1]\n",
    "    \n",
    "    fake_top_10 = list(zip(*fake_freq_dist.most_common(10)))\n",
    "    fake_tokens = fake_top_10[0]\n",
    "    fake_counts = fake_top_10[1]\n",
    "    \n",
    "\n",
    "    # Set up plot and plot data\n",
    "    fig, ax = plt.subplots(1,2, figsize=(12,4))\n",
    "    ax[0].bar(real_tokens, real_counts)\n",
    "    ax[1].bar(fake_tokens, fake_counts)\n",
    "    \n",
    "    fig.suptitle(title)\n",
    "    # Customize plot appearance\n",
    "    ax[0].set_title(\"Real News\")\n",
    "    ax[0].set_ylabel(\"Count\")\n",
    "    ax[0].yaxis.set_major_locator(MaxNLocator(integer=True))\n",
    "    ax[0].tick_params(axis=\"x\", rotation=45)\n",
    "    \n",
    "    ax[1].set_title(\"Fake News\")\n",
    "    ax[1].set_ylabel(\"Count\")\n",
    "    ax[1].yaxis.set_major_locator(MaxNLocator(integer=True))\n",
    "    ax[1].tick_params(axis=\"x\", rotation=45)"
   ]
  },
  {
   "cell_type": "code",
   "execution_count": 127,
   "metadata": {
    "scrolled": true
   },
   "outputs": [
    {
     "data": {
      "image/png": "[encoded data removed]",
      "text/plain": [
       "<Figure size 864x288 with 2 Axes>"
      ]
     },
     "metadata": {
      "needs_background": "light"
     },
     "output_type": "display_data"
    }
   ],
   "source": [
    "top_10_comparison('tokenized', \"Top 10 Word Frequencies\")"
   ]
  },
  {
   "cell_type": "markdown",
   "metadata": {},
   "source": [
    "## Baseline Modeling\n",
    "A baseline naive bayes model using tfidf vectorization is developed for comparison to future iterations."
   ]
  },
  {
   "cell_type": "code",
   "execution_count": 144,
   "metadata": {
    "scrolled": false
   },
   "outputs": [
    {
     "data": {
      "text/html": [
       "<div>\n",
       "<style scoped>\n",
       "    .dataframe tbody tr th:only-of-type {\n",
       "        vertical-align: middle;\n",
       "    }\n",
       "\n",
       "    .dataframe tbody tr th {\n",
       "        vertical-align: top;\n",
       "    }\n",
       "\n",
       "    .dataframe thead th {\n",
       "        text-align: right;\n",
       "    }\n",
       "</style>\n",
       "<table border=\"1\" class=\"dataframe\">\n",
       "  <thead>\n",
       "    <tr style=\"text-align: right;\">\n",
       "      <th></th>\n",
       "      <th>and</th>\n",
       "      <th>for</th>\n",
       "      <th>in</th>\n",
       "      <th>is</th>\n",
       "      <th>it</th>\n",
       "      <th>of</th>\n",
       "      <th>on</th>\n",
       "      <th>that</th>\n",
       "      <th>the</th>\n",
       "      <th>to</th>\n",
       "    </tr>\n",
       "  </thead>\n",
       "  <tbody>\n",
       "    <tr>\n",
       "      <th>0</th>\n",
       "      <td>0.114623</td>\n",
       "      <td>0.188936</td>\n",
       "      <td>0.401468</td>\n",
       "      <td>0.064438</td>\n",
       "      <td>0.235747</td>\n",
       "      <td>0.255999</td>\n",
       "      <td>0.000000</td>\n",
       "      <td>0.306879</td>\n",
       "      <td>0.688845</td>\n",
       "      <td>0.309906</td>\n",
       "    </tr>\n",
       "    <tr>\n",
       "      <th>1</th>\n",
       "      <td>0.082231</td>\n",
       "      <td>0.090363</td>\n",
       "      <td>0.164580</td>\n",
       "      <td>0.000000</td>\n",
       "      <td>0.096644</td>\n",
       "      <td>0.244873</td>\n",
       "      <td>0.166211</td>\n",
       "      <td>0.000000</td>\n",
       "      <td>0.869757</td>\n",
       "      <td>0.323387</td>\n",
       "    </tr>\n",
       "    <tr>\n",
       "      <th>2</th>\n",
       "      <td>0.251063</td>\n",
       "      <td>0.137944</td>\n",
       "      <td>0.502484</td>\n",
       "      <td>0.141140</td>\n",
       "      <td>0.000000</td>\n",
       "      <td>0.124605</td>\n",
       "      <td>0.126866</td>\n",
       "      <td>0.000000</td>\n",
       "      <td>0.482814</td>\n",
       "      <td>0.617088</td>\n",
       "    </tr>\n",
       "    <tr>\n",
       "      <th>3</th>\n",
       "      <td>0.537835</td>\n",
       "      <td>0.344760</td>\n",
       "      <td>0.179406</td>\n",
       "      <td>0.050392</td>\n",
       "      <td>0.052675</td>\n",
       "      <td>0.355910</td>\n",
       "      <td>0.045296</td>\n",
       "      <td>0.000000</td>\n",
       "      <td>0.646438</td>\n",
       "      <td>0.088130</td>\n",
       "    </tr>\n",
       "    <tr>\n",
       "      <th>4</th>\n",
       "      <td>0.092909</td>\n",
       "      <td>0.000000</td>\n",
       "      <td>0.743799</td>\n",
       "      <td>0.000000</td>\n",
       "      <td>0.000000</td>\n",
       "      <td>0.092223</td>\n",
       "      <td>0.093896</td>\n",
       "      <td>0.000000</td>\n",
       "      <td>0.536013</td>\n",
       "      <td>0.365376</td>\n",
       "    </tr>\n",
       "    <tr>\n",
       "      <th>...</th>\n",
       "      <td>...</td>\n",
       "      <td>...</td>\n",
       "      <td>...</td>\n",
       "      <td>...</td>\n",
       "      <td>...</td>\n",
       "      <td>...</td>\n",
       "      <td>...</td>\n",
       "      <td>...</td>\n",
       "      <td>...</td>\n",
       "      <td>...</td>\n",
       "    </tr>\n",
       "    <tr>\n",
       "      <th>32295</th>\n",
       "      <td>0.287858</td>\n",
       "      <td>0.148857</td>\n",
       "      <td>0.152504</td>\n",
       "      <td>0.076153</td>\n",
       "      <td>0.019901</td>\n",
       "      <td>0.336157</td>\n",
       "      <td>0.085564</td>\n",
       "      <td>0.145069</td>\n",
       "      <td>0.732672</td>\n",
       "      <td>0.432840</td>\n",
       "    </tr>\n",
       "    <tr>\n",
       "      <th>32296</th>\n",
       "      <td>0.087491</td>\n",
       "      <td>0.000000</td>\n",
       "      <td>0.175107</td>\n",
       "      <td>0.295109</td>\n",
       "      <td>0.000000</td>\n",
       "      <td>0.347382</td>\n",
       "      <td>0.088421</td>\n",
       "      <td>0.093695</td>\n",
       "      <td>0.841264</td>\n",
       "      <td>0.172036</td>\n",
       "    </tr>\n",
       "    <tr>\n",
       "      <th>32297</th>\n",
       "      <td>0.293667</td>\n",
       "      <td>0.126777</td>\n",
       "      <td>0.251894</td>\n",
       "      <td>0.070753</td>\n",
       "      <td>0.024653</td>\n",
       "      <td>0.301910</td>\n",
       "      <td>0.180193</td>\n",
       "      <td>0.179709</td>\n",
       "      <td>0.746270</td>\n",
       "      <td>0.340279</td>\n",
       "    </tr>\n",
       "    <tr>\n",
       "      <th>32298</th>\n",
       "      <td>0.000000</td>\n",
       "      <td>0.000000</td>\n",
       "      <td>0.556625</td>\n",
       "      <td>0.625388</td>\n",
       "      <td>0.000000</td>\n",
       "      <td>0.000000</td>\n",
       "      <td>0.000000</td>\n",
       "      <td>0.000000</td>\n",
       "      <td>0.000000</td>\n",
       "      <td>0.546862</td>\n",
       "    </tr>\n",
       "    <tr>\n",
       "      <th>32299</th>\n",
       "      <td>0.373560</td>\n",
       "      <td>0.063154</td>\n",
       "      <td>0.172535</td>\n",
       "      <td>0.129233</td>\n",
       "      <td>0.067543</td>\n",
       "      <td>0.313756</td>\n",
       "      <td>0.116163</td>\n",
       "      <td>0.123092</td>\n",
       "      <td>0.773647</td>\n",
       "      <td>0.282515</td>\n",
       "    </tr>\n",
       "  </tbody>\n",
       "</table>\n",
       "<p>32300 rows × 10 columns</p>\n",
       "</div>"
      ],
      "text/plain": [
       "            and       for        in        is        it        of        on  \\\n",
       "0      0.114623  0.188936  0.401468  0.064438  0.235747  0.255999  0.000000   \n",
       "1      0.082231  0.090363  0.164580  0.000000  0.096644  0.244873  0.166211   \n",
       "2      0.251063  0.137944  0.502484  0.141140  0.000000  0.124605  0.126866   \n",
       "3      0.537835  0.344760  0.179406  0.050392  0.052675  0.355910  0.045296   \n",
       "4      0.092909  0.000000  0.743799  0.000000  0.000000  0.092223  0.093896   \n",
       "...         ...       ...       ...       ...       ...       ...       ...   \n",
       "32295  0.287858  0.148857  0.152504  0.076153  0.019901  0.336157  0.085564   \n",
       "32296  0.087491  0.000000  0.175107  0.295109  0.000000  0.347382  0.088421   \n",
       "32297  0.293667  0.126777  0.251894  0.070753  0.024653  0.301910  0.180193   \n",
       "32298  0.000000  0.000000  0.556625  0.625388  0.000000  0.000000  0.000000   \n",
       "32299  0.373560  0.063154  0.172535  0.129233  0.067543  0.313756  0.116163   \n",
       "\n",
       "           that       the        to  \n",
       "0      0.306879  0.688845  0.309906  \n",
       "1      0.000000  0.869757  0.323387  \n",
       "2      0.000000  0.482814  0.617088  \n",
       "3      0.000000  0.646438  0.088130  \n",
       "4      0.000000  0.536013  0.365376  \n",
       "...         ...       ...       ...  \n",
       "32295  0.145069  0.732672  0.432840  \n",
       "32296  0.093695  0.841264  0.172036  \n",
       "32297  0.179709  0.746270  0.340279  \n",
       "32298  0.000000  0.000000  0.546862  \n",
       "32299  0.123092  0.773647  0.282515  \n",
       "\n",
       "[32300 rows x 10 columns]"
      ]
     },
     "execution_count": 144,
     "metadata": {},
     "output_type": "execute_result"
    }
   ],
   "source": [
    "# Instantiate a vectorizer with max_features=10\n",
    "baseline_tfidf = TfidfVectorizer(max_features=10)\n",
    "\n",
    "# Fit the vectorizer on X_train and transform train and val sets\n",
    "baseline_tfidf.fit(X_train)\n",
    "X_train_vectorized_baseline = baseline_tfidf.transform(X_train)\n",
    "X_val_vectorized_baseline = baseline_tfidf.transform(X_val)\n",
    "\n",
    "# Visually inspect the vectorized data\n",
    "pd.DataFrame.sparse.from_spmatrix(X_train_vectorized_baseline, \n",
    "                                  columns=baseline_tfidf.get_feature_names())"
   ]
  },
  {
   "cell_type": "code",
   "execution_count": 145,
   "metadata": {
    "scrolled": true
   },
   "outputs": [
    {
     "data": {
      "text/plain": [
       "MultinomialNB()"
      ]
     },
     "execution_count": 145,
     "metadata": {},
     "output_type": "execute_result"
    }
   ],
   "source": [
    "# Instantiate a MultinomialNB classifier and fit to the vectorized data\n",
    "baseline_model = MultinomialNB()\n",
    "baseline_model.fit(X_train_vectorized_baseline, y_train)"
   ]
  },
  {
   "cell_type": "code",
   "execution_count": 146,
   "metadata": {},
   "outputs": [],
   "source": [
    "# define funtion to print the training and validation accuracies of a model\n",
    "def print_train_val_acc(model, vec_X_train, vec_X_val):\n",
    "    train_preds = model.predict(vec_X_train)\n",
    "    val_preds = model.predict(vec_X_val)\n",
    "    \n",
    "    print(\"train acc: \", accuracy_score(y_train, train_preds))\n",
    "    print(\"val acc: \", accuracy_score(y_val, val_preds))"
   ]
  },
  {
   "cell_type": "code",
   "execution_count": 91,
   "metadata": {},
   "outputs": [
    {
     "name": "stdout",
     "output_type": "stream",
     "text": [
      "train acc:  0.6348297213622291\n",
      "val acc:  0.6319298245614036\n"
     ]
    }
   ],
   "source": [
    "print_train_val_acc(baseline_model, \n",
    "                    X_train_vectorized_baseline,\n",
    "                    X_val_vectorized_baseline)"
   ]
  },
  {
   "cell_type": "markdown",
   "metadata": {},
   "source": [
    "At 63%, the baseline model is better than random guessing, but still leaves much room for improvement. \\"
   ]
  },
  {
   "cell_type": "markdown",
   "metadata": {},
   "source": [
    "## Removing Stopwords\n",
    "The top 10 words of the original dataset consisted of mostly common stopwords for the real and fake news articles. Thus, this next model will use data that has common stopwords removed that often have no impact on differentiating texts."
   ]
  },
  {
   "cell_type": "code",
   "execution_count": 128,
   "metadata": {},
   "outputs": [],
   "source": [
    "# dowload and define a list of stopwords using nltk library\n",
    "nltk.download('stopwords', quiet=True)\n",
    "\n",
    "stopwords_list = stopwords.words('english')"
   ]
  },
  {
   "cell_type": "markdown",
   "metadata": {},
   "source": [
    "### Updated frequency distributions\n",
    "The word frequencies are again graphed with no stopwords."
   ]
  },
  {
   "cell_type": "code",
   "execution_count": 129,
   "metadata": {},
   "outputs": [],
   "source": [
    "# define function to remove stopwords from tokenized data\n",
    "def remove_stopwords(token_list):\n",
    "    stopwords_removed = [token for token in token_list \n",
    "                         if token not in stopwords_list]\n",
    "    return stopwords_removed"
   ]
  },
  {
   "cell_type": "code",
   "execution_count": 130,
   "metadata": {},
   "outputs": [],
   "source": [
    "# create new column with stopwords removed from tokenized training data\n",
    "eda_X_train[\"text_without_stopwords\"] = eda_X_train[\"tokenized\"].apply(remove_stopwords)"
   ]
  },
  {
   "cell_type": "code",
   "execution_count": 131,
   "metadata": {
    "scrolled": true
   },
   "outputs": [
    {
     "data": {
      "image/png": "[encoded data removed]",
      "text/plain": [
       "<Figure size 864x288 with 2 Axes>"
      ]
     },
     "metadata": {
      "needs_background": "light"
     },
     "output_type": "display_data"
    }
   ],
   "source": [
    "top_10_comparison('text_without_stopwords', \"Top 10 Word Frequency Comparions: No Stopwords\")"
   ]
  },
  {
   "cell_type": "markdown",
   "metadata": {},
   "source": [
    "With the stopwords removed, the top 10 words for fake and real news start to differentiate."
   ]
  },
  {
   "cell_type": "markdown",
   "metadata": {},
   "source": [
    "### Model 2"
   ]
  },
  {
   "cell_type": "code",
   "execution_count": 123,
   "metadata": {},
   "outputs": [
    {
     "data": {
      "text/html": [
       "<div>\n",
       "<style scoped>\n",
       "    .dataframe tbody tr th:only-of-type {\n",
       "        vertical-align: middle;\n",
       "    }\n",
       "\n",
       "    .dataframe tbody tr th {\n",
       "        vertical-align: top;\n",
       "    }\n",
       "\n",
       "    .dataframe thead th {\n",
       "        text-align: right;\n",
       "    }\n",
       "</style>\n",
       "<table border=\"1\" class=\"dataframe\">\n",
       "  <thead>\n",
       "    <tr style=\"text-align: right;\">\n",
       "      <th></th>\n",
       "      <th>also</th>\n",
       "      <th>clinton</th>\n",
       "      <th>new</th>\n",
       "      <th>one</th>\n",
       "      <th>people</th>\n",
       "      <th>president</th>\n",
       "      <th>said</th>\n",
       "      <th>state</th>\n",
       "      <th>trump</th>\n",
       "      <th>would</th>\n",
       "    </tr>\n",
       "  </thead>\n",
       "  <tbody>\n",
       "    <tr>\n",
       "      <th>0</th>\n",
       "      <td>0.000000</td>\n",
       "      <td>0.000000</td>\n",
       "      <td>0.000000</td>\n",
       "      <td>0.099169</td>\n",
       "      <td>0.000000</td>\n",
       "      <td>0.186825</td>\n",
       "      <td>0.000000</td>\n",
       "      <td>0.000000</td>\n",
       "      <td>0.977375</td>\n",
       "      <td>0.000000</td>\n",
       "    </tr>\n",
       "    <tr>\n",
       "      <th>1</th>\n",
       "      <td>0.269183</td>\n",
       "      <td>0.000000</td>\n",
       "      <td>0.000000</td>\n",
       "      <td>0.000000</td>\n",
       "      <td>0.000000</td>\n",
       "      <td>0.729911</td>\n",
       "      <td>0.574426</td>\n",
       "      <td>0.000000</td>\n",
       "      <td>0.254568</td>\n",
       "      <td>0.000000</td>\n",
       "    </tr>\n",
       "    <tr>\n",
       "      <th>2</th>\n",
       "      <td>0.000000</td>\n",
       "      <td>0.890351</td>\n",
       "      <td>0.219306</td>\n",
       "      <td>0.000000</td>\n",
       "      <td>0.398973</td>\n",
       "      <td>0.000000</td>\n",
       "      <td>0.000000</td>\n",
       "      <td>0.000000</td>\n",
       "      <td>0.000000</td>\n",
       "      <td>0.000000</td>\n",
       "    </tr>\n",
       "    <tr>\n",
       "      <th>3</th>\n",
       "      <td>0.000000</td>\n",
       "      <td>0.000000</td>\n",
       "      <td>0.000000</td>\n",
       "      <td>0.000000</td>\n",
       "      <td>0.000000</td>\n",
       "      <td>0.000000</td>\n",
       "      <td>0.000000</td>\n",
       "      <td>0.000000</td>\n",
       "      <td>0.000000</td>\n",
       "      <td>0.000000</td>\n",
       "    </tr>\n",
       "    <tr>\n",
       "      <th>4</th>\n",
       "      <td>0.000000</td>\n",
       "      <td>0.000000</td>\n",
       "      <td>0.000000</td>\n",
       "      <td>0.484342</td>\n",
       "      <td>0.499764</td>\n",
       "      <td>0.000000</td>\n",
       "      <td>0.718087</td>\n",
       "      <td>0.000000</td>\n",
       "      <td>0.000000</td>\n",
       "      <td>0.000000</td>\n",
       "    </tr>\n",
       "    <tr>\n",
       "      <th>...</th>\n",
       "      <td>...</td>\n",
       "      <td>...</td>\n",
       "      <td>...</td>\n",
       "      <td>...</td>\n",
       "      <td>...</td>\n",
       "      <td>...</td>\n",
       "      <td>...</td>\n",
       "      <td>...</td>\n",
       "      <td>...</td>\n",
       "      <td>...</td>\n",
       "    </tr>\n",
       "    <tr>\n",
       "      <th>32295</th>\n",
       "      <td>0.234127</td>\n",
       "      <td>0.000000</td>\n",
       "      <td>0.000000</td>\n",
       "      <td>0.673973</td>\n",
       "      <td>0.463622</td>\n",
       "      <td>0.000000</td>\n",
       "      <td>0.166539</td>\n",
       "      <td>0.267925</td>\n",
       "      <td>0.000000</td>\n",
       "      <td>0.420096</td>\n",
       "    </tr>\n",
       "    <tr>\n",
       "      <th>32296</th>\n",
       "      <td>0.000000</td>\n",
       "      <td>0.000000</td>\n",
       "      <td>0.000000</td>\n",
       "      <td>0.000000</td>\n",
       "      <td>0.000000</td>\n",
       "      <td>0.000000</td>\n",
       "      <td>0.000000</td>\n",
       "      <td>0.000000</td>\n",
       "      <td>1.000000</td>\n",
       "      <td>0.000000</td>\n",
       "    </tr>\n",
       "    <tr>\n",
       "      <th>32297</th>\n",
       "      <td>0.316555</td>\n",
       "      <td>0.000000</td>\n",
       "      <td>0.344564</td>\n",
       "      <td>0.151876</td>\n",
       "      <td>0.470135</td>\n",
       "      <td>0.000000</td>\n",
       "      <td>0.675514</td>\n",
       "      <td>0.000000</td>\n",
       "      <td>0.000000</td>\n",
       "      <td>0.283999</td>\n",
       "    </tr>\n",
       "    <tr>\n",
       "      <th>32298</th>\n",
       "      <td>0.000000</td>\n",
       "      <td>0.000000</td>\n",
       "      <td>0.000000</td>\n",
       "      <td>0.000000</td>\n",
       "      <td>0.000000</td>\n",
       "      <td>0.000000</td>\n",
       "      <td>0.000000</td>\n",
       "      <td>0.000000</td>\n",
       "      <td>0.000000</td>\n",
       "      <td>0.000000</td>\n",
       "    </tr>\n",
       "    <tr>\n",
       "      <th>32299</th>\n",
       "      <td>0.189664</td>\n",
       "      <td>0.000000</td>\n",
       "      <td>0.000000</td>\n",
       "      <td>0.000000</td>\n",
       "      <td>0.000000</td>\n",
       "      <td>0.514289</td>\n",
       "      <td>0.674559</td>\n",
       "      <td>0.000000</td>\n",
       "      <td>0.358733</td>\n",
       "      <td>0.340317</td>\n",
       "    </tr>\n",
       "  </tbody>\n",
       "</table>\n",
       "<p>32300 rows × 10 columns</p>\n",
       "</div>"
      ],
      "text/plain": [
       "           also   clinton       new       one    people  president      said  \\\n",
       "0      0.000000  0.000000  0.000000  0.099169  0.000000   0.186825  0.000000   \n",
       "1      0.269183  0.000000  0.000000  0.000000  0.000000   0.729911  0.574426   \n",
       "2      0.000000  0.890351  0.219306  0.000000  0.398973   0.000000  0.000000   \n",
       "3      0.000000  0.000000  0.000000  0.000000  0.000000   0.000000  0.000000   \n",
       "4      0.000000  0.000000  0.000000  0.484342  0.499764   0.000000  0.718087   \n",
       "...         ...       ...       ...       ...       ...        ...       ...   \n",
       "32295  0.234127  0.000000  0.000000  0.673973  0.463622   0.000000  0.166539   \n",
       "32296  0.000000  0.000000  0.000000  0.000000  0.000000   0.000000  0.000000   \n",
       "32297  0.316555  0.000000  0.344564  0.151876  0.470135   0.000000  0.675514   \n",
       "32298  0.000000  0.000000  0.000000  0.000000  0.000000   0.000000  0.000000   \n",
       "32299  0.189664  0.000000  0.000000  0.000000  0.000000   0.514289  0.674559   \n",
       "\n",
       "          state     trump     would  \n",
       "0      0.000000  0.977375  0.000000  \n",
       "1      0.000000  0.254568  0.000000  \n",
       "2      0.000000  0.000000  0.000000  \n",
       "3      0.000000  0.000000  0.000000  \n",
       "4      0.000000  0.000000  0.000000  \n",
       "...         ...       ...       ...  \n",
       "32295  0.267925  0.000000  0.420096  \n",
       "32296  0.000000  1.000000  0.000000  \n",
       "32297  0.000000  0.000000  0.283999  \n",
       "32298  0.000000  0.000000  0.000000  \n",
       "32299  0.000000  0.358733  0.340317  \n",
       "\n",
       "[32300 rows x 10 columns]"
      ]
     },
     "execution_count": 123,
     "metadata": {},
     "output_type": "execute_result"
    }
   ],
   "source": [
    "# Instantiate the vectorizer with removal of stopwords\n",
    "tfidf_2 = TfidfVectorizer(\n",
    "    max_features=10,\n",
    "    stop_words=stopwords_list\n",
    ")\n",
    "# Fit the vectorizer on X_train and transform train and val sets\n",
    "tfidf_2.fit(X_train)\n",
    "X_train_vectorized_2 = tfidf_2.transform(X_train)\n",
    "X_val_vectorized_2 = tfidf_2.transform(X_val)\n",
    "\n",
    "# Visually inspect the vectorized data\n",
    "pd.DataFrame.sparse.from_spmatrix(X_train_vectorized_2, \n",
    "                                  columns=tfidf_2.get_feature_names())"
   ]
  },
  {
   "cell_type": "code",
   "execution_count": 124,
   "metadata": {},
   "outputs": [
    {
     "data": {
      "text/plain": [
       "MultinomialNB()"
      ]
     },
     "execution_count": 124,
     "metadata": {},
     "output_type": "execute_result"
    }
   ],
   "source": [
    "# Instantiate a MultinomialNB classifier and fit to data\n",
    "model_2 = MultinomialNB()\n",
    "model_2.fit(X_train_vectorized_2, y_train)"
   ]
  },
  {
   "cell_type": "code",
   "execution_count": 125,
   "metadata": {},
   "outputs": [
    {
     "name": "stdout",
     "output_type": "stream",
     "text": [
      "train acc:  0.7428792569659443\n",
      "val acc:  0.7371929824561404\n"
     ]
    }
   ],
   "source": [
    "print_train_val_acc(model_2, \n",
    "                    X_train_vectorized_2,\n",
    "                    X_val_vectorized_2)"
   ]
  },
  {
   "cell_type": "markdown",
   "metadata": {},
   "source": [
    "Removing the stopwords showed significant improvement over the baseline model, and thus will be included in all future models."
   ]
  },
  {
   "cell_type": "markdown",
   "metadata": {},
   "source": [
    "## Stemming and Tokenization\n",
    "The data for model three is stemmed and uses the custom tokenizer that was instantiated earlier in addition to removing stopwords. "
   ]
  },
  {
   "cell_type": "code",
   "execution_count": 132,
   "metadata": {},
   "outputs": [],
   "source": [
    "# define stemmer\n",
    "stemmer = SnowballStemmer(language=\"english\")\n",
    "\n",
    "# define fucntion to stem and tokenize\n",
    "def stem_and_tokenize(document):\n",
    "    tokens = tokenizer.tokenize(document)\n",
    "    return [stemmer.stem(token) for token in tokens]"
   ]
  },
  {
   "cell_type": "code",
   "execution_count": 133,
   "metadata": {},
   "outputs": [],
   "source": [
    "# stem the stopwords list \n",
    "stemmed_stopwords = [stemmer.stem(word) for word in stopwords_list]"
   ]
  },
  {
   "cell_type": "code",
   "execution_count": 134,
   "metadata": {},
   "outputs": [],
   "source": [
    "# add stemmed and tokeinzed data column\n",
    "eda_X_train[\"stemmed_and_tokenized\"] = eda_X_train[\"text\"].apply(stem_and_tokenize)\n",
    "eda_X_train[\"stemmed_and_tokenized\"] = eda_X_train[\"stemmed_and_tokenized\"].apply(remove_stopwords)"
   ]
  },
  {
   "cell_type": "code",
   "execution_count": 135,
   "metadata": {},
   "outputs": [
    {
     "data": {
      "image/png": "[encoded data removed]",
      "text/plain": [
       "<Figure size 864x288 with 2 Axes>"
      ]
     },
     "metadata": {
      "needs_background": "light"
     },
     "output_type": "display_data"
    }
   ],
   "source": [
    "top_10_comparison('stemmed_and_tokenized', \"Top 10 Word Frequency Comparions: Stemmed and Tokenized\")"
   ]
  },
  {
   "cell_type": "markdown",
   "metadata": {},
   "source": [
    "### Model 3"
   ]
  },
  {
   "cell_type": "code",
   "execution_count": 136,
   "metadata": {},
   "outputs": [],
   "source": [
    "# Instantiate the vectorizer with stemming, tokeinzation, and stopword removal\n",
    "tfidf_3 = TfidfVectorizer(\n",
    "    max_features=10,\n",
    "    stop_words=stemmed_stopwords,\n",
    "    tokenizer=stem_and_tokenize\n",
    ")\n",
    "\n",
    "# Fit the vectorizer on X_train text\n",
    "tfidf_3.fit(X_train)\n",
    "X_train_vectorized_3 = tfidf_3.transform(X_train)\n",
    "X_val_vectorized_3 = tfidf_3.transform(X_val)"
   ]
  },
  {
   "cell_type": "code",
   "execution_count": 137,
   "metadata": {
    "scrolled": true
   },
   "outputs": [
    {
     "data": {
      "text/plain": [
       "MultinomialNB()"
      ]
     },
     "execution_count": 137,
     "metadata": {},
     "output_type": "execute_result"
    }
   ],
   "source": [
    "# Instantiate a MultinomialNB classifier\n",
    "model_3 = MultinomialNB()\n",
    "model_3.fit(X_train_vectorized_3, y_train)"
   ]
  },
  {
   "cell_type": "code",
   "execution_count": 138,
   "metadata": {},
   "outputs": [
    {
     "name": "stdout",
     "output_type": "stream",
     "text": [
      "train acc:  0.7479876160990712\n",
      "val acc:  0.7407017543859649\n"
     ]
    }
   ],
   "source": [
    "print_train_val_acc(model_3, X_train_vectorized_3, X_val_vectorized_3)"
   ]
  },
  {
   "cell_type": "markdown",
   "metadata": {},
   "source": [
    "Using stemming and a custom tokenizer showed negligible improvement in the model accuracy and thus will not be included in future models."
   ]
  },
  {
   "cell_type": "markdown",
   "metadata": {},
   "source": [
    "## Model 4: Increasing Max Features\n",
    "Up until this point, we have developed the model only using the top 10 most frequent features. In this model, that is increased to the top 100 features. adding more features will give the model more information to differentiate between fake and real news articles."
   ]
  },
  {
   "cell_type": "code",
   "execution_count": 30,
   "metadata": {
    "scrolled": false
   },
   "outputs": [
    {
     "data": {
      "text/html": [
       "<div>\n",
       "<style scoped>\n",
       "    .dataframe tbody tr th:only-of-type {\n",
       "        vertical-align: middle;\n",
       "    }\n",
       "\n",
       "    .dataframe tbody tr th {\n",
       "        vertical-align: top;\n",
       "    }\n",
       "\n",
       "    .dataframe thead th {\n",
       "        text-align: right;\n",
       "    }\n",
       "</style>\n",
       "<table border=\"1\" class=\"dataframe\">\n",
       "  <thead>\n",
       "    <tr style=\"text-align: right;\">\n",
       "      <th></th>\n",
       "      <th>000</th>\n",
       "      <th>2016</th>\n",
       "      <th>according</th>\n",
       "      <th>administration</th>\n",
       "      <th>also</th>\n",
       "      <th>america</th>\n",
       "      <th>american</th>\n",
       "      <th>back</th>\n",
       "      <th>bill</th>\n",
       "      <th>called</th>\n",
       "      <th>...</th>\n",
       "      <th>war</th>\n",
       "      <th>washington</th>\n",
       "      <th>way</th>\n",
       "      <th>week</th>\n",
       "      <th>well</th>\n",
       "      <th>white</th>\n",
       "      <th>world</th>\n",
       "      <th>would</th>\n",
       "      <th>year</th>\n",
       "      <th>years</th>\n",
       "    </tr>\n",
       "  </thead>\n",
       "  <tbody>\n",
       "    <tr>\n",
       "      <th>0</th>\n",
       "      <td>0.0</td>\n",
       "      <td>0.000000</td>\n",
       "      <td>0.000000</td>\n",
       "      <td>0.000000</td>\n",
       "      <td>0.000000</td>\n",
       "      <td>0.000000</td>\n",
       "      <td>0.000000</td>\n",
       "      <td>0.000000</td>\n",
       "      <td>0.0</td>\n",
       "      <td>0.000000</td>\n",
       "      <td>...</td>\n",
       "      <td>0.000000</td>\n",
       "      <td>0.000000</td>\n",
       "      <td>0.0</td>\n",
       "      <td>0.0</td>\n",
       "      <td>0.000000</td>\n",
       "      <td>0.000000</td>\n",
       "      <td>0.115893</td>\n",
       "      <td>0.000000</td>\n",
       "      <td>0.000000</td>\n",
       "      <td>0.101722</td>\n",
       "    </tr>\n",
       "    <tr>\n",
       "      <th>1</th>\n",
       "      <td>0.0</td>\n",
       "      <td>0.000000</td>\n",
       "      <td>0.000000</td>\n",
       "      <td>0.000000</td>\n",
       "      <td>0.171296</td>\n",
       "      <td>0.000000</td>\n",
       "      <td>0.000000</td>\n",
       "      <td>0.000000</td>\n",
       "      <td>0.0</td>\n",
       "      <td>0.000000</td>\n",
       "      <td>...</td>\n",
       "      <td>0.000000</td>\n",
       "      <td>0.213501</td>\n",
       "      <td>0.0</td>\n",
       "      <td>0.0</td>\n",
       "      <td>0.000000</td>\n",
       "      <td>0.452798</td>\n",
       "      <td>0.000000</td>\n",
       "      <td>0.000000</td>\n",
       "      <td>0.000000</td>\n",
       "      <td>0.000000</td>\n",
       "    </tr>\n",
       "    <tr>\n",
       "      <th>2</th>\n",
       "      <td>0.0</td>\n",
       "      <td>0.000000</td>\n",
       "      <td>0.000000</td>\n",
       "      <td>0.000000</td>\n",
       "      <td>0.000000</td>\n",
       "      <td>0.000000</td>\n",
       "      <td>0.000000</td>\n",
       "      <td>0.000000</td>\n",
       "      <td>0.0</td>\n",
       "      <td>0.000000</td>\n",
       "      <td>...</td>\n",
       "      <td>0.000000</td>\n",
       "      <td>0.000000</td>\n",
       "      <td>0.0</td>\n",
       "      <td>0.0</td>\n",
       "      <td>0.000000</td>\n",
       "      <td>0.000000</td>\n",
       "      <td>0.000000</td>\n",
       "      <td>0.000000</td>\n",
       "      <td>0.000000</td>\n",
       "      <td>0.000000</td>\n",
       "    </tr>\n",
       "    <tr>\n",
       "      <th>3</th>\n",
       "      <td>0.0</td>\n",
       "      <td>0.000000</td>\n",
       "      <td>0.000000</td>\n",
       "      <td>0.000000</td>\n",
       "      <td>0.000000</td>\n",
       "      <td>0.000000</td>\n",
       "      <td>0.000000</td>\n",
       "      <td>0.000000</td>\n",
       "      <td>0.0</td>\n",
       "      <td>0.000000</td>\n",
       "      <td>...</td>\n",
       "      <td>0.000000</td>\n",
       "      <td>0.000000</td>\n",
       "      <td>0.0</td>\n",
       "      <td>0.0</td>\n",
       "      <td>0.000000</td>\n",
       "      <td>0.000000</td>\n",
       "      <td>0.000000</td>\n",
       "      <td>0.000000</td>\n",
       "      <td>0.000000</td>\n",
       "      <td>0.000000</td>\n",
       "    </tr>\n",
       "    <tr>\n",
       "      <th>4</th>\n",
       "      <td>0.0</td>\n",
       "      <td>0.350121</td>\n",
       "      <td>0.158118</td>\n",
       "      <td>0.000000</td>\n",
       "      <td>0.000000</td>\n",
       "      <td>0.000000</td>\n",
       "      <td>0.000000</td>\n",
       "      <td>0.000000</td>\n",
       "      <td>0.0</td>\n",
       "      <td>0.000000</td>\n",
       "      <td>...</td>\n",
       "      <td>0.000000</td>\n",
       "      <td>0.000000</td>\n",
       "      <td>0.0</td>\n",
       "      <td>0.0</td>\n",
       "      <td>0.000000</td>\n",
       "      <td>0.000000</td>\n",
       "      <td>0.000000</td>\n",
       "      <td>0.000000</td>\n",
       "      <td>0.133681</td>\n",
       "      <td>0.000000</td>\n",
       "    </tr>\n",
       "    <tr>\n",
       "      <th>...</th>\n",
       "      <td>...</td>\n",
       "      <td>...</td>\n",
       "      <td>...</td>\n",
       "      <td>...</td>\n",
       "      <td>...</td>\n",
       "      <td>...</td>\n",
       "      <td>...</td>\n",
       "      <td>...</td>\n",
       "      <td>...</td>\n",
       "      <td>...</td>\n",
       "      <td>...</td>\n",
       "      <td>...</td>\n",
       "      <td>...</td>\n",
       "      <td>...</td>\n",
       "      <td>...</td>\n",
       "      <td>...</td>\n",
       "      <td>...</td>\n",
       "      <td>...</td>\n",
       "      <td>...</td>\n",
       "      <td>...</td>\n",
       "      <td>...</td>\n",
       "    </tr>\n",
       "    <tr>\n",
       "      <th>32295</th>\n",
       "      <td>0.0</td>\n",
       "      <td>0.227903</td>\n",
       "      <td>0.068616</td>\n",
       "      <td>0.000000</td>\n",
       "      <td>0.049840</td>\n",
       "      <td>0.074747</td>\n",
       "      <td>0.000000</td>\n",
       "      <td>0.000000</td>\n",
       "      <td>0.0</td>\n",
       "      <td>0.000000</td>\n",
       "      <td>...</td>\n",
       "      <td>0.000000</td>\n",
       "      <td>0.000000</td>\n",
       "      <td>0.0</td>\n",
       "      <td>0.0</td>\n",
       "      <td>0.137125</td>\n",
       "      <td>0.000000</td>\n",
       "      <td>0.073214</td>\n",
       "      <td>0.089429</td>\n",
       "      <td>0.000000</td>\n",
       "      <td>0.000000</td>\n",
       "    </tr>\n",
       "    <tr>\n",
       "      <th>32296</th>\n",
       "      <td>0.0</td>\n",
       "      <td>0.000000</td>\n",
       "      <td>0.000000</td>\n",
       "      <td>0.178542</td>\n",
       "      <td>0.000000</td>\n",
       "      <td>0.000000</td>\n",
       "      <td>0.160993</td>\n",
       "      <td>0.157726</td>\n",
       "      <td>0.0</td>\n",
       "      <td>0.000000</td>\n",
       "      <td>...</td>\n",
       "      <td>0.000000</td>\n",
       "      <td>0.000000</td>\n",
       "      <td>0.0</td>\n",
       "      <td>0.0</td>\n",
       "      <td>0.000000</td>\n",
       "      <td>0.614996</td>\n",
       "      <td>0.000000</td>\n",
       "      <td>0.000000</td>\n",
       "      <td>0.000000</td>\n",
       "      <td>0.000000</td>\n",
       "    </tr>\n",
       "    <tr>\n",
       "      <th>32297</th>\n",
       "      <td>0.0</td>\n",
       "      <td>0.045879</td>\n",
       "      <td>0.041439</td>\n",
       "      <td>0.000000</td>\n",
       "      <td>0.060200</td>\n",
       "      <td>0.000000</td>\n",
       "      <td>0.000000</td>\n",
       "      <td>0.040812</td>\n",
       "      <td>0.0</td>\n",
       "      <td>0.041169</td>\n",
       "      <td>...</td>\n",
       "      <td>0.000000</td>\n",
       "      <td>0.000000</td>\n",
       "      <td>0.0</td>\n",
       "      <td>0.0</td>\n",
       "      <td>0.000000</td>\n",
       "      <td>0.517174</td>\n",
       "      <td>0.000000</td>\n",
       "      <td>0.054009</td>\n",
       "      <td>0.035034</td>\n",
       "      <td>0.116428</td>\n",
       "    </tr>\n",
       "    <tr>\n",
       "      <th>32298</th>\n",
       "      <td>0.0</td>\n",
       "      <td>0.000000</td>\n",
       "      <td>0.000000</td>\n",
       "      <td>0.000000</td>\n",
       "      <td>0.000000</td>\n",
       "      <td>0.000000</td>\n",
       "      <td>0.000000</td>\n",
       "      <td>0.000000</td>\n",
       "      <td>0.0</td>\n",
       "      <td>0.000000</td>\n",
       "      <td>...</td>\n",
       "      <td>0.000000</td>\n",
       "      <td>0.000000</td>\n",
       "      <td>0.0</td>\n",
       "      <td>0.0</td>\n",
       "      <td>1.000000</td>\n",
       "      <td>0.000000</td>\n",
       "      <td>0.000000</td>\n",
       "      <td>0.000000</td>\n",
       "      <td>0.000000</td>\n",
       "      <td>0.000000</td>\n",
       "    </tr>\n",
       "    <tr>\n",
       "      <th>32299</th>\n",
       "      <td>0.0</td>\n",
       "      <td>0.000000</td>\n",
       "      <td>0.138661</td>\n",
       "      <td>0.154586</td>\n",
       "      <td>0.100720</td>\n",
       "      <td>0.151052</td>\n",
       "      <td>0.139391</td>\n",
       "      <td>0.000000</td>\n",
       "      <td>0.0</td>\n",
       "      <td>0.000000</td>\n",
       "      <td>...</td>\n",
       "      <td>0.168711</td>\n",
       "      <td>0.000000</td>\n",
       "      <td>0.0</td>\n",
       "      <td>0.0</td>\n",
       "      <td>0.000000</td>\n",
       "      <td>0.000000</td>\n",
       "      <td>0.443864</td>\n",
       "      <td>0.180722</td>\n",
       "      <td>0.000000</td>\n",
       "      <td>0.129863</td>\n",
       "    </tr>\n",
       "  </tbody>\n",
       "</table>\n",
       "<p>32300 rows × 100 columns</p>\n",
       "</div>"
      ],
      "text/plain": [
       "       000      2016  according  administration      also   america  american  \\\n",
       "0      0.0  0.000000   0.000000        0.000000  0.000000  0.000000  0.000000   \n",
       "1      0.0  0.000000   0.000000        0.000000  0.171296  0.000000  0.000000   \n",
       "2      0.0  0.000000   0.000000        0.000000  0.000000  0.000000  0.000000   \n",
       "3      0.0  0.000000   0.000000        0.000000  0.000000  0.000000  0.000000   \n",
       "4      0.0  0.350121   0.158118        0.000000  0.000000  0.000000  0.000000   \n",
       "...    ...       ...        ...             ...       ...       ...       ...   \n",
       "32295  0.0  0.227903   0.068616        0.000000  0.049840  0.074747  0.000000   \n",
       "32296  0.0  0.000000   0.000000        0.178542  0.000000  0.000000  0.160993   \n",
       "32297  0.0  0.045879   0.041439        0.000000  0.060200  0.000000  0.000000   \n",
       "32298  0.0  0.000000   0.000000        0.000000  0.000000  0.000000  0.000000   \n",
       "32299  0.0  0.000000   0.138661        0.154586  0.100720  0.151052  0.139391   \n",
       "\n",
       "           back  bill    called  ...       war  washington  way  week  \\\n",
       "0      0.000000   0.0  0.000000  ...  0.000000    0.000000  0.0   0.0   \n",
       "1      0.000000   0.0  0.000000  ...  0.000000    0.213501  0.0   0.0   \n",
       "2      0.000000   0.0  0.000000  ...  0.000000    0.000000  0.0   0.0   \n",
       "3      0.000000   0.0  0.000000  ...  0.000000    0.000000  0.0   0.0   \n",
       "4      0.000000   0.0  0.000000  ...  0.000000    0.000000  0.0   0.0   \n",
       "...         ...   ...       ...  ...       ...         ...  ...   ...   \n",
       "32295  0.000000   0.0  0.000000  ...  0.000000    0.000000  0.0   0.0   \n",
       "32296  0.157726   0.0  0.000000  ...  0.000000    0.000000  0.0   0.0   \n",
       "32297  0.040812   0.0  0.041169  ...  0.000000    0.000000  0.0   0.0   \n",
       "32298  0.000000   0.0  0.000000  ...  0.000000    0.000000  0.0   0.0   \n",
       "32299  0.000000   0.0  0.000000  ...  0.168711    0.000000  0.0   0.0   \n",
       "\n",
       "           well     white     world     would      year     years  \n",
       "0      0.000000  0.000000  0.115893  0.000000  0.000000  0.101722  \n",
       "1      0.000000  0.452798  0.000000  0.000000  0.000000  0.000000  \n",
       "2      0.000000  0.000000  0.000000  0.000000  0.000000  0.000000  \n",
       "3      0.000000  0.000000  0.000000  0.000000  0.000000  0.000000  \n",
       "4      0.000000  0.000000  0.000000  0.000000  0.133681  0.000000  \n",
       "...         ...       ...       ...       ...       ...       ...  \n",
       "32295  0.137125  0.000000  0.073214  0.089429  0.000000  0.000000  \n",
       "32296  0.000000  0.614996  0.000000  0.000000  0.000000  0.000000  \n",
       "32297  0.000000  0.517174  0.000000  0.054009  0.035034  0.116428  \n",
       "32298  1.000000  0.000000  0.000000  0.000000  0.000000  0.000000  \n",
       "32299  0.000000  0.000000  0.443864  0.180722  0.000000  0.129863  \n",
       "\n",
       "[32300 rows x 100 columns]"
      ]
     },
     "execution_count": 30,
     "metadata": {},
     "output_type": "execute_result"
    }
   ],
   "source": [
    "# Instantiate the vectorizer with max_features=100 and stopword removal\n",
    "tfidf_4 = TfidfVectorizer(\n",
    "    max_features=100,\n",
    "    stop_words=stopwords_list\n",
    ")\n",
    "\n",
    "# Fit the vectorizer on X_train and transform X_train and X_val\n",
    "tfidf_4.fit(X_train)\n",
    "X_train_vectorized_4 = tfidf_4.transform(X_train)\n",
    "X_val_vectorized_4 = tfidf_4.transform(X_val)\n",
    "\n",
    "\n",
    "# Create a full df of vectorized + engineered features\n",
    "pd.DataFrame.sparse.from_spmatrix(X_train_vectorized_4, columns=tfidf_4.get_feature_names())"
   ]
  },
  {
   "cell_type": "code",
   "execution_count": 31,
   "metadata": {},
   "outputs": [
    {
     "data": {
      "text/plain": [
       "MultinomialNB()"
      ]
     },
     "execution_count": 31,
     "metadata": {},
     "output_type": "execute_result"
    }
   ],
   "source": [
    "# Instantiate a MultinomialNB classifier\n",
    "model_4 = MultinomialNB()\n",
    "model_4.fit(X_train_vectorized_4, y_train)"
   ]
  },
  {
   "cell_type": "code",
   "execution_count": 35,
   "metadata": {},
   "outputs": [
    {
     "name": "stdout",
     "output_type": "stream",
     "text": [
      "train acc:  0.875015479876161\n",
      "val acc:  0.8750877192982456\n"
     ]
    }
   ],
   "source": [
    "print_train_val_acc(model_4, X_train_vectorized_4, X_val_vectorized_4)"
   ]
  },
  {
   "cell_type": "markdown",
   "metadata": {},
   "source": [
    "Increasing the max features significantly improved the accuracy of the model, and will be included in the next iterations."
   ]
  },
  {
   "cell_type": "markdown",
   "metadata": {},
   "source": [
    "## Model 5: Part-of-Speech Tag\n",
    "Data is constructed that includes each word from the text with its part of speech. Including the function of each word may provide another layer of information that will help in separating fake and real news."
   ]
  },
  {
   "cell_type": "code",
   "execution_count": 136,
   "metadata": {},
   "outputs": [],
   "source": [
    "# define fucntion to creat tokeinzed pos-tags\n",
    "def tokenize_tag(document):\n",
    "    tokens = tokenizer.tokenize(document)\n",
    "    return pos_tag(tokens)"
   ]
  },
  {
   "cell_type": "code",
   "execution_count": 38,
   "metadata": {
    "scrolled": false
   },
   "outputs": [
    {
     "data": {
      "text/html": [
       "<div>\n",
       "<style scoped>\n",
       "    .dataframe tbody tr th:only-of-type {\n",
       "        vertical-align: middle;\n",
       "    }\n",
       "\n",
       "    .dataframe tbody tr th {\n",
       "        vertical-align: top;\n",
       "    }\n",
       "\n",
       "    .dataframe thead th {\n",
       "        text-align: right;\n",
       "    }\n",
       "</style>\n",
       "<table border=\"1\" class=\"dataframe\">\n",
       "  <thead>\n",
       "    <tr style=\"text-align: right;\">\n",
       "      <th></th>\n",
       "      <th>(about, IN)</th>\n",
       "      <th>(after, IN)</th>\n",
       "      <th>(against, IN)</th>\n",
       "      <th>(all, DT)</th>\n",
       "      <th>(also, RB)</th>\n",
       "      <th>(an, DT)</th>\n",
       "      <th>(and, CC)</th>\n",
       "      <th>(any, DT)</th>\n",
       "      <th>(are, VBP)</th>\n",
       "      <th>(as, IN)</th>\n",
       "      <th>...</th>\n",
       "      <th>(what, WP)</th>\n",
       "      <th>(when, WRB)</th>\n",
       "      <th>(which, WDT)</th>\n",
       "      <th>(white, JJ)</th>\n",
       "      <th>(who, WP)</th>\n",
       "      <th>(will, MD)</th>\n",
       "      <th>(with, IN)</th>\n",
       "      <th>(would, MD)</th>\n",
       "      <th>(year, NN)</th>\n",
       "      <th>(you, PRP)</th>\n",
       "    </tr>\n",
       "  </thead>\n",
       "  <tbody>\n",
       "    <tr>\n",
       "      <th>0</th>\n",
       "      <td>0.064351</td>\n",
       "      <td>0.066997</td>\n",
       "      <td>0.0</td>\n",
       "      <td>0.037371</td>\n",
       "      <td>0.000000</td>\n",
       "      <td>0.027378</td>\n",
       "      <td>0.082516</td>\n",
       "      <td>0.084252</td>\n",
       "      <td>0.086309</td>\n",
       "      <td>0.025531</td>\n",
       "      <td>...</td>\n",
       "      <td>0.072845</td>\n",
       "      <td>0.106838</td>\n",
       "      <td>0.000000</td>\n",
       "      <td>0.000000</td>\n",
       "      <td>0.057681</td>\n",
       "      <td>0.032572</td>\n",
       "      <td>0.192481</td>\n",
       "      <td>0.000000</td>\n",
       "      <td>0.000000</td>\n",
       "      <td>0.000000</td>\n",
       "    </tr>\n",
       "    <tr>\n",
       "      <th>1</th>\n",
       "      <td>0.000000</td>\n",
       "      <td>0.102495</td>\n",
       "      <td>0.0</td>\n",
       "      <td>0.114343</td>\n",
       "      <td>0.108216</td>\n",
       "      <td>0.000000</td>\n",
       "      <td>0.063119</td>\n",
       "      <td>0.000000</td>\n",
       "      <td>0.000000</td>\n",
       "      <td>0.000000</td>\n",
       "      <td>...</td>\n",
       "      <td>0.000000</td>\n",
       "      <td>0.000000</td>\n",
       "      <td>0.000000</td>\n",
       "      <td>0.286054</td>\n",
       "      <td>0.000000</td>\n",
       "      <td>0.000000</td>\n",
       "      <td>0.147234</td>\n",
       "      <td>0.000000</td>\n",
       "      <td>0.000000</td>\n",
       "      <td>0.000000</td>\n",
       "    </tr>\n",
       "    <tr>\n",
       "      <th>2</th>\n",
       "      <td>0.000000</td>\n",
       "      <td>0.000000</td>\n",
       "      <td>0.0</td>\n",
       "      <td>0.000000</td>\n",
       "      <td>0.000000</td>\n",
       "      <td>0.083666</td>\n",
       "      <td>0.126084</td>\n",
       "      <td>0.000000</td>\n",
       "      <td>0.087919</td>\n",
       "      <td>0.000000</td>\n",
       "      <td>...</td>\n",
       "      <td>0.000000</td>\n",
       "      <td>0.000000</td>\n",
       "      <td>0.000000</td>\n",
       "      <td>0.000000</td>\n",
       "      <td>0.000000</td>\n",
       "      <td>0.000000</td>\n",
       "      <td>0.073527</td>\n",
       "      <td>0.000000</td>\n",
       "      <td>0.000000</td>\n",
       "      <td>0.000000</td>\n",
       "    </tr>\n",
       "    <tr>\n",
       "      <th>3</th>\n",
       "      <td>0.000000</td>\n",
       "      <td>0.000000</td>\n",
       "      <td>0.0</td>\n",
       "      <td>0.000000</td>\n",
       "      <td>0.000000</td>\n",
       "      <td>0.000000</td>\n",
       "      <td>0.522625</td>\n",
       "      <td>0.000000</td>\n",
       "      <td>0.000000</td>\n",
       "      <td>0.000000</td>\n",
       "      <td>...</td>\n",
       "      <td>0.000000</td>\n",
       "      <td>0.000000</td>\n",
       "      <td>0.000000</td>\n",
       "      <td>0.000000</td>\n",
       "      <td>0.000000</td>\n",
       "      <td>0.000000</td>\n",
       "      <td>0.050796</td>\n",
       "      <td>0.000000</td>\n",
       "      <td>0.000000</td>\n",
       "      <td>0.000000</td>\n",
       "    </tr>\n",
       "    <tr>\n",
       "      <th>4</th>\n",
       "      <td>0.000000</td>\n",
       "      <td>0.000000</td>\n",
       "      <td>0.0</td>\n",
       "      <td>0.000000</td>\n",
       "      <td>0.000000</td>\n",
       "      <td>0.343583</td>\n",
       "      <td>0.064722</td>\n",
       "      <td>0.000000</td>\n",
       "      <td>0.090262</td>\n",
       "      <td>0.000000</td>\n",
       "      <td>...</td>\n",
       "      <td>0.000000</td>\n",
       "      <td>0.000000</td>\n",
       "      <td>0.000000</td>\n",
       "      <td>0.000000</td>\n",
       "      <td>0.090484</td>\n",
       "      <td>0.000000</td>\n",
       "      <td>0.226458</td>\n",
       "      <td>0.000000</td>\n",
       "      <td>0.129154</td>\n",
       "      <td>0.000000</td>\n",
       "    </tr>\n",
       "    <tr>\n",
       "      <th>...</th>\n",
       "      <td>...</td>\n",
       "      <td>...</td>\n",
       "      <td>...</td>\n",
       "      <td>...</td>\n",
       "      <td>...</td>\n",
       "      <td>...</td>\n",
       "      <td>...</td>\n",
       "      <td>...</td>\n",
       "      <td>...</td>\n",
       "      <td>...</td>\n",
       "      <td>...</td>\n",
       "      <td>...</td>\n",
       "      <td>...</td>\n",
       "      <td>...</td>\n",
       "      <td>...</td>\n",
       "      <td>...</td>\n",
       "      <td>...</td>\n",
       "      <td>...</td>\n",
       "      <td>...</td>\n",
       "      <td>...</td>\n",
       "      <td>...</td>\n",
       "    </tr>\n",
       "    <tr>\n",
       "      <th>32295</th>\n",
       "      <td>0.000000</td>\n",
       "      <td>0.049144</td>\n",
       "      <td>0.0</td>\n",
       "      <td>0.000000</td>\n",
       "      <td>0.025943</td>\n",
       "      <td>0.020082</td>\n",
       "      <td>0.257243</td>\n",
       "      <td>0.000000</td>\n",
       "      <td>0.021103</td>\n",
       "      <td>0.056184</td>\n",
       "      <td>...</td>\n",
       "      <td>0.053433</td>\n",
       "      <td>0.000000</td>\n",
       "      <td>0.024481</td>\n",
       "      <td>0.000000</td>\n",
       "      <td>0.063466</td>\n",
       "      <td>0.047784</td>\n",
       "      <td>0.070595</td>\n",
       "      <td>0.046550</td>\n",
       "      <td>0.000000</td>\n",
       "      <td>0.028915</td>\n",
       "    </tr>\n",
       "    <tr>\n",
       "      <th>32296</th>\n",
       "      <td>0.073366</td>\n",
       "      <td>0.076383</td>\n",
       "      <td>0.0</td>\n",
       "      <td>0.000000</td>\n",
       "      <td>0.000000</td>\n",
       "      <td>0.000000</td>\n",
       "      <td>0.047038</td>\n",
       "      <td>0.000000</td>\n",
       "      <td>0.000000</td>\n",
       "      <td>0.000000</td>\n",
       "      <td>...</td>\n",
       "      <td>0.000000</td>\n",
       "      <td>0.081204</td>\n",
       "      <td>0.000000</td>\n",
       "      <td>0.426354</td>\n",
       "      <td>0.000000</td>\n",
       "      <td>0.000000</td>\n",
       "      <td>0.000000</td>\n",
       "      <td>0.000000</td>\n",
       "      <td>0.000000</td>\n",
       "      <td>0.089883</td>\n",
       "    </tr>\n",
       "    <tr>\n",
       "      <th>32297</th>\n",
       "      <td>0.054546</td>\n",
       "      <td>0.056788</td>\n",
       "      <td>0.0</td>\n",
       "      <td>0.047515</td>\n",
       "      <td>0.029979</td>\n",
       "      <td>0.116032</td>\n",
       "      <td>0.244802</td>\n",
       "      <td>0.035707</td>\n",
       "      <td>0.048772</td>\n",
       "      <td>0.043282</td>\n",
       "      <td>...</td>\n",
       "      <td>0.046309</td>\n",
       "      <td>0.030186</td>\n",
       "      <td>0.014144</td>\n",
       "      <td>0.257548</td>\n",
       "      <td>0.097785</td>\n",
       "      <td>0.013804</td>\n",
       "      <td>0.122365</td>\n",
       "      <td>0.026896</td>\n",
       "      <td>0.017447</td>\n",
       "      <td>0.133651</td>\n",
       "    </tr>\n",
       "    <tr>\n",
       "      <th>32298</th>\n",
       "      <td>0.000000</td>\n",
       "      <td>0.000000</td>\n",
       "      <td>0.0</td>\n",
       "      <td>0.000000</td>\n",
       "      <td>0.000000</td>\n",
       "      <td>0.339633</td>\n",
       "      <td>0.000000</td>\n",
       "      <td>0.000000</td>\n",
       "      <td>0.000000</td>\n",
       "      <td>0.000000</td>\n",
       "      <td>...</td>\n",
       "      <td>0.000000</td>\n",
       "      <td>0.441785</td>\n",
       "      <td>0.000000</td>\n",
       "      <td>0.000000</td>\n",
       "      <td>0.000000</td>\n",
       "      <td>0.000000</td>\n",
       "      <td>0.000000</td>\n",
       "      <td>0.000000</td>\n",
       "      <td>0.000000</td>\n",
       "      <td>0.000000</td>\n",
       "    </tr>\n",
       "    <tr>\n",
       "      <th>32299</th>\n",
       "      <td>0.000000</td>\n",
       "      <td>0.041149</td>\n",
       "      <td>0.0</td>\n",
       "      <td>0.000000</td>\n",
       "      <td>0.043445</td>\n",
       "      <td>0.067261</td>\n",
       "      <td>0.329425</td>\n",
       "      <td>0.000000</td>\n",
       "      <td>0.000000</td>\n",
       "      <td>0.094087</td>\n",
       "      <td>...</td>\n",
       "      <td>0.000000</td>\n",
       "      <td>0.000000</td>\n",
       "      <td>0.000000</td>\n",
       "      <td>0.000000</td>\n",
       "      <td>0.035427</td>\n",
       "      <td>0.120031</td>\n",
       "      <td>0.000000</td>\n",
       "      <td>0.077955</td>\n",
       "      <td>0.000000</td>\n",
       "      <td>0.000000</td>\n",
       "    </tr>\n",
       "  </tbody>\n",
       "</table>\n",
       "<p>32300 rows × 100 columns</p>\n",
       "</div>"
      ],
      "text/plain": [
       "       (about, IN)  (after, IN)  (against, IN)  (all, DT)  (also, RB)  \\\n",
       "0         0.064351     0.066997            0.0   0.037371    0.000000   \n",
       "1         0.000000     0.102495            0.0   0.114343    0.108216   \n",
       "2         0.000000     0.000000            0.0   0.000000    0.000000   \n",
       "3         0.000000     0.000000            0.0   0.000000    0.000000   \n",
       "4         0.000000     0.000000            0.0   0.000000    0.000000   \n",
       "...            ...          ...            ...        ...         ...   \n",
       "32295     0.000000     0.049144            0.0   0.000000    0.025943   \n",
       "32296     0.073366     0.076383            0.0   0.000000    0.000000   \n",
       "32297     0.054546     0.056788            0.0   0.047515    0.029979   \n",
       "32298     0.000000     0.000000            0.0   0.000000    0.000000   \n",
       "32299     0.000000     0.041149            0.0   0.000000    0.043445   \n",
       "\n",
       "       (an, DT)  (and, CC)  (any, DT)  (are, VBP)  (as, IN)  ...  (what, WP)  \\\n",
       "0      0.027378   0.082516   0.084252    0.086309  0.025531  ...    0.072845   \n",
       "1      0.000000   0.063119   0.000000    0.000000  0.000000  ...    0.000000   \n",
       "2      0.083666   0.126084   0.000000    0.087919  0.000000  ...    0.000000   \n",
       "3      0.000000   0.522625   0.000000    0.000000  0.000000  ...    0.000000   \n",
       "4      0.343583   0.064722   0.000000    0.090262  0.000000  ...    0.000000   \n",
       "...         ...        ...        ...         ...       ...  ...         ...   \n",
       "32295  0.020082   0.257243   0.000000    0.021103  0.056184  ...    0.053433   \n",
       "32296  0.000000   0.047038   0.000000    0.000000  0.000000  ...    0.000000   \n",
       "32297  0.116032   0.244802   0.035707    0.048772  0.043282  ...    0.046309   \n",
       "32298  0.339633   0.000000   0.000000    0.000000  0.000000  ...    0.000000   \n",
       "32299  0.067261   0.329425   0.000000    0.000000  0.094087  ...    0.000000   \n",
       "\n",
       "       (when, WRB)  (which, WDT)  (white, JJ)  (who, WP)  (will, MD)  \\\n",
       "0         0.106838      0.000000     0.000000   0.057681    0.032572   \n",
       "1         0.000000      0.000000     0.286054   0.000000    0.000000   \n",
       "2         0.000000      0.000000     0.000000   0.000000    0.000000   \n",
       "3         0.000000      0.000000     0.000000   0.000000    0.000000   \n",
       "4         0.000000      0.000000     0.000000   0.090484    0.000000   \n",
       "...            ...           ...          ...        ...         ...   \n",
       "32295     0.000000      0.024481     0.000000   0.063466    0.047784   \n",
       "32296     0.081204      0.000000     0.426354   0.000000    0.000000   \n",
       "32297     0.030186      0.014144     0.257548   0.097785    0.013804   \n",
       "32298     0.441785      0.000000     0.000000   0.000000    0.000000   \n",
       "32299     0.000000      0.000000     0.000000   0.035427    0.120031   \n",
       "\n",
       "       (with, IN)  (would, MD)  (year, NN)  (you, PRP)  \n",
       "0        0.192481     0.000000    0.000000    0.000000  \n",
       "1        0.147234     0.000000    0.000000    0.000000  \n",
       "2        0.073527     0.000000    0.000000    0.000000  \n",
       "3        0.050796     0.000000    0.000000    0.000000  \n",
       "4        0.226458     0.000000    0.129154    0.000000  \n",
       "...           ...          ...         ...         ...  \n",
       "32295    0.070595     0.046550    0.000000    0.028915  \n",
       "32296    0.000000     0.000000    0.000000    0.089883  \n",
       "32297    0.122365     0.026896    0.017447    0.133651  \n",
       "32298    0.000000     0.000000    0.000000    0.000000  \n",
       "32299    0.000000     0.077955    0.000000    0.000000  \n",
       "\n",
       "[32300 rows x 100 columns]"
      ]
     },
     "execution_count": 38,
     "metadata": {},
     "output_type": "execute_result"
    }
   ],
   "source": [
    "# Instantiate the vectorizer with the pos function\n",
    "tfidf_5 = TfidfVectorizer(\n",
    "    max_features=100,\n",
    "    stop_words=stopwords_list,\n",
    "    tokenizer=tokenize_tag\n",
    ")\n",
    "\n",
    "# Fit the vectorizer on X_train and transform X_train and X_val\n",
    "tfidf_5.fit(X_train)\n",
    "X_train_vectorized_5 = tfidf_5.transform(X_train)\n",
    "X_val_vectorized_5 = tfidf_5.transform(X_val)\n",
    "\n",
    "\n",
    "# Create a full df of vectorized + engineered features\n",
    "pd.DataFrame.sparse.from_spmatrix(X_train_vectorized_5, columns=tfidf_5.get_feature_names())"
   ]
  },
  {
   "cell_type": "code",
   "execution_count": 39,
   "metadata": {},
   "outputs": [
    {
     "data": {
      "text/plain": [
       "MultinomialNB()"
      ]
     },
     "execution_count": 39,
     "metadata": {},
     "output_type": "execute_result"
    }
   ],
   "source": [
    "# Instantiate a MultinomialNB classifier\n",
    "model_5 = MultinomialNB()\n",
    "model_5.fit(X_train_vectorized_5, y_train)"
   ]
  },
  {
   "cell_type": "code",
   "execution_count": 41,
   "metadata": {},
   "outputs": [
    {
     "name": "stdout",
     "output_type": "stream",
     "text": [
      "train acc:  0.8528792569659442\n",
      "val acc:  0.8517543859649123\n"
     ]
    }
   ],
   "source": [
    "print_train_val_acc(model_5, X_train_vectorized_5, X_val_vectorized_5)"
   ]
  },
  {
   "cell_type": "markdown",
   "metadata": {},
   "source": [
    "The model performed well, but not as well as the previous model with no pos tags, thus pos tags will not be included going forward."
   ]
  },
  {
   "cell_type": "markdown",
   "metadata": {},
   "source": [
    "## Model 6: Using Bigrams\n",
    "Using bigrmas, or pairs of words may give more information about the content and text of each text that could result in improved accuracy for the model. "
   ]
  },
  {
   "cell_type": "code",
   "execution_count": 140,
   "metadata": {},
   "outputs": [
    {
     "data": {
      "text/html": [
       "<div>\n",
       "<style scoped>\n",
       "    .dataframe tbody tr th:only-of-type {\n",
       "        vertical-align: middle;\n",
       "    }\n",
       "\n",
       "    .dataframe tbody tr th {\n",
       "        vertical-align: top;\n",
       "    }\n",
       "\n",
       "    .dataframe thead th {\n",
       "        text-align: right;\n",
       "    }\n",
       "</style>\n",
       "<table border=\"1\" class=\"dataframe\">\n",
       "  <thead>\n",
       "    <tr style=\"text-align: right;\">\n",
       "      <th></th>\n",
       "      <th>also said</th>\n",
       "      <th>american people</th>\n",
       "      <th>attorney general</th>\n",
       "      <th>barack obama</th>\n",
       "      <th>bernie sanders</th>\n",
       "      <th>bill clinton</th>\n",
       "      <th>climate change</th>\n",
       "      <th>clinton campaign</th>\n",
       "      <th>democratic party</th>\n",
       "      <th>donald trump</th>\n",
       "      <th>...</th>\n",
       "      <th>united states</th>\n",
       "      <th>vice president</th>\n",
       "      <th>vladimir putin</th>\n",
       "      <th>wall street</th>\n",
       "      <th>washington post</th>\n",
       "      <th>washington reuters</th>\n",
       "      <th>white house</th>\n",
       "      <th>year old</th>\n",
       "      <th>years ago</th>\n",
       "      <th>york times</th>\n",
       "    </tr>\n",
       "  </thead>\n",
       "  <tbody>\n",
       "    <tr>\n",
       "      <th>0</th>\n",
       "      <td>0.0</td>\n",
       "      <td>0.0</td>\n",
       "      <td>0.0</td>\n",
       "      <td>0.000000</td>\n",
       "      <td>0.0</td>\n",
       "      <td>0.0</td>\n",
       "      <td>0.000000</td>\n",
       "      <td>0.0</td>\n",
       "      <td>0.0</td>\n",
       "      <td>0.242935</td>\n",
       "      <td>...</td>\n",
       "      <td>0.000000</td>\n",
       "      <td>0.000000</td>\n",
       "      <td>0.0</td>\n",
       "      <td>0.0</td>\n",
       "      <td>0.0</td>\n",
       "      <td>0.000000</td>\n",
       "      <td>0.000000</td>\n",
       "      <td>0.000000</td>\n",
       "      <td>0.000000</td>\n",
       "      <td>0.0</td>\n",
       "    </tr>\n",
       "    <tr>\n",
       "      <th>1</th>\n",
       "      <td>0.0</td>\n",
       "      <td>0.0</td>\n",
       "      <td>0.0</td>\n",
       "      <td>0.000000</td>\n",
       "      <td>0.0</td>\n",
       "      <td>0.0</td>\n",
       "      <td>0.000000</td>\n",
       "      <td>0.0</td>\n",
       "      <td>0.0</td>\n",
       "      <td>0.205322</td>\n",
       "      <td>...</td>\n",
       "      <td>0.000000</td>\n",
       "      <td>0.000000</td>\n",
       "      <td>0.0</td>\n",
       "      <td>0.0</td>\n",
       "      <td>0.0</td>\n",
       "      <td>0.317486</td>\n",
       "      <td>0.585678</td>\n",
       "      <td>0.000000</td>\n",
       "      <td>0.000000</td>\n",
       "      <td>0.0</td>\n",
       "    </tr>\n",
       "    <tr>\n",
       "      <th>2</th>\n",
       "      <td>0.0</td>\n",
       "      <td>0.0</td>\n",
       "      <td>0.0</td>\n",
       "      <td>0.000000</td>\n",
       "      <td>0.0</td>\n",
       "      <td>0.0</td>\n",
       "      <td>0.000000</td>\n",
       "      <td>0.0</td>\n",
       "      <td>0.0</td>\n",
       "      <td>0.000000</td>\n",
       "      <td>...</td>\n",
       "      <td>0.000000</td>\n",
       "      <td>0.000000</td>\n",
       "      <td>0.0</td>\n",
       "      <td>0.0</td>\n",
       "      <td>0.0</td>\n",
       "      <td>0.000000</td>\n",
       "      <td>0.000000</td>\n",
       "      <td>0.000000</td>\n",
       "      <td>0.000000</td>\n",
       "      <td>0.0</td>\n",
       "    </tr>\n",
       "    <tr>\n",
       "      <th>3</th>\n",
       "      <td>0.0</td>\n",
       "      <td>0.0</td>\n",
       "      <td>0.0</td>\n",
       "      <td>0.000000</td>\n",
       "      <td>0.0</td>\n",
       "      <td>0.0</td>\n",
       "      <td>0.000000</td>\n",
       "      <td>0.0</td>\n",
       "      <td>0.0</td>\n",
       "      <td>0.000000</td>\n",
       "      <td>...</td>\n",
       "      <td>0.000000</td>\n",
       "      <td>0.000000</td>\n",
       "      <td>0.0</td>\n",
       "      <td>0.0</td>\n",
       "      <td>0.0</td>\n",
       "      <td>0.000000</td>\n",
       "      <td>0.000000</td>\n",
       "      <td>0.000000</td>\n",
       "      <td>0.000000</td>\n",
       "      <td>0.0</td>\n",
       "    </tr>\n",
       "    <tr>\n",
       "      <th>4</th>\n",
       "      <td>0.0</td>\n",
       "      <td>0.0</td>\n",
       "      <td>0.0</td>\n",
       "      <td>0.000000</td>\n",
       "      <td>0.0</td>\n",
       "      <td>0.0</td>\n",
       "      <td>0.000000</td>\n",
       "      <td>0.0</td>\n",
       "      <td>0.0</td>\n",
       "      <td>0.000000</td>\n",
       "      <td>...</td>\n",
       "      <td>0.000000</td>\n",
       "      <td>0.000000</td>\n",
       "      <td>0.0</td>\n",
       "      <td>0.0</td>\n",
       "      <td>0.0</td>\n",
       "      <td>0.000000</td>\n",
       "      <td>0.000000</td>\n",
       "      <td>1.000000</td>\n",
       "      <td>0.000000</td>\n",
       "      <td>0.0</td>\n",
       "    </tr>\n",
       "    <tr>\n",
       "      <th>...</th>\n",
       "      <td>...</td>\n",
       "      <td>...</td>\n",
       "      <td>...</td>\n",
       "      <td>...</td>\n",
       "      <td>...</td>\n",
       "      <td>...</td>\n",
       "      <td>...</td>\n",
       "      <td>...</td>\n",
       "      <td>...</td>\n",
       "      <td>...</td>\n",
       "      <td>...</td>\n",
       "      <td>...</td>\n",
       "      <td>...</td>\n",
       "      <td>...</td>\n",
       "      <td>...</td>\n",
       "      <td>...</td>\n",
       "      <td>...</td>\n",
       "      <td>...</td>\n",
       "      <td>...</td>\n",
       "      <td>...</td>\n",
       "      <td>...</td>\n",
       "    </tr>\n",
       "    <tr>\n",
       "      <th>32295</th>\n",
       "      <td>0.0</td>\n",
       "      <td>0.0</td>\n",
       "      <td>0.0</td>\n",
       "      <td>0.000000</td>\n",
       "      <td>0.0</td>\n",
       "      <td>0.0</td>\n",
       "      <td>0.000000</td>\n",
       "      <td>0.0</td>\n",
       "      <td>0.0</td>\n",
       "      <td>0.000000</td>\n",
       "      <td>...</td>\n",
       "      <td>0.000000</td>\n",
       "      <td>0.000000</td>\n",
       "      <td>0.0</td>\n",
       "      <td>0.0</td>\n",
       "      <td>0.0</td>\n",
       "      <td>0.000000</td>\n",
       "      <td>0.000000</td>\n",
       "      <td>0.000000</td>\n",
       "      <td>0.000000</td>\n",
       "      <td>0.0</td>\n",
       "    </tr>\n",
       "    <tr>\n",
       "      <th>32296</th>\n",
       "      <td>0.0</td>\n",
       "      <td>0.0</td>\n",
       "      <td>0.0</td>\n",
       "      <td>0.000000</td>\n",
       "      <td>0.0</td>\n",
       "      <td>0.0</td>\n",
       "      <td>0.000000</td>\n",
       "      <td>0.0</td>\n",
       "      <td>0.0</td>\n",
       "      <td>0.000000</td>\n",
       "      <td>...</td>\n",
       "      <td>0.000000</td>\n",
       "      <td>0.000000</td>\n",
       "      <td>0.0</td>\n",
       "      <td>0.0</td>\n",
       "      <td>0.0</td>\n",
       "      <td>0.000000</td>\n",
       "      <td>0.628055</td>\n",
       "      <td>0.000000</td>\n",
       "      <td>0.000000</td>\n",
       "      <td>0.0</td>\n",
       "    </tr>\n",
       "    <tr>\n",
       "      <th>32297</th>\n",
       "      <td>0.0</td>\n",
       "      <td>0.0</td>\n",
       "      <td>0.0</td>\n",
       "      <td>0.000000</td>\n",
       "      <td>0.0</td>\n",
       "      <td>0.0</td>\n",
       "      <td>0.000000</td>\n",
       "      <td>0.0</td>\n",
       "      <td>0.0</td>\n",
       "      <td>0.000000</td>\n",
       "      <td>...</td>\n",
       "      <td>0.000000</td>\n",
       "      <td>0.000000</td>\n",
       "      <td>0.0</td>\n",
       "      <td>0.0</td>\n",
       "      <td>0.0</td>\n",
       "      <td>0.000000</td>\n",
       "      <td>0.000000</td>\n",
       "      <td>0.133212</td>\n",
       "      <td>0.157902</td>\n",
       "      <td>0.0</td>\n",
       "    </tr>\n",
       "    <tr>\n",
       "      <th>32298</th>\n",
       "      <td>0.0</td>\n",
       "      <td>0.0</td>\n",
       "      <td>0.0</td>\n",
       "      <td>0.000000</td>\n",
       "      <td>0.0</td>\n",
       "      <td>0.0</td>\n",
       "      <td>0.000000</td>\n",
       "      <td>0.0</td>\n",
       "      <td>0.0</td>\n",
       "      <td>0.000000</td>\n",
       "      <td>...</td>\n",
       "      <td>0.000000</td>\n",
       "      <td>0.000000</td>\n",
       "      <td>0.0</td>\n",
       "      <td>0.0</td>\n",
       "      <td>0.0</td>\n",
       "      <td>0.000000</td>\n",
       "      <td>0.000000</td>\n",
       "      <td>0.000000</td>\n",
       "      <td>0.000000</td>\n",
       "      <td>0.0</td>\n",
       "    </tr>\n",
       "    <tr>\n",
       "      <th>32299</th>\n",
       "      <td>0.0</td>\n",
       "      <td>0.0</td>\n",
       "      <td>0.0</td>\n",
       "      <td>0.184699</td>\n",
       "      <td>0.0</td>\n",
       "      <td>0.0</td>\n",
       "      <td>0.565643</td>\n",
       "      <td>0.0</td>\n",
       "      <td>0.0</td>\n",
       "      <td>0.110244</td>\n",
       "      <td>...</td>\n",
       "      <td>0.286531</td>\n",
       "      <td>0.243977</td>\n",
       "      <td>0.0</td>\n",
       "      <td>0.0</td>\n",
       "      <td>0.0</td>\n",
       "      <td>0.000000</td>\n",
       "      <td>0.000000</td>\n",
       "      <td>0.000000</td>\n",
       "      <td>0.244837</td>\n",
       "      <td>0.0</td>\n",
       "    </tr>\n",
       "  </tbody>\n",
       "</table>\n",
       "<p>32300 rows × 100 columns</p>\n",
       "</div>"
      ],
      "text/plain": [
       "       also said  american people  attorney general  barack obama  \\\n",
       "0            0.0              0.0               0.0      0.000000   \n",
       "1            0.0              0.0               0.0      0.000000   \n",
       "2            0.0              0.0               0.0      0.000000   \n",
       "3            0.0              0.0               0.0      0.000000   \n",
       "4            0.0              0.0               0.0      0.000000   \n",
       "...          ...              ...               ...           ...   \n",
       "32295        0.0              0.0               0.0      0.000000   \n",
       "32296        0.0              0.0               0.0      0.000000   \n",
       "32297        0.0              0.0               0.0      0.000000   \n",
       "32298        0.0              0.0               0.0      0.000000   \n",
       "32299        0.0              0.0               0.0      0.184699   \n",
       "\n",
       "       bernie sanders  bill clinton  climate change  clinton campaign  \\\n",
       "0                 0.0           0.0        0.000000               0.0   \n",
       "1                 0.0           0.0        0.000000               0.0   \n",
       "2                 0.0           0.0        0.000000               0.0   \n",
       "3                 0.0           0.0        0.000000               0.0   \n",
       "4                 0.0           0.0        0.000000               0.0   \n",
       "...               ...           ...             ...               ...   \n",
       "32295             0.0           0.0        0.000000               0.0   \n",
       "32296             0.0           0.0        0.000000               0.0   \n",
       "32297             0.0           0.0        0.000000               0.0   \n",
       "32298             0.0           0.0        0.000000               0.0   \n",
       "32299             0.0           0.0        0.565643               0.0   \n",
       "\n",
       "       democratic party  donald trump  ...  united states  vice president  \\\n",
       "0                   0.0      0.242935  ...       0.000000        0.000000   \n",
       "1                   0.0      0.205322  ...       0.000000        0.000000   \n",
       "2                   0.0      0.000000  ...       0.000000        0.000000   \n",
       "3                   0.0      0.000000  ...       0.000000        0.000000   \n",
       "4                   0.0      0.000000  ...       0.000000        0.000000   \n",
       "...                 ...           ...  ...            ...             ...   \n",
       "32295               0.0      0.000000  ...       0.000000        0.000000   \n",
       "32296               0.0      0.000000  ...       0.000000        0.000000   \n",
       "32297               0.0      0.000000  ...       0.000000        0.000000   \n",
       "32298               0.0      0.000000  ...       0.000000        0.000000   \n",
       "32299               0.0      0.110244  ...       0.286531        0.243977   \n",
       "\n",
       "       vladimir putin  wall street  washington post  washington reuters  \\\n",
       "0                 0.0          0.0              0.0            0.000000   \n",
       "1                 0.0          0.0              0.0            0.317486   \n",
       "2                 0.0          0.0              0.0            0.000000   \n",
       "3                 0.0          0.0              0.0            0.000000   \n",
       "4                 0.0          0.0              0.0            0.000000   \n",
       "...               ...          ...              ...                 ...   \n",
       "32295             0.0          0.0              0.0            0.000000   \n",
       "32296             0.0          0.0              0.0            0.000000   \n",
       "32297             0.0          0.0              0.0            0.000000   \n",
       "32298             0.0          0.0              0.0            0.000000   \n",
       "32299             0.0          0.0              0.0            0.000000   \n",
       "\n",
       "       white house  year old  years ago  york times  \n",
       "0         0.000000  0.000000   0.000000         0.0  \n",
       "1         0.585678  0.000000   0.000000         0.0  \n",
       "2         0.000000  0.000000   0.000000         0.0  \n",
       "3         0.000000  0.000000   0.000000         0.0  \n",
       "4         0.000000  1.000000   0.000000         0.0  \n",
       "...            ...       ...        ...         ...  \n",
       "32295     0.000000  0.000000   0.000000         0.0  \n",
       "32296     0.628055  0.000000   0.000000         0.0  \n",
       "32297     0.000000  0.133212   0.157902         0.0  \n",
       "32298     0.000000  0.000000   0.000000         0.0  \n",
       "32299     0.000000  0.000000   0.244837         0.0  \n",
       "\n",
       "[32300 rows x 100 columns]"
      ]
     },
     "execution_count": 140,
     "metadata": {},
     "output_type": "execute_result"
    }
   ],
   "source": [
    "# Instantiate the vectorizer with bigrams added\n",
    "tfidf_6 = TfidfVectorizer(\n",
    "    max_features=100,\n",
    "    ngram_range=(2,2),\n",
    "    stop_words=stopwords_list\n",
    ")\n",
    "\n",
    "# Fit the vectorizer on X_train and transform it\n",
    "tfidf_6.fit(X_train)\n",
    "X_train_vectorized_6 = tfidf_6.transform(X_train)\n",
    "X_val_vectorized_6 = tfidf_6.transform(X_val)\n",
    "\n",
    "\n",
    "# Create a full df of vectorized + engineered features\n",
    "pd.DataFrame.sparse.from_spmatrix(X_train_vectorized_6, columns=tfidf_6.get_feature_names())"
   ]
  },
  {
   "cell_type": "code",
   "execution_count": null,
   "metadata": {},
   "outputs": [],
   "source": [
    "# Instantiate a MultinomialNB classifier\n",
    "model_6 = MultinomialNB()\n",
    "model_6.fit(X_train_vectorized_6, y_train)"
   ]
  },
  {
   "cell_type": "code",
   "execution_count": 142,
   "metadata": {
    "scrolled": true
   },
   "outputs": [
    {
     "name": "stdout",
     "output_type": "stream",
     "text": [
      "train acc:  0.8261609907120743\n",
      "val acc:  0.8226315789473684\n"
     ]
    }
   ],
   "source": [
    "print_train_val_acc(model_6, X_train_vectorized_6, X_val_vectorized_6)"
   ]
  },
  {
   "cell_type": "markdown",
   "metadata": {},
   "source": [
    "THe bigram based model did not improve the accuracy. Unigrams, or individual words will be used going forward."
   ]
  },
  {
   "cell_type": "markdown",
   "metadata": {},
   "source": [
    "## Count Vectorization\n",
    "Thus far, we have vectorized the data using only the Tdidf vectorizer. Here, we try the count vectorizer with the same setup of the most successful tfidf model."
   ]
  },
  {
   "cell_type": "code",
   "execution_count": 42,
   "metadata": {
    "scrolled": true
   },
   "outputs": [],
   "source": [
    "# Instantiate the count vectorizer with \n",
    "count_vec_7 = CountVectorizer(\n",
    "    max_features=100,\n",
    "    stop_words=stopwords_list\n",
    ")\n",
    "\n",
    "# Fit the vectorizer on X_train and transform it\n",
    "count_vec_7.fit(X_train)\n",
    "X_train_vectorized_7 = count_vec_7.transform(X_train)\n",
    "X_val_vectorized_7 = count_vec_7.transform(X_val)"
   ]
  },
  {
   "cell_type": "code",
   "execution_count": 43,
   "metadata": {},
   "outputs": [
    {
     "data": {
      "text/plain": [
       "MultinomialNB()"
      ]
     },
     "execution_count": 43,
     "metadata": {},
     "output_type": "execute_result"
    }
   ],
   "source": [
    "# Instantiate a MultinomialNB classifier\n",
    "model_7 = MultinomialNB()\n",
    "model_7.fit(X_train_vectorized_7, y_train)"
   ]
  },
  {
   "cell_type": "code",
   "execution_count": 44,
   "metadata": {},
   "outputs": [
    {
     "name": "stdout",
     "output_type": "stream",
     "text": [
      "train acc:  0.8932817337461301\n",
      "val acc:  0.893859649122807\n"
     ]
    }
   ],
   "source": [
    "print_train_val_acc(model_7, X_train_vectorized_7, X_val_vectorized_7)"
   ]
  },
  {
   "cell_type": "markdown",
   "metadata": {},
   "source": [
    "The count vectorizer produced a slightly better accuracy than the tfidf, and thus will be used in the next model iterations."
   ]
  },
  {
   "cell_type": "markdown",
   "metadata": {},
   "source": [
    "## Classifiers\n",
    "For all previous model, a simple Naive Bayes classifer was used. Using the the most accurate vectorizer and data features, multiple classifiers are evaluated."
   ]
  },
  {
   "cell_type": "markdown",
   "metadata": {},
   "source": [
    "### Support Vector Machine"
   ]
  },
  {
   "cell_type": "code",
   "execution_count": 293,
   "metadata": {},
   "outputs": [
    {
     "data": {
      "text/plain": [
       "SVC(kernel='linear')"
      ]
     },
     "execution_count": 293,
     "metadata": {},
     "output_type": "execute_result"
    }
   ],
   "source": [
    "#instantiate and fit a basic support vector classifier\n",
    "svm = SVC(kernel='linear')\n",
    "svm.fit(X_train_vectorized_7, y_train)"
   ]
  },
  {
   "cell_type": "code",
   "execution_count": 295,
   "metadata": {},
   "outputs": [
    {
     "name": "stdout",
     "output_type": "stream",
     "text": [
      "train acc:  0.948266253869969\n",
      "val acc:  0.9443859649122807\n"
     ]
    }
   ],
   "source": [
    "print_train_val_acc(svm, X_train_vectorized_7, X_val_vectorized_7)"
   ]
  },
  {
   "cell_type": "markdown",
   "metadata": {},
   "source": [
    "### Logistic Regression"
   ]
  },
  {
   "cell_type": "code",
   "execution_count": 45,
   "metadata": {},
   "outputs": [
    {
     "data": {
      "text/plain": [
       "LogisticRegression()"
      ]
     },
     "execution_count": 45,
     "metadata": {},
     "output_type": "execute_result"
    }
   ],
   "source": [
    "#instantiate and fit a basic logistic regression classifier\n",
    "lg = LogisticRegression()\n",
    "lg.fit(X_train_vectorized_7, y_train)"
   ]
  },
  {
   "cell_type": "code",
   "execution_count": 46,
   "metadata": {},
   "outputs": [
    {
     "name": "stdout",
     "output_type": "stream",
     "text": [
      "train acc:  0.9564705882352941\n",
      "val acc:  0.9531578947368421\n"
     ]
    }
   ],
   "source": [
    "print_train_val_acc(lg, X_train_vectorized_7, X_val_vectorized_7)"
   ]
  },
  {
   "cell_type": "markdown",
   "metadata": {},
   "source": [
    "### Random Forest"
   ]
  },
  {
   "cell_type": "code",
   "execution_count": 211,
   "metadata": {},
   "outputs": [
    {
     "data": {
      "text/plain": [
       "RandomForestClassifier()"
      ]
     },
     "execution_count": 211,
     "metadata": {},
     "output_type": "execute_result"
    }
   ],
   "source": [
    "#instantiate and fit a basic random forest classifier\n",
    "rf = RandomForestClassifier()\n",
    "rf.fit(X_train_vectorized_7, y_train)"
   ]
  },
  {
   "cell_type": "code",
   "execution_count": 212,
   "metadata": {},
   "outputs": [
    {
     "name": "stdout",
     "output_type": "stream",
     "text": [
      "train acc:  0.9996284829721362\n",
      "val acc:  0.9508771929824561\n"
     ]
    }
   ],
   "source": [
    "print_train_val_acc(rf, X_train_vectorized_7, X_val_vectorized_7)"
   ]
  },
  {
   "cell_type": "markdown",
   "metadata": {},
   "source": [
    "### XGBoost"
   ]
  },
  {
   "cell_type": "code",
   "execution_count": 207,
   "metadata": {},
   "outputs": [
    {
     "data": {
      "text/plain": [
       "XGBClassifier(base_score=0.5, booster='gbtree', colsample_bylevel=1,\n",
       "              colsample_bynode=1, colsample_bytree=1, gamma=0, gpu_id=-1,\n",
       "              importance_type='gain', interaction_constraints='',\n",
       "              learning_rate=0.300000012, max_delta_step=0, max_depth=6,\n",
       "              min_child_weight=1, missing=nan, monotone_constraints='()',\n",
       "              n_estimators=100, n_jobs=0, num_parallel_tree=1, random_state=0,\n",
       "              reg_alpha=0, reg_lambda=1, scale_pos_weight=1, subsample=1,\n",
       "              tree_method='exact', validate_parameters=1, verbosity=None)"
      ]
     },
     "execution_count": 207,
     "metadata": {},
     "output_type": "execute_result"
    }
   ],
   "source": [
    "#instantiate a baseline XGBoost Classifier\n",
    "xgb = XGBClassifier()\n",
    "xgb.fit(X_train_vectorized_7, y_train)"
   ]
  },
  {
   "cell_type": "code",
   "execution_count": 208,
   "metadata": {},
   "outputs": [
    {
     "name": "stdout",
     "output_type": "stream",
     "text": [
      "train acc:  0.9902167182662539\n",
      "val acc:  0.9535087719298245\n"
     ]
    }
   ],
   "source": [
    "print_train_val_acc(xgb, X_train_vectorized_7, X_val_vectorized_7)"
   ]
  },
  {
   "cell_type": "markdown",
   "metadata": {},
   "source": [
    "The XGBoost classifier produced the highest validation accuracy, however is slightly over-fit. A hyperparameter grid search will be run to try to further increase the validation accuracy and decrease the over-fitting."
   ]
  },
  {
   "cell_type": "code",
   "execution_count": 300,
   "metadata": {},
   "outputs": [
    {
     "name": "stdout",
     "output_type": "stream",
     "text": [
      "Grid Search found the following optimal parameters: \n",
      "learning_rate: 0.1\n",
      "max_depth: 6\n",
      "min_child_weight: 2\n",
      "n_estimators: 100\n",
      "subsample: 0.5\n"
     ]
    }
   ],
   "source": [
    "#define parameter grid for search\n",
    "xgb_param_grid = {\n",
    "    'learning_rate': [0.1, 0.2],\n",
    "    'max_depth': [2,4,6],\n",
    "    'min_child_weight': [1, 2],\n",
    "    'subsample': [0.2, 0.5],\n",
    "    'n_estimators': [100],\n",
    "}\n",
    "\n",
    "#insantiate and fit search object\n",
    "grid_xgb = GridSearchCV(xgb,\n",
    "                        xgb_param_grid,\n",
    "                        scoring='accuracy',\n",
    "                        cv=3, n_jobs=1,\n",
    "                        refit='accuracy',\n",
    "                        return_train_score=True)\n",
    "\n",
    "grid_xgb.fit(X_train_vectorized_4, y_train)\n",
    "\n",
    "#print best parameters\n",
    "best_parameters = grid_xgb.best_params_\n",
    "print('Grid Search found the following optimal parameters: ')\n",
    "for param_name in sorted(best_parameters.keys()):\n",
    "    print('%s: %r' % (param_name, best_parameters[param_name]))"
   ]
  },
  {
   "cell_type": "code",
   "execution_count": 47,
   "metadata": {},
   "outputs": [
    {
     "name": "stdout",
     "output_type": "stream",
     "text": [
      "[18:03:03] WARNING: ..\\src\\learner.cc:1115: Starting in XGBoost 1.3.0, the default evaluation metric used with the objective 'binary:logistic' was changed from 'error' to 'logloss'. Explicitly set eval_metric if you'd like to restore the old behavior.\n"
     ]
    },
    {
     "data": {
      "text/plain": [
       "XGBClassifier(base_score=0.5, booster='gbtree', colsample_bylevel=1,\n",
       "              colsample_bynode=1, colsample_bytree=1, enable_categorical=False,\n",
       "              gamma=0, gpu_id=-1, importance_type=None,\n",
       "              interaction_constraints='', learning_rate=0.1, max_delta_step=0,\n",
       "              max_depth=6, min_child_weight=2, missing=nan,\n",
       "              monotone_constraints='()', n_estimators=100, n_jobs=8,\n",
       "              num_parallel_tree=1, predictor='auto', random_state=0,\n",
       "              reg_alpha=0, reg_lambda=1, scale_pos_weight=1, subsample=0.5,\n",
       "              tree_method='exact', validate_parameters=1, verbosity=None)"
      ]
     },
     "execution_count": 47,
     "metadata": {},
     "output_type": "execute_result"
    }
   ],
   "source": [
    "#instantiate a XGBoost Classifier with optimal parameters\n",
    "xgb2 = XGBClassifier(learning_rate=0.1,\n",
    "                   max_depth=6,\n",
    "                   min_child_weight=2,\n",
    "                   n_estimators=100,\n",
    "                   subsample=0.5)\n",
    "xgb2.fit(X_train_vectorized_7, y_train)"
   ]
  },
  {
   "cell_type": "code",
   "execution_count": 48,
   "metadata": {
    "scrolled": true
   },
   "outputs": [
    {
     "name": "stdout",
     "output_type": "stream",
     "text": [
      "train acc:  0.9778947368421053\n",
      "val acc:  0.9610526315789474\n"
     ]
    }
   ],
   "source": [
    "print_train_val_acc(xgb2, X_train_vectorized_7, X_val_vectorized_7)"
   ]
  },
  {
   "cell_type": "markdown",
   "metadata": {},
   "source": [
    "Tuning the xgboost hyperparameters did decrease the over-fitting and increase the validation accuracy. This will be the final model."
   ]
  },
  {
   "cell_type": "markdown",
   "metadata": {},
   "source": [
    "## Final Evaluation\n",
    "Now that the best data features, vectorization, and classifier options have been selected, the final model is evaluated on the holdout test dataset."
   ]
  },
  {
   "cell_type": "code",
   "execution_count": 49,
   "metadata": {},
   "outputs": [],
   "source": [
    "# define final model and vectoize test datset\n",
    "final_model = xgb2\n",
    "X_test_vec_final = count_vec_7.transform(X_test)"
   ]
  },
  {
   "cell_type": "code",
   "execution_count": 50,
   "metadata": {},
   "outputs": [
    {
     "name": "stdout",
     "output_type": "stream",
     "text": [
      "Final Model Test Accuracy:  0.959737548464062\n"
     ]
    }
   ],
   "source": [
    "# calculate final model testing accuracy\n",
    "test_preds= final_model.predict(X_test_vec_final)\n",
    "\n",
    "print(\"Final Model Test Accuracy: \", accuracy_score(test_preds, y_test))"
   ]
  },
  {
   "cell_type": "code",
   "execution_count": 51,
   "metadata": {
    "scrolled": true
   },
   "outputs": [],
   "source": [
    "#define final model confusion matrix\n",
    "final_cm = confusion_matrix(y_test, test_preds)"
   ]
  },
  {
   "cell_type": "code",
   "execution_count": 52,
   "metadata": {},
   "outputs": [
    {
     "data": {
      "image/png": "[encoded data removed]",
      "text/plain": [
       "<Figure size 720x504 with 2 Axes>"
      ]
     },
     "metadata": {
      "needs_background": "light"
     },
     "output_type": "display_data"
    }
   ],
   "source": [
    "# plot confusion matrix of final model\n",
    "df_cm = pd.DataFrame(final_cm, index = ['Fake', 'Real'],\n",
    "                  columns = ['Fake', 'Real'])\n",
    "fig, ax = plt.subplots(figsize=(10,7))\n",
    "ax = sn.heatmap(df_cm, annot=True, annot_kws={'fontsize': 16}, cmap='Blues', fmt='g');\n",
    "ax.set_xlabel('Predicted Label', fontsize=14);\n",
    "ax.set_ylabel('True Label', fontsize=14);\n",
    "plt.title('Final Model Confusion Matrix', fontsize=16);"
   ]
  },
  {
   "cell_type": "code",
   "execution_count": 149,
   "metadata": {},
   "outputs": [],
   "source": [
    "# baseline confusion matrix for comparison to final model\n",
    "baseline_preds = baseline_model.predict(X_val_vectorized_baseline)\n",
    "baseline_cm = confusion_matrix(y_val, baseline_preds)"
   ]
  },
  {
   "cell_type": "code",
   "execution_count": 150,
   "metadata": {},
   "outputs": [
    {
     "data": {
      "image/png": "[encoded data removed]",
      "text/plain": [
       "<Figure size 720x504 with 2 Axes>"
      ]
     },
     "metadata": {
      "needs_background": "light"
     },
     "output_type": "display_data"
    }
   ],
   "source": [
    "# plot confusion matrix of final model\n",
    "df_baseline_cm = pd.DataFrame(baseline_cm, index = ['Fake', 'Real'],\n",
    "                  columns = ['Fake', 'Real'])\n",
    "fig, ax = plt.subplots(figsize=(10,7))\n",
    "ax = sn.heatmap(df_baseline_cm, annot=True, annot_kws={'fontsize': 16}, cmap='Blues', fmt='g');\n",
    "ax.set_xlabel('Predicted Label', fontsize=14);\n",
    "ax.set_ylabel('True Label', fontsize=14);\n",
    "plt.title('Baseline Model Confusion Matrix', fontsize=16);"
   ]
  },
  {
   "cell_type": "markdown",
   "metadata": {},
   "source": [
    "## Conclusion\n",
    "\n",
    "- **Use model to identify and remove fake news articles from platform:** With a 96% accuracy, facebook can confidently and quickly identify fake news articles being shared and remove them from the platform.\n",
    "- **Provide warnings to users that fake articles have a higher rate of references of political figures:** The word frequency distributions show that fake news article reference political figures more often the real articles. \n",
    "- **Use model to provide a verification tag to real articles:** facebook can use this model to confirm the validity of shared articles and tag them as real so that users know they can trust the article."
   ]
  },
  {
   "cell_type": "markdown",
   "metadata": {},
   "source": [
    "## Next Steps\n",
    "- **Expand dataset to include more news categories:** Most of the news articles used in this model relate to domestic and international politics. Expanding the dataset to include categories such as sports, science, and entertainment would be useful.\n",
    "- **Further model iteration using different NLP techniques:** Other feature engineering techniques such as lemmatization and point-wise mutual information score could be used to increase the model accuracy. A neural network could be also be tried to improve classification accuracy.\n",
    "- **Determine if similar model can be constructed using only article titles:** the current model uses the full text from articles. A model that uses the title could be more efficient. "
   ]
  }
 ],
 "metadata": {
  "kernelspec": {
   "display_name": "Python 3",
   "language": "python",
   "name": "python3"
  },
  "language_info": {
   "codemirror_mode": {
    "name": "ipython",
    "version": 3
   },
   "file_extension": ".py",
   "mimetype": "text/x-python",
   "name": "python",
   "nbconvert_exporter": "python",
   "pygments_lexer": "ipython3",
   "version": "3.8.5"
  },
  "toc": {
   "base_numbering": 1,
   "nav_menu": {},
   "number_sections": true,
   "sideBar": true,
   "skip_h1_title": false,
   "title_cell": "Table of Contents",
   "title_sidebar": "Contents",
   "toc_cell": false,
   "toc_position": {},
   "toc_section_display": true,
   "toc_window_display": false
  }
 },
 "nbformat": 4,
 "nbformat_minor": 4
}
